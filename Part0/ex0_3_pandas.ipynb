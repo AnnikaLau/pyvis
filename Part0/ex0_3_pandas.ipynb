{
 "cells": [
  {
   "cell_type": "markdown",
   "metadata": {},
   "source": [
    "# Exercise 0.2 - pandas\n",
    "prepared by M.Hauser"
   ]
  },
  {
   "cell_type": "markdown",
   "metadata": {},
   "source": [
    "[pandas](https://pandas.pydata.org/) is a \"Python package providing fast, flexible, and expressive data structures designed to make working with “relational” or “labeled” data both easy and intuitive. It aims to be the fundamental high-level building block for doing practical, real world data analysis in Python. Additionally, it has the broader goal of becoming the most powerful and flexible open source data analysis / manipulation tool available in any language.\""
   ]
  },
  {
   "cell_type": "markdown",
   "metadata": {},
   "source": [
    "Thus, pandas provides R-like data structures, e.g. a `DataFrame`, and associated methods. As pandas is concentrating on the handling of 2D data, I'am not a heavy user of this library. However, some of it's functionality is very handy."
   ]
  },
  {
   "cell_type": "markdown",
   "metadata": {},
   "source": [
    "A more comprehensive introduction is given in [10 Minutes to pandas](https://pandas.pydata.org/pandas-docs/stable/10min.html)."
   ]
  },
  {
   "cell_type": "code",
   "execution_count": null,
   "metadata": {},
   "outputs": [],
   "source": [
    "# pandas is conventionally abbreviated as `pd`\n",
    "import pandas as pd\n",
    "\n",
    "import numpy as np"
   ]
  },
  {
   "cell_type": "markdown",
   "metadata": {},
   "source": [
    "## Data types"
   ]
  },
  {
   "cell_type": "markdown",
   "metadata": {},
   "source": [
    "### Series\n",
    "\n",
    "Series are 1-dimensional, and each element is labeled, in our example with 'a', 'b', .... The axis labels are collectively referred to as the index. \n"
   ]
  },
  {
   "cell_type": "code",
   "execution_count": null,
   "metadata": {},
   "outputs": [],
   "source": [
    "s = pd.Series(np.random.randn(5), index=['a', 'b', 'c', 'd', 'e'])\n",
    "\n",
    "s"
   ]
  },
  {
   "cell_type": "markdown",
   "metadata": {},
   "source": [
    "### DataFrame\n",
    "\n",
    "DataFrame is the most common data type of pandas. It is 2-dimensional, has an index and (potentially) several colums."
   ]
  },
  {
   "cell_type": "code",
   "execution_count": null,
   "metadata": {},
   "outputs": [],
   "source": [
    "dates = pd.date_range('2013-01-28', periods=6)\n",
    "\n",
    "df = pd.DataFrame(np.random.randn(6,4), index=dates, columns=list('ABCD'))\n",
    "\n",
    "df"
   ]
  },
  {
   "cell_type": "markdown",
   "metadata": {},
   "source": [
    "## Selection\n",
    "\n",
    "There are various ways to select data, see the [introduction](https://pandas.pydata.org/pandas-docs/stable/10min.html#selection)."
   ]
  },
  {
   "cell_type": "code",
   "execution_count": null,
   "metadata": {},
   "outputs": [],
   "source": [
    "# select the column named 'A'\n",
    "\n",
    "df['A']\n",
    "\n",
    "# this yields a 'Series' object "
   ]
  },
  {
   "cell_type": "code",
   "execution_count": null,
   "metadata": {},
   "outputs": [],
   "source": [
    "# select the column named 'A'\n",
    "\n",
    "df[['A']]\n",
    "\n",
    "# this yields a 'DataFrame' object with only a single column."
   ]
  },
  {
   "cell_type": "code",
   "execution_count": null,
   "metadata": {},
   "outputs": [],
   "source": [
    "# select a single date\n",
    "\n",
    "df.loc['2013-01-30', :]"
   ]
  },
  {
   "cell_type": "code",
   "execution_count": null,
   "metadata": {},
   "outputs": [],
   "source": [
    "# select a single all days in a month\n",
    "\n",
    "df.loc['2013-01', :]"
   ]
  },
  {
   "cell_type": "code",
   "execution_count": null,
   "metadata": {},
   "outputs": [],
   "source": [
    "# select two columns\n",
    "\n",
    "df.loc[:, ['A', 'B']]"
   ]
  },
  {
   "cell_type": "code",
   "execution_count": null,
   "metadata": {},
   "outputs": [],
   "source": [
    "# if you want to select by position and not by label you have to use .iloc\n",
    "\n",
    "df.iloc[0:3, [0, 1]]"
   ]
  },
  {
   "cell_type": "code",
   "execution_count": null,
   "metadata": {},
   "outputs": [],
   "source": [
    "# item assignment can also be done\n",
    "\n",
    "df.iloc[3, 1] = np.NaN\n",
    "\n",
    "df.loc['2013-02', 'D'] = np.NaN\n",
    "\n",
    "df"
   ]
  },
  {
   "cell_type": "markdown",
   "metadata": {},
   "source": [
    "## Computation\n",
    "\n"
   ]
  },
  {
   "cell_type": "code",
   "execution_count": null,
   "metadata": {},
   "outputs": [],
   "source": [
    "# it's easy to compute statistics of the data\n",
    "\n",
    "df.mean()"
   ]
  },
  {
   "cell_type": "markdown",
   "metadata": {},
   "source": [
    "Missing values (`NaN`) are generally left out. Unless explicitely included:"
   ]
  },
  {
   "cell_type": "code",
   "execution_count": null,
   "metadata": {},
   "outputs": [],
   "source": [
    "df.mean(skipna=False)"
   ]
  },
  {
   "cell_type": "code",
   "execution_count": null,
   "metadata": {},
   "outputs": [],
   "source": [
    "# the mean can also be taken over the columns\n",
    "\n",
    "df.mean(axis=1)"
   ]
  },
  {
   "cell_type": "markdown",
   "metadata": {},
   "source": [
    "### Exercises\n",
    "\n",
    " * What happens if we add a column named 'E', and only assign a value for the first day? (Hint: `df.loc['2013-01-28', 'E'] = 5`)\n",
    " * Add a new column named 'F' with where all values are 2.\n",
    " * From what you know, calculate the standard deviation of the values in February, for all columns."
   ]
  },
  {
   "cell_type": "code",
   "execution_count": null,
   "metadata": {},
   "outputs": [],
   "source": [
    "# all the other rows are NaN\n",
    "# f.loc[:, 'F'] = 2\n",
    "# df.loc['2013-02' , :].std()"
   ]
  },
  {
   "cell_type": "markdown",
   "metadata": {},
   "source": [
    "## Reading comma seperated values (csv) from a file"
   ]
  },
  {
   "cell_type": "markdown",
   "metadata": {},
   "source": [
    "For the rest of the exercise we use measurements of the atmospheric CO<sub>2</sub> concentration from Mauna Loa, Hawaii (Keeling & Whorf 2004), see how the [data was prepared](./../data/prepare_CO2_mauna_loa.ipynb).\n",
    "\n",
    "The CO$_2$ data is saved in a .csv file:"
   ]
  },
  {
   "cell_type": "code",
   "execution_count": null,
   "metadata": {},
   "outputs": [],
   "source": [
    "# we first take a look at the data\n",
    "\n",
    "! head ./../data/co2.csv\n",
    "\n",
    "# \"!\" executes a system command"
   ]
  },
  {
   "cell_type": "code",
   "execution_count": null,
   "metadata": {},
   "outputs": [],
   "source": [
    "# alternative way to print the head of the file\n",
    "\n",
    "fN = './../data/co2.csv'\n",
    "\n",
    "with open(fN) as fid:\n",
    "    for i in range(10):\n",
    "        print(fid.readline(), end='')\n"
   ]
  },
  {
   "cell_type": "markdown",
   "metadata": {},
   "source": [
    "pandas has a powerful function to read from .csv files, `pd.read_csv`, let's display the documentation:"
   ]
  },
  {
   "cell_type": "code",
   "execution_count": null,
   "metadata": {},
   "outputs": [],
   "source": [
    "pd.read_csv?"
   ]
  },
  {
   "cell_type": "markdown",
   "metadata": {},
   "source": [
    "Althought the defaults are quite good, it usually requires some tweaking... (I always need to check the documentation...). \n",
    "\n",
    "For our file we need to pass at least the filename (fN) and the number of the header row, (which gives the name for the column, here 'co2'). Because python is zero-based this is line number 6 - 1 = 5, thus, we pass `header=5`."
   ]
  },
  {
   "cell_type": "code",
   "execution_count": null,
   "metadata": {},
   "outputs": [],
   "source": [
    "co2_prelim = pd.read_csv(fN, header=5)\n",
    "\n",
    "co2_prelim.head(3)"
   ]
  },
  {
   "cell_type": "code",
   "execution_count": null,
   "metadata": {},
   "outputs": [],
   "source": [
    "# let's check how the date format is saved\n",
    "\n",
    "print('The first date', co2_prelim.iloc[0, 0])\n",
    "print('The type of the date', type(co2_prelim.iloc[0, 0]))"
   ]
  },
  {
   "cell_type": "markdown",
   "metadata": {},
   "source": [
    "This is not entirely what we want, yet.\n",
    "\n",
    " * We want the labels to be the (time) axis, and not numbers. Therefore we have to choose `index_col=0`, which uses the first column as index.\n",
    " * We also want the time axis to be a pandas [`DateTimeIndex`](https://pandas.pydata.org/pandas-docs/stable/generated/pandas.DatetimeIndex.html), and not a string. Thus, we use `parse_dates=True`.\n",
    " \n",
    "See `pd.read_csv?` for details."
   ]
  },
  {
   "cell_type": "code",
   "execution_count": null,
   "metadata": {},
   "outputs": [],
   "source": [
    "co2 = pd.read_csv(fN, index_col=0, parse_dates=True, header=5)\n",
    "\n",
    "co2.head()"
   ]
  },
  {
   "cell_type": "code",
   "execution_count": null,
   "metadata": {},
   "outputs": [],
   "source": [
    "co2.index"
   ]
  },
  {
   "cell_type": "markdown",
   "metadata": {},
   "source": [
    "## Time Series\n",
    "\n",
    "pandas has very powerful [time series functionality](https://pandas.pydata.org/pandas-docs/stable/10min.html#time-series). We already saw the selection of months by using `df.loc['2013-02', :]`. `resample` is another, very helpful function. We can use it to convert the weekly CO$_2$ time series to a monthly time series:"
   ]
  },
  {
   "cell_type": "code",
   "execution_count": null,
   "metadata": {},
   "outputs": [],
   "source": [
    "co2_monthly = co2.resample('M').mean()\n",
    "\n",
    "co2_monthly.head()"
   ]
  },
  {
   "cell_type": "markdown",
   "metadata": {},
   "source": [
    "Another time series functionality I often use, is [`date_range`](https://pandas.pydata.org/pandas-docs/stable/generated/pandas.date_range.html). It can be used to construct `DatetimeIndex` with a fixed frequency."
   ]
  },
  {
   "cell_type": "code",
   "execution_count": null,
   "metadata": {},
   "outputs": [],
   "source": [
    "# every day of the year 2000\n",
    "pd.date_range('2000-01-01', '2000-12-31')"
   ]
  },
  {
   "cell_type": "code",
   "execution_count": null,
   "metadata": {},
   "outputs": [],
   "source": [
    "# alternatively\n",
    "pd.date_range('2000-01-01', periods=365)"
   ]
  },
  {
   "cell_type": "code",
   "execution_count": null,
   "metadata": {},
   "outputs": [],
   "source": [
    "# every month of the year 2000\n",
    "pd.date_range('2000-01-01', '2000-12-31', freq='M')"
   ]
  },
  {
   "cell_type": "code",
   "execution_count": null,
   "metadata": {},
   "outputs": [],
   "source": [
    "# every second month of the year 2000\n",
    "pd.date_range('2000-01-01', '2000-12-31', freq='2M')"
   ]
  },
  {
   "cell_type": "markdown",
   "metadata": {},
   "source": [
    "### Exercises\n",
    "\n",
    "* Calculate annual mean CO$_2$. (Hint: [offset aliases](http://pandas.pydata.org/pandas-docs/stable/timeseries.html#offset-aliases))\n",
    "* Create a `DatetimeIndex` from 01.05.2000 to 31.05.2000 with a half-hourly frequency.\n",
    "* Calculate the standard deviation of `df` for each month again, this time using `resample`."
   ]
  },
  {
   "cell_type": "code",
   "execution_count": null,
   "metadata": {},
   "outputs": [],
   "source": []
  },
  {
   "cell_type": "code",
   "execution_count": null,
   "metadata": {},
   "outputs": [],
   "source": [
    "# co2.resample('A').mean()\n",
    "# pd.date_range('2000-05-01', '2000-05-31', freq='30min')\n",
    "# df.resample('M').std()"
   ]
  },
  {
   "cell_type": "code",
   "execution_count": null,
   "metadata": {},
   "outputs": [],
   "source": []
  }
 ],
 "metadata": {
  "kernelspec": {
   "display_name": "Python 3",
   "language": "python",
   "name": "python3"
  },
  "language_info": {
   "codemirror_mode": {
    "name": "ipython",
    "version": 3
   },
   "file_extension": ".py",
   "mimetype": "text/x-python",
   "name": "python",
   "nbconvert_exporter": "python",
   "pygments_lexer": "ipython3",
   "version": "3.6.3"
  }
 },
 "nbformat": 4,
 "nbformat_minor": 2
}
