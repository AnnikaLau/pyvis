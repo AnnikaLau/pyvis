{
 "cells": [
  {
   "cell_type": "markdown",
   "metadata": {},
   "source": [
    "<font size=\"6\"><b>Scientific Visualization using Python 2020</b></font>\n",
    "\n",
    "<font size=\"3\"> October 20-23: 09:00 - 13:00 </b></font>\n",
    "\n",
    "<img src=\"../figures/summary/title.png\"   width=\"600\">"
   ]
  },
  {
   "cell_type": "markdown",
   "metadata": {},
   "source": [
    "<font size=\"3\">Day 1</b></font>"
   ]
  },
  {
   "cell_type": "markdown",
   "metadata": {},
   "source": [
    "- Introduction to some important data processing libraries\n",
    "- Getting started with Matplotlib"
   ]
  },
  {
   "cell_type": "markdown",
   "metadata": {},
   "source": [
    "<font size=\"5\"><b>Python Visualization Landscape</b></font>"
   ]
  },
  {
   "cell_type": "markdown",
   "metadata": {},
   "source": [
    "<img src=\"../figures/summary/viz_landscape_1.png\"   width=\"500\">"
   ]
  },
  {
   "cell_type": "markdown",
   "metadata": {},
   "source": [
    "<font size=\"4\">We will focus on:</font>"
   ]
  },
  {
   "cell_type": "markdown",
   "metadata": {},
   "source": [
    "<img src=\"../figures/summary/viz_landscape_2.png\"   width=\"500\">"
   ]
  },
  {
   "cell_type": "markdown",
   "metadata": {},
   "source": [
    "<br/><br/>\n",
    "<font size=\"5\"><b>A few Teasers</b></font>"
   ]
  },
  {
   "cell_type": "markdown",
   "metadata": {},
   "source": [
    "<img src=\"../figures/summary/figures_teaser/ex2_2_helper_functions.png\"   width=\"500\">\n",
    "<img src=\"../figures/summary/figures_teaser/ex1_6_annotations.png\"   width=\"500\">\n",
    "<img src=\"../figures/summary/figures_teaser/ex3_5_stippling_RPSS.png\"   width=\"500\">\n",
    "<img src=\"../figures/summary/figures_teaser/ex3_8_trajectories.png\"   width=\"500\">"
   ]
  },
  {
   "cell_type": "markdown",
   "metadata": {},
   "source": [
    "<font size=\"4\"><b>Checking if everything works!</b></font>"
   ]
  },
  {
   "cell_type": "markdown",
   "metadata": {},
   "source": [
    "### Integrated development environment\n",
    " - Jupyter notebooks (This is what we will use) (Exercise 0.1)\n",
    " - PyCharm\n",
    " - Spyder\n",
    " - Vim\n",
    " ....."
   ]
  },
  {
   "cell_type": "markdown",
   "metadata": {},
   "source": [
    "<b>Short warmup: Exercise 0.1</b>\n",
    "<br/><br/>\n",
    "Aim: Revising a few Python concepts and using Jupyter notebooks"
   ]
  },
  {
   "cell_type": "markdown",
   "metadata": {},
   "source": [
    "### Numpy \n",
    " - “NumPy is the fundamental package for scientific computing with python” – www.numpy.org\n",
    " - N-dimensional array"
   ]
  },
  {
   "cell_type": "code",
   "execution_count": 3,
   "metadata": {},
   "outputs": [],
   "source": [
    "import numpy as np"
   ]
  },
  {
   "cell_type": "code",
   "execution_count": 5,
   "metadata": {},
   "outputs": [
    {
     "name": "stdout",
     "output_type": "stream",
     "text": [
      "[[ 0  1  2  3  4]\n",
      " [ 5  6  7  8  9]\n",
      " [10 11 12 13 14]]\n"
     ]
    }
   ],
   "source": [
    "a = np.arange(15).reshape(3,5)\n",
    "print(a)"
   ]
  },
  {
   "cell_type": "code",
   "execution_count": 7,
   "metadata": {},
   "outputs": [
    {
     "data": {
      "text/plain": [
       "(3, 5)"
      ]
     },
     "execution_count": 7,
     "metadata": {},
     "output_type": "execute_result"
    }
   ],
   "source": [
    "a.shape"
   ]
  },
  {
   "cell_type": "markdown",
   "metadata": {},
   "source": [
    "<b>Exercise 0.2: Getting familiar with Numpy</b>"
   ]
  },
  {
   "cell_type": "markdown",
   "metadata": {},
   "source": [
    "### NetCDF\n",
    "\n",
    "- Python interface to the netCDF C library\n",
    "\n",
    "- Module to read & write netCDF (both ver. 3 & 4) files"
   ]
  },
  {
   "cell_type": "code",
   "execution_count": 30,
   "metadata": {},
   "outputs": [],
   "source": [
    "import netCDF4 as nc"
   ]
  },
  {
   "cell_type": "code",
   "execution_count": 33,
   "metadata": {},
   "outputs": [
    {
     "name": "stdout",
     "output_type": "stream",
     "text": [
      "<class 'netCDF4._netCDF4.Dataset'>\n",
      "root group (NETCDF4_CLASSIC data model, file format HDF5):\n",
      "    data: Growing season length\n",
      "    source: HadEX2 (http://www.climdex.org/)\n",
      "    reference: Donat et al., 2013\n",
      "    dimensions(sizes): lon(96), lat(73), time(50)\n",
      "    variables(dimensions): float64 lon(lon), float64 lat(lat), int32 time(time), float32 GSL(time, lat, lon), float64 trend(lat, lon), float64 p_val(lat, lon)\n",
      "    groups: \n"
     ]
    }
   ],
   "source": [
    "fN = '../data/HadEX2_GSL.nc'\n",
    "ncf = nc.Dataset(fN)\n",
    "print(ncf)"
   ]
  },
  {
   "cell_type": "code",
   "execution_count": 36,
   "metadata": {
    "scrolled": true
   },
   "outputs": [
    {
     "name": "stdout",
     "output_type": "stream",
     "text": [
      "<class 'netCDF4._netCDF4.Variable'>\n",
      "float64 trend(lat, lon)\n",
      "    _FillValue: nan\n",
      "unlimited dimensions: \n",
      "current shape = (73, 96)\n",
      "filling on\n",
      "[[-- -- -- -- 0.0020566136610928876 0.0020273329058180245\n",
      "  0.002149247882748284 -- 0.01941575946785279 --]\n",
      " [-- -- -- -- -- -- 0.00016648749343484148 -- -- --]\n",
      " [-- -- -- -- -- -- -- -- -- --]\n",
      " [-- -- -- -- -- -- -- -- -- --]\n",
      " [-- -- -- -- -- -- -- -- -- --]\n",
      " [-- -- -- -- -- -- -- -- -- --]\n",
      " [-- -- -- -- -- -- -- -- -- --]\n",
      " [-- -- -- -- -- -- -- -- -- --]\n",
      " [-- -- -- -- -- -- -- -- -- --]\n",
      " [-- -- -- -- -- -- -- -- -- --]]\n"
     ]
    }
   ],
   "source": [
    "trend = ncf.variables['trend']\n",
    "\n",
    "print(trend)\n",
    "\n",
    "print(trend[30:40,30:40])"
   ]
  },
  {
   "cell_type": "markdown",
   "metadata": {},
   "source": [
    "<b>Exercise 0.2: Getting familiar with Numpy</b>\n",
    "\n",
    "<b>Exercise 0.3: Reading NetCDF data</b>"
   ]
  },
  {
   "cell_type": "markdown",
   "metadata": {},
   "source": [
    "### Xarray\n",
    "\n",
    "- Multidimensional labeled arrays\n",
    "\n",
    "- combines a netCDF-like data model with capabilities of pandas"
   ]
  },
  {
   "cell_type": "code",
   "execution_count": 37,
   "metadata": {},
   "outputs": [],
   "source": [
    "import xarray as xr"
   ]
  },
  {
   "cell_type": "code",
   "execution_count": 38,
   "metadata": {},
   "outputs": [
    {
     "name": "stdout",
     "output_type": "stream",
     "text": [
      "<xarray.Dataset>\n",
      "Dimensions:  (lat: 73, lon: 96, time: 50)\n",
      "Coordinates:\n",
      "  * lon      (lon) float64 0.0 3.75 7.5 11.25 15.0 ... 345.0 348.8 352.5 356.2\n",
      "  * lat      (lat) float64 -90.0 -87.5 -85.0 -82.5 -80.0 ... 82.5 85.0 87.5 90.0\n",
      "  * time     (time) datetime64[ns] 1956-01-01 1957-01-01 ... 2005-01-01\n",
      "Data variables:\n",
      "    GSL      (time, lat, lon) float32 ...\n",
      "    trend    (lat, lon) float64 ...\n",
      "    p_val    (lat, lon) float64 ...\n",
      "Attributes:\n",
      "    data:       Growing season length\n",
      "    source:     HadEX2 (http://www.climdex.org/)\n",
      "    reference:  Donat et al., 2013\n"
     ]
    }
   ],
   "source": [
    "fN = '../data/HadEX2_GSL.nc'\n",
    "\n",
    "ds = xr.open_dataset(fN)\n",
    "\n",
    "print(ds)"
   ]
  },
  {
   "cell_type": "code",
   "execution_count": 39,
   "metadata": {},
   "outputs": [
    {
     "data": {
      "text/plain": [
       "<xarray.DataArray 'trend' (lat: 73, lon: 96)>\n",
       "array([[nan, nan, nan, ..., nan, nan, nan],\n",
       "       [nan, nan, nan, ..., nan, nan, nan],\n",
       "       [nan, nan, nan, ..., nan, nan, nan],\n",
       "       ...,\n",
       "       [nan, nan, nan, ..., nan, nan, nan],\n",
       "       [nan, nan, nan, ..., nan, nan, nan],\n",
       "       [nan, nan, nan, ..., nan, nan, nan]])\n",
       "Coordinates:\n",
       "  * lon      (lon) float64 0.0 3.75 7.5 11.25 15.0 ... 345.0 348.8 352.5 356.2\n",
       "  * lat      (lat) float64 -90.0 -87.5 -85.0 -82.5 -80.0 ... 82.5 85.0 87.5 90.0"
      ]
     },
     "execution_count": 39,
     "metadata": {},
     "output_type": "execute_result"
    }
   ],
   "source": [
    "ds.trend"
   ]
  },
  {
   "cell_type": "code",
   "execution_count": 40,
   "metadata": {},
   "outputs": [
    {
     "data": {
      "text/plain": [
       "<xarray.DataArray 'trend' (lat: 9, lon: 6)>\n",
       "array([[-0.013822, -0.017993,  0.028642,  0.068076,  0.050725,  0.052645],\n",
       "       [ 0.042555, -0.08705 ,  0.044582,  0.072828,  0.033329,  0.08891 ],\n",
       "       [ 0.286903, -0.121509, -0.163817, -0.209337, -0.071513,  0.080229],\n",
       "       [ 0.20771 , -0.051205, -0.129159, -0.217335, -0.049765,  0.085104],\n",
       "       [ 0.126969,  0.000905,  0.014469,  0.052174,  0.166199,  0.24968 ],\n",
       "       [ 0.080082,  0.036576,  0.072964,  0.082449,  0.183254,  0.271937],\n",
       "       [ 0.209573,  0.201362,  0.147796,  0.125882,  0.153077,       nan],\n",
       "       [ 0.191687,  0.171211,  0.084009,  0.078607, -0.008008,       nan],\n",
       "       [ 0.13068 ,  0.106646,  0.065728,  0.041136, -0.049716, -0.080854]])\n",
       "Coordinates:\n",
       "  * lon      (lon) float64 255.0 258.8 262.5 266.2 270.0 273.8\n",
       "  * lat      (lat) float64 30.0 32.5 35.0 37.5 40.0 42.5 45.0 47.5 50.0"
      ]
     },
     "execution_count": 40,
     "metadata": {},
     "output_type": "execute_result"
    }
   ],
   "source": [
    "lat = slice(30,50)\n",
    "\n",
    "lon = slice(360-105, 360-85)\n",
    "\n",
    "ds.trend.sel(lat=lat, lon=lon)"
   ]
  },
  {
   "cell_type": "markdown",
   "metadata": {},
   "source": [
    "### Pandas\n",
    "- Statistical package for “labeled” data\n",
    "\n",
    "- Provides an R-like DataFrame"
   ]
  },
  {
   "cell_type": "code",
   "execution_count": 41,
   "metadata": {},
   "outputs": [],
   "source": [
    "import pandas as pd"
   ]
  },
  {
   "cell_type": "code",
   "execution_count": 42,
   "metadata": {},
   "outputs": [
    {
     "data": {
      "text/plain": [
       "DatetimeIndex(['2013-01-01', '2013-01-02', '2013-01-03', '2013-01-04',\n",
       "               '2013-01-05', '2013-01-06'],\n",
       "              dtype='datetime64[ns]', freq='D')"
      ]
     },
     "execution_count": 42,
     "metadata": {},
     "output_type": "execute_result"
    }
   ],
   "source": [
    "dates = pd.date_range('20130101', periods=6)\n",
    "dates"
   ]
  },
  {
   "cell_type": "code",
   "execution_count": 44,
   "metadata": {},
   "outputs": [
    {
     "data": {
      "text/html": [
       "<div>\n",
       "<style scoped>\n",
       "    .dataframe tbody tr th:only-of-type {\n",
       "        vertical-align: middle;\n",
       "    }\n",
       "\n",
       "    .dataframe tbody tr th {\n",
       "        vertical-align: top;\n",
       "    }\n",
       "\n",
       "    .dataframe thead th {\n",
       "        text-align: right;\n",
       "    }\n",
       "</style>\n",
       "<table border=\"1\" class=\"dataframe\">\n",
       "  <thead>\n",
       "    <tr style=\"text-align: right;\">\n",
       "      <th></th>\n",
       "      <th>A</th>\n",
       "      <th>B</th>\n",
       "      <th>C</th>\n",
       "      <th>D</th>\n",
       "    </tr>\n",
       "  </thead>\n",
       "  <tbody>\n",
       "    <tr>\n",
       "      <th>2013-01-01</th>\n",
       "      <td>0.101495</td>\n",
       "      <td>1.680337</td>\n",
       "      <td>0.493720</td>\n",
       "      <td>0.103922</td>\n",
       "    </tr>\n",
       "    <tr>\n",
       "      <th>2013-01-02</th>\n",
       "      <td>0.643077</td>\n",
       "      <td>0.045238</td>\n",
       "      <td>-1.861463</td>\n",
       "      <td>0.368117</td>\n",
       "    </tr>\n",
       "    <tr>\n",
       "      <th>2013-01-03</th>\n",
       "      <td>-1.093761</td>\n",
       "      <td>0.096083</td>\n",
       "      <td>-1.671314</td>\n",
       "      <td>-0.224084</td>\n",
       "    </tr>\n",
       "    <tr>\n",
       "      <th>2013-01-04</th>\n",
       "      <td>-0.921476</td>\n",
       "      <td>0.365818</td>\n",
       "      <td>0.616308</td>\n",
       "      <td>-0.442112</td>\n",
       "    </tr>\n",
       "    <tr>\n",
       "      <th>2013-01-05</th>\n",
       "      <td>-0.012086</td>\n",
       "      <td>0.815396</td>\n",
       "      <td>0.101439</td>\n",
       "      <td>1.656478</td>\n",
       "    </tr>\n",
       "    <tr>\n",
       "      <th>2013-01-06</th>\n",
       "      <td>0.389411</td>\n",
       "      <td>0.850273</td>\n",
       "      <td>-0.862893</td>\n",
       "      <td>0.685046</td>\n",
       "    </tr>\n",
       "  </tbody>\n",
       "</table>\n",
       "</div>"
      ],
      "text/plain": [
       "                   A         B         C         D\n",
       "2013-01-01  0.101495  1.680337  0.493720  0.103922\n",
       "2013-01-02  0.643077  0.045238 -1.861463  0.368117\n",
       "2013-01-03 -1.093761  0.096083 -1.671314 -0.224084\n",
       "2013-01-04 -0.921476  0.365818  0.616308 -0.442112\n",
       "2013-01-05 -0.012086  0.815396  0.101439  1.656478\n",
       "2013-01-06  0.389411  0.850273 -0.862893  0.685046"
      ]
     },
     "execution_count": 44,
     "metadata": {},
     "output_type": "execute_result"
    }
   ],
   "source": [
    "df = pd.DataFrame(np.random.randn(6,4), index=dates, columns=list('ABCD'))\n",
    "df"
   ]
  },
  {
   "cell_type": "code",
   "execution_count": null,
   "metadata": {},
   "outputs": [],
   "source": []
  }
 ],
 "metadata": {
  "kernelspec": {
   "display_name": "Python 3",
   "language": "python",
   "name": "python3"
  },
  "language_info": {
   "codemirror_mode": {
    "name": "ipython",
    "version": 3
   },
   "file_extension": ".py",
   "mimetype": "text/x-python",
   "name": "python",
   "nbconvert_exporter": "python",
   "pygments_lexer": "ipython3",
   "version": "3.6.11"
  },
  "toc": {
   "base_numbering": 1,
   "nav_menu": {},
   "number_sections": true,
   "sideBar": true,
   "skip_h1_title": false,
   "title_cell": "Table of Contents",
   "title_sidebar": "Contents",
   "toc_cell": false,
   "toc_position": {},
   "toc_section_display": true,
   "toc_window_display": false
  }
 },
 "nbformat": 4,
 "nbformat_minor": 4
}
