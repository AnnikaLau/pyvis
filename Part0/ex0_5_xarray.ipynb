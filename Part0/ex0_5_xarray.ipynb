{
 "cells": [
  {
   "cell_type": "markdown",
   "metadata": {},
   "source": [
    "# Exercise 0.4 - NetCDF files (using netCDF4)\n",
    "prepared by M.Hauser"
   ]
  },
  {
   "cell_type": "markdown",
   "metadata": {},
   "source": [
    "The `netCDF4` library is not the only library to load netCDFs. In this exercise we will get to know [xarray](http://xarray.pydata.org/en/stable/). `xarray` combines a netCDF-like data model with capabilities of [pandas](http://pandas.pydata.org/)."
   ]
  },
  {
   "cell_type": "code",
   "execution_count": null,
   "metadata": {},
   "outputs": [],
   "source": [
    "import xarray as xr\n",
    "\n",
    "import numpy as np"
   ]
  },
  {
   "cell_type": "markdown",
   "metadata": {},
   "source": [
    "We will again use the netCDF file with the growing season lenght (GSL), see [exercise 0.3](./ex0_3_netCDF4.ipynb).\n",
    "\n",
    "The data is described in Donat et al., [2013](http://onlinelibrary.wiley.com/doi/10.1002/jgrd.50150/abstract), and was obtained from http://www.climdex.org/. "
   ]
  },
  {
   "cell_type": "markdown",
   "metadata": {},
   "source": [
    "The data has already undergone some postprocessing - see [prepare_HadEX2_GSL](./../data/prepare_HadEX2_GSL.ipynb)"
   ]
  },
  {
   "cell_type": "markdown",
   "metadata": {},
   "source": [
    "## Opening a dataset"
   ]
  },
  {
   "cell_type": "code",
   "execution_count": null,
   "metadata": {},
   "outputs": [],
   "source": [
    "fN = './../data/HadEX2_GSL.nc'"
   ]
  },
  {
   "cell_type": "code",
   "execution_count": null,
   "metadata": {},
   "outputs": [],
   "source": [
    "ds = xr.open_dataset(fN)\n",
    "\n",
    "ds"
   ]
  },
  {
   "cell_type": "markdown",
   "metadata": {},
   "source": [
    "## Dataset vs DataArray\n",
    "\n",
    "xarray has two main types `Dataset` and `DataArray`. A `Dataset` is a collection of `DataArray`s.\n",
    "\n",
    "### Reading variables (`DataArray`s)\n",
    "\n",
    "With xarray, you can get variables with the dot notation (`ds.lat`) or dict-like (`ds['lat']`).\n"
   ]
  },
  {
   "cell_type": "code",
   "execution_count": null,
   "metadata": {},
   "outputs": [],
   "source": [
    "# get lat from the file, using dict-like indexing\n",
    "ds['lat'][:10]"
   ]
  },
  {
   "cell_type": "code",
   "execution_count": null,
   "metadata": {},
   "outputs": [],
   "source": [
    "# get lat from the file, using dot notation\n",
    "lat = ds.lat\n",
    "lat[:10]"
   ]
  },
  {
   "cell_type": "markdown",
   "metadata": {},
   "source": [
    "## Conversion to numpy array\n",
    "\n",
    "If you want an numpy array (instead of a xarray `DataArray`), you can use `lat.values`, or `np.array(lat)` (the second also works if you pass a numpy array)."
   ]
  },
  {
   "cell_type": "code",
   "execution_count": null,
   "metadata": {},
   "outputs": [],
   "source": [
    "print(lat.values[:10])\n",
    "\n",
    "print(np.array(lat.values)[:10])\n",
    "\n",
    "# this works\n",
    "print(np.array(lat.values)[:10])\n",
    "\n",
    "# this errors\n",
    "print(np.array(lat).values)"
   ]
  },
  {
   "cell_type": "code",
   "execution_count": null,
   "metadata": {},
   "outputs": [],
   "source": [
    "# load the trend\n",
    "trend = ds.trend\n",
    "# in contrast to netCDF4, the arrays are not masked but use NaN to denote invalid values.\n",
    "trend"
   ]
  },
  {
   "cell_type": "markdown",
   "metadata": {},
   "source": [
    "If you look at the output of `trend` again, you see how it shows 'Coordinates'. - xarray brings them along, which is super helpful, because it allows you to very easily subset data for certain regions. See later."
   ]
  },
  {
   "cell_type": "markdown",
   "metadata": {},
   "source": [
    "### Exercise\n",
    " * Get the longitude."
   ]
  },
  {
   "cell_type": "code",
   "execution_count": null,
   "metadata": {},
   "outputs": [],
   "source": []
  },
  {
   "cell_type": "markdown",
   "metadata": {},
   "source": [
    "### Solution"
   ]
  },
  {
   "cell_type": "code",
   "execution_count": null,
   "metadata": {},
   "outputs": [],
   "source": [
    "ds.lon"
   ]
  },
  {
   "cell_type": "markdown",
   "metadata": {},
   "source": [
    "## Time"
   ]
  },
  {
   "cell_type": "code",
   "execution_count": null,
   "metadata": {},
   "outputs": [],
   "source": [
    "ds.time[:10]"
   ]
  },
  {
   "cell_type": "markdown",
   "metadata": {},
   "source": [
    "`time` has already the correct format (which was quite annoying to obtain with netCDF)! This is also very helpful, see later."
   ]
  },
  {
   "cell_type": "markdown",
   "metadata": {},
   "source": [
    "## Subsetting data"
   ]
  },
  {
   "cell_type": "markdown",
   "metadata": {},
   "source": [
    "xarray can subset (select) data according to the coordinates very easily. Next, we select a region in Central North America (CNA)."
   ]
  },
  {
   "cell_type": "code",
   "execution_count": null,
   "metadata": {},
   "outputs": [],
   "source": [
    "# load the growing season length\n",
    "GSL = ds.GSL"
   ]
  },
  {
   "cell_type": "code",
   "execution_count": null,
   "metadata": {},
   "outputs": [],
   "source": [
    "# select a region in Central North America\n",
    "lat = slice(30, 50)\n",
    "lon = slice(360-105, 360-85)\n",
    "\n",
    "GSL_CNA = GSL.sel(lat=lat, lon=lon)\n",
    "\n",
    "print(GSL.shape)\n",
    "print(GSL_CNA.shape)\n",
    "print()\n",
    "print(GSL_CNA.lon)\n",
    "print()\n",
    "print(GSL_CNA.lat)"
   ]
  },
  {
   "cell_type": "markdown",
   "metadata": {},
   "source": [
    "### Exercise\n",
    "\n",
    "* Obtain a GSL time series for Switzerland (approx. 47° N, 8° E). (Hint: `method='nearest'`)."
   ]
  },
  {
   "cell_type": "code",
   "execution_count": null,
   "metadata": {},
   "outputs": [],
   "source": [
    "# code here"
   ]
  },
  {
   "cell_type": "markdown",
   "metadata": {},
   "source": [
    "### Solution"
   ]
  },
  {
   "cell_type": "code",
   "execution_count": null,
   "metadata": {},
   "outputs": [],
   "source": [
    "# solution\n",
    "\n",
    "lat = 47\n",
    "lon = 8\n",
    "\n",
    "GSL_CH = GSL.sel(lat=lat, lon=lon, method='nearest')\n",
    "GSL_CH"
   ]
  },
  {
   "cell_type": "markdown",
   "metadata": {},
   "source": [
    "## Computations (`mean` etc.)\n",
    "\n",
    "With numpy arrays you need to know which axis number corresponds to which dimension. If your data has the form `(time, lat lon)` you have to compute the time mean as `data.mean(axis=0)`. xarray allows to used the named coordinates, thus you can do `data.mean('time')`."
   ]
  },
  {
   "cell_type": "code",
   "execution_count": null,
   "metadata": {},
   "outputs": [],
   "source": [
    "GSL.mean('time')"
   ]
  },
  {
   "cell_type": "markdown",
   "metadata": {},
   "source": [
    "### Exercise\n",
    "\n",
    " * Compute the mean GSL over the Central North American domain.\n",
    " * Ensure that you still have the time dimension"
   ]
  },
  {
   "cell_type": "code",
   "execution_count": null,
   "metadata": {},
   "outputs": [],
   "source": []
  },
  {
   "cell_type": "markdown",
   "metadata": {},
   "source": [
    "### Solution\n",
    "\n",
    "Note that you can calculate the mean over more than one dimension, if put them in brackets:"
   ]
  },
  {
   "cell_type": "code",
   "execution_count": null,
   "metadata": {},
   "outputs": [],
   "source": [
    "GSL_CNA.mean(('lat', 'lon'))"
   ]
  }
 ],
 "metadata": {
  "kernelspec": {
   "display_name": "Python 3",
   "language": "python",
   "name": "python3"
  },
  "language_info": {
   "codemirror_mode": {
    "name": "ipython",
    "version": 3
   },
   "file_extension": ".py",
   "mimetype": "text/x-python",
   "name": "python",
   "nbconvert_exporter": "python",
   "pygments_lexer": "ipython3",
   "version": "3.6.3"
  }
 },
 "nbformat": 4,
 "nbformat_minor": 2
}
