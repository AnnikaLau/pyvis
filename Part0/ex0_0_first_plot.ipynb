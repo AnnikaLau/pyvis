{
 "cells": [
  {
   "cell_type": "markdown",
   "metadata": {},
   "source": [
    "# Exercise 0.0 - A first plot\n",
    "prepared by M.Hauser"
   ]
  },
  {
   "cell_type": "markdown",
   "metadata": {},
   "source": [
    "We start with a very simple example, so that you can create a first plot as fast as possible. This also helps to check if everything works on your computer.\n"
   ]
  },
  {
   "cell_type": "markdown",
   "metadata": {},
   "source": [
    "We need to import the `pyplot` library:"
   ]
  },
  {
   "cell_type": "code",
   "execution_count": null,
   "metadata": {},
   "outputs": [],
   "source": [
    "import matplotlib.pyplot as plt"
   ]
  },
  {
   "cell_type": "markdown",
   "metadata": {},
   "source": [
    "Apply some magic, so that the plot is shown in the notebook. (Functions that start with `%...` are only valid in IPython, and are actually called magic functions.)"
   ]
  },
  {
   "cell_type": "code",
   "execution_count": null,
   "metadata": {},
   "outputs": [],
   "source": [
    "%matplotlib inline"
   ]
  },
  {
   "cell_type": "code",
   "execution_count": null,
   "metadata": {},
   "outputs": [],
   "source": [
    "# define x & y\n",
    "\n",
    "x = [1, 2, 3, 4, 5]\n",
    "y = [0.7, 2.3, 1.2, 4.5, 3.0]\n",
    "\n",
    "plt.plot(x, y, color='steelblue', marker='d')"
   ]
  },
  {
   "cell_type": "markdown",
   "metadata": {},
   "source": [
    "### Exercise\n",
    " * change the color of the line to `'salmon'`"
   ]
  },
  {
   "cell_type": "code",
   "execution_count": null,
   "metadata": {},
   "outputs": [],
   "source": [
    "# define x & y\n",
    "\n",
    "x = [1, 2, 3, 4, 5]\n",
    "y = [0.7, 2.3, 1.2, 4.5, 3.0]\n",
    "\n",
    "# change color\n",
    "plt.plot(x, y, color='steelblue', marker='d')"
   ]
  },
  {
   "cell_type": "markdown",
   "metadata": {},
   "source": [
    "### Solution"
   ]
  },
  {
   "cell_type": "code",
   "execution_count": null,
   "metadata": {
    "hide_input": false
   },
   "outputs": [],
   "source": [
    "# define x & y\n",
    "\n",
    "x = [1, 2, 3, 4, 5]\n",
    "y = [0.7, 2.3, 1.2, 4.5, 3.0]\n",
    "\n",
    "plt.plot(x, y, color='salmon', marker='d')"
   ]
  },
  {
   "cell_type": "markdown",
   "metadata": {},
   "source": [
    "### Bonus Exercise\n",
    "\n",
    " * make a round marker (`'o'`)"
   ]
  },
  {
   "cell_type": "code",
   "execution_count": null,
   "metadata": {},
   "outputs": [],
   "source": [
    "# define x & y\n",
    "\n",
    "x = [1, 2, 3, 4, 5]\n",
    "y = [0.7, 2.3, 1.2, 4.5, 3.0]\n",
    "\n",
    "plt.plot(x, y, color='salmon', marker='d')"
   ]
  },
  {
   "cell_type": "markdown",
   "metadata": {},
   "source": [
    "### Solution"
   ]
  },
  {
   "cell_type": "code",
   "execution_count": null,
   "metadata": {
    "hide_input": true
   },
   "outputs": [],
   "source": [
    "# define x & y\n",
    "\n",
    "x = [1, 2, 3, 4, 5]\n",
    "y = [0.7, 2.3, 1.2, 4.5, 3.0]\n",
    "\n",
    "plt.plot(x, y, color='salmon', marker='o')"
   ]
  },
  {
   "cell_type": "code",
   "execution_count": null,
   "metadata": {},
   "outputs": [],
   "source": []
  }
 ],
 "metadata": {
  "hide_input": false,
  "kernelspec": {
   "display_name": "Python 3",
   "language": "python",
   "name": "python3"
  },
  "language_info": {
   "codemirror_mode": {
    "name": "ipython",
    "version": 3
   },
   "file_extension": ".py",
   "mimetype": "text/x-python",
   "name": "python",
   "nbconvert_exporter": "python",
   "pygments_lexer": "ipython3",
   "version": "3.6.5"
  }
 },
 "nbformat": 4,
 "nbformat_minor": 2
}
