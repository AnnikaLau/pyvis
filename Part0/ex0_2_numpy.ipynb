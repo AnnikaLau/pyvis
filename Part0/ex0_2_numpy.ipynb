{
 "cells": [
  {
   "cell_type": "markdown",
   "metadata": {},
   "source": [
    "# Exercise 0.1: Numpy\n",
    "prepared by M.Hauser"
   ]
  },
  {
   "cell_type": "markdown",
   "metadata": {},
   "source": [
    "`numpy` is *the* fundamental package for scientific computing with Python. It provides fast (matlab-like) multi-dimensional-arrays (nd-arrays), which are contain uniform data types with an arbitrary number of dimensions. It also provides many mathematical functions (`mean`, `std`, ...) and array methods (slicing, broadcasting, ...)."
   ]
  },
  {
   "cell_type": "code",
   "execution_count": null,
   "metadata": {},
   "outputs": [],
   "source": [
    "# numpy is generally abbreviated as np\n",
    "\n",
    "import numpy as np"
   ]
  },
  {
   "cell_type": "markdown",
   "metadata": {},
   "source": [
    "## Array creation\n",
    "\n",
    "Arrays can be created in several ways:"
   ]
  },
  {
   "cell_type": "code",
   "execution_count": null,
   "metadata": {},
   "outputs": [],
   "source": [
    "# with a list\n",
    "a = np.array([1, 2, 3])\n",
    "\n",
    "print(a.shape)\n",
    "print(a.size)\n",
    "print(a.ndim)\n",
    "print(a.dtype)\n",
    "\n",
    "# only the last command in the cell yields an output\n",
    "a"
   ]
  },
  {
   "cell_type": "code",
   "execution_count": null,
   "metadata": {},
   "outputs": [],
   "source": [
    "# as a range (here: from 0...49 - remember python is 0-based)\n",
    "# (arange stands for 'a range', so that it does not conflict with the native python range command)\n",
    "x = np.arange(50)\n",
    "\n",
    "print(x.shape)\n",
    "print(x.size)\n",
    "print(x.ndim)\n",
    "print(x.dtype)\n",
    "\n",
    "x"
   ]
  },
  {
   "cell_type": "code",
   "execution_count": null,
   "metadata": {},
   "outputs": [],
   "source": [
    "# a 2d vector of random numbers\n",
    "\n",
    "y = np.random.rand(3, 5)\n",
    "\n",
    "print(y.shape)\n",
    "print(y.size)\n",
    "print(y.ndim)\n",
    "# note the different dtype \n",
    "print(y.dtype)\n",
    "\n",
    "y"
   ]
  },
  {
   "cell_type": "code",
   "execution_count": null,
   "metadata": {},
   "outputs": [],
   "source": [
    "# other ways to create arrays\n",
    "\n",
    "y = np.zeros((1, 3))\n",
    "print(y)\n",
    "print('')\n",
    "\n",
    "y = np.ones((2, 2)) * 3.1\n",
    "print(y)\n",
    "print('')\n",
    "\n",
    "\n",
    "# identity matrix\n",
    "y = np.eye(3)\n",
    "print(y)"
   ]
  },
  {
   "cell_type": "markdown",
   "metadata": {},
   "source": [
    "Yes, the syntax is not entirely consistent: you do `np.random.rand(3, 4)` but `np.zeros((3, 4))`."
   ]
  },
  {
   "cell_type": "markdown",
   "metadata": {},
   "source": [
    "### Exercise\n",
    "\n",
    "* Create an array from a tuple: e.g.: `t = (1, 2, 3)`\n",
    "* How do you use `np.arange` to create numbers between -$\\pi$ and $\\pi$, with a distance of 0.01? Hints: `np.arange?`, `np.pi`.\n",
    "* `np.random.rand` creates uniformly distributed numbers in `[0, 1)`. Can you create random integers between 0 and 55? Hint: `np.random.randint?`. (There are other ways, of course.)\n",
    "* Can you create random numbers from a normal distribution? Hint: `np.random.ra<Tab>`."
   ]
  },
  {
   "cell_type": "code",
   "execution_count": null,
   "metadata": {},
   "outputs": [],
   "source": []
  },
  {
   "cell_type": "markdown",
   "metadata": {},
   "source": [
    "### Solution"
   ]
  },
  {
   "cell_type": "code",
   "execution_count": null,
   "metadata": {},
   "outputs": [],
   "source": [
    "# 1\n",
    "t = (1, 2, 3)\n",
    "t = np.array(t)\n",
    "print(t)\n",
    "\n",
    "#2\n",
    "x = np.arange(-np.pi, np.pi, 0.01)\n",
    "print(x[:10])\n",
    "\n",
    "#3\n",
    "np.random.randint(0, 55)\n",
    "int(np.random.rand() * 55)\n",
    "\n",
    "#4\n",
    "np.random.randn()"
   ]
  },
  {
   "cell_type": "markdown",
   "metadata": {},
   "source": [
    "## Array reshaping"
   ]
  },
  {
   "cell_type": "code",
   "execution_count": null,
   "metadata": {},
   "outputs": [],
   "source": [
    "# you can reshape an array\n",
    "\n",
    "x = np.arange(50)\n",
    "\n",
    "print('The original array:')\n",
    "print('shape:', x.shape)\n",
    "print('size:', x.size)\n",
    "print('ndim:', x.ndim)\n",
    "print()\n",
    "\n",
    "x = x.reshape(5, 10)\n",
    "\n",
    "print('The reshaped array:')\n",
    "print('shape:', x.shape)\n",
    "print('size:', x.size)\n",
    "print('ndim:', x.ndim)\n",
    "\n",
    "x"
   ]
  },
  {
   "cell_type": "markdown",
   "metadata": {},
   "source": [
    "## Array indexing"
   ]
  },
  {
   "cell_type": "code",
   "execution_count": null,
   "metadata": {},
   "outputs": [],
   "source": [
    "# create an array from 0..49 with shape (50)\n",
    "x_1d = np.arange(50)\n",
    "print(x_1d.shape)\n",
    "print(x_1d)"
   ]
  },
  {
   "cell_type": "code",
   "execution_count": null,
   "metadata": {},
   "outputs": [],
   "source": [
    "print(\"Get the first element using 'x[0]'\")\n",
    "print(\"The value:\", x_1d[0])\n",
    "print('The shape:', x_1d[0].shape)\n",
    "print('The type:', type(x_1d[0]))\n",
    "print(\"It's not a ndarray!\")"
   ]
  },
  {
   "cell_type": "code",
   "execution_count": null,
   "metadata": {},
   "outputs": [],
   "source": [
    "print(\"Get the first element as ndarray using 'x[0:1]'\")\n",
    "print(\"The value:\", x_1d[0:1])\n",
    "print('The shape:', x_1d[0:1].shape)\n",
    "print('The type:', type(x_1d[0:1]))\n",
    "print(\"It's a ndarray!\")"
   ]
  },
  {
   "cell_type": "code",
   "execution_count": null,
   "metadata": {},
   "outputs": [],
   "source": [
    "print(\"Get the first ten elements:\")\n",
    "print(\"x[0:10]:\", x_1d[0:10])\n",
    "print(\"x[:10]:\", x_1d[:10])"
   ]
  },
  {
   "cell_type": "code",
   "execution_count": null,
   "metadata": {},
   "outputs": [],
   "source": [
    "print(\"Get the last element:\")\n",
    "print(x_1d[-1])\n",
    "\n",
    "print(\"Get the last ten elements:\")\n",
    "print(x_1d[-10:])"
   ]
  },
  {
   "cell_type": "code",
   "execution_count": null,
   "metadata": {},
   "outputs": [],
   "source": [
    "# create an array from 0..50 with shape (5, 10)\n",
    "x_2d = np.arange(50).reshape(5, 10)\n",
    "print(x_2d.shape)\n",
    "x_2d"
   ]
  },
  {
   "cell_type": "code",
   "execution_count": null,
   "metadata": {},
   "outputs": [],
   "source": [
    "print(\"Get the first row:\")\n",
    "print(x_2d[0, :])\n",
    "\n",
    "\n",
    "print(\"\\nGet the last column (1D):\")\n",
    "print(x_2d[:, -1])\n",
    "\n",
    "print(\"\\nGet the last column (2D):\")\n",
    "print(x_2d[:, -1:])\n",
    "\n",
    "print(\"\\nGet the first element:\")\n",
    "print(x_2d[0, 0])\n",
    "\n",
    "print(\"Looping through the array\")\n",
    "\n",
    "for i in x_2d:\n",
    "    print(i)\n",
    "    \n",
    "print('Row by row!')\n",
    "\n",
    "\n",
    "for i in x_2d.flat[:5]:\n",
    "    print(i)\n",
    "    \n",
    "print('Element by element!')\n",
    "\n"
   ]
  },
  {
   "cell_type": "markdown",
   "metadata": {},
   "source": [
    "## Calculations"
   ]
  },
  {
   "cell_type": "code",
   "execution_count": null,
   "metadata": {},
   "outputs": [],
   "source": [
    "# create 2 random arrays\n",
    "x = np.random.rand(3, 5)\n",
    "y = np.random.rand(3, 5)\n",
    "print(x)\n",
    "print(y)"
   ]
  },
  {
   "cell_type": "code",
   "execution_count": null,
   "metadata": {},
   "outputs": [],
   "source": [
    "# add a scalar (you could also write x += 1)\n",
    "x = x + 1\n",
    "\n",
    "x"
   ]
  },
  {
   "cell_type": "code",
   "execution_count": null,
   "metadata": {},
   "outputs": [],
   "source": [
    "# add both arrays\n",
    "z = x + y\n",
    "\n",
    "z"
   ]
  },
  {
   "cell_type": "code",
   "execution_count": null,
   "metadata": {},
   "outputs": [],
   "source": [
    "print('Mean of all elements:')\n",
    "mn = y.mean()\n",
    "print(mn)\n",
    "\n",
    "print('Mean over all rows:')\n",
    "print(y.mean(axis=0))\n",
    "\n",
    "print('Mean over all columns:')\n",
    "print(y.mean(axis=1))"
   ]
  },
  {
   "cell_type": "markdown",
   "metadata": {},
   "source": [
    "### Exercise\n",
    "\n",
    "* Calculate the standard deviation of the whole array, the rows, and the columns."
   ]
  },
  {
   "cell_type": "code",
   "execution_count": null,
   "metadata": {},
   "outputs": [],
   "source": []
  },
  {
   "cell_type": "markdown",
   "metadata": {},
   "source": [
    "### Solution"
   ]
  },
  {
   "cell_type": "code",
   "execution_count": null,
   "metadata": {},
   "outputs": [],
   "source": [
    "print('Standard deviation of all elements:')\n",
    "mn = y.std()\n",
    "print(mn)\n",
    "\n",
    "print('Standard deviation over all rows:')\n",
    "print(y.std(axis=0))\n",
    "\n",
    "print('Standard deviation over all columns:')\n",
    "print(y.std(axis=1))"
   ]
  },
  {
   "cell_type": "markdown",
   "metadata": {},
   "source": [
    "## Broadcasting\n",
    "\n",
    "Broadcasting can be very helpful as it allows to add arrays with different shapes."
   ]
  },
  {
   "cell_type": "code",
   "execution_count": null,
   "metadata": {},
   "outputs": [],
   "source": [
    "# create 2 arrays\n",
    "x = np.arange(15).reshape(3, -1)\n",
    "y = np.array([0.1, 0.2, 0.3, 0.4, 0.5])\n",
    "\n",
    "print('x.shape:', x.shape)\n",
    "print('y.shape:', y.shape)\n",
    "\n",
    "# although they do not have the same shape, we can add them\n",
    "\n",
    "x + y"
   ]
  },
  {
   "cell_type": "markdown",
   "metadata": {},
   "source": [
    "## Logical selection and replacing values"
   ]
  },
  {
   "cell_type": "code",
   "execution_count": null,
   "metadata": {},
   "outputs": [],
   "source": [
    "x = np.random.randint(0, 10, (3, 5))\n",
    "x"
   ]
  },
  {
   "cell_type": "code",
   "execution_count": null,
   "metadata": {},
   "outputs": [],
   "source": [
    "# you can easily select values with a logical condition\n",
    "\n",
    "x[x > 5]"
   ]
  },
  {
   "cell_type": "code",
   "execution_count": null,
   "metadata": {},
   "outputs": [],
   "source": [
    "# you can replace single elemens\n",
    "x[0, 0] = 100\n",
    "x"
   ]
  },
  {
   "cell_type": "code",
   "execution_count": null,
   "metadata": {},
   "outputs": [],
   "source": [
    "# or whole regions\n",
    "x[:, -1] = [15, 32, 11]\n",
    "x"
   ]
  },
  {
   "cell_type": "code",
   "execution_count": null,
   "metadata": {},
   "outputs": [],
   "source": [
    "# you can also combine the logical selection and assignment\n",
    "x = np.random.rand(3, 5)\n",
    "sel = x > 0.5\n",
    "\n",
    "x[sel] = np.NaN\n",
    "x"
   ]
  },
  {
   "cell_type": "code",
   "execution_count": null,
   "metadata": {},
   "outputs": [],
   "source": []
  }
 ],
 "metadata": {
  "kernelspec": {
   "display_name": "Python 3",
   "language": "python",
   "name": "python3"
  },
  "language_info": {
   "codemirror_mode": {
    "name": "ipython",
    "version": 3
   },
   "file_extension": ".py",
   "mimetype": "text/x-python",
   "name": "python",
   "nbconvert_exporter": "python",
   "pygments_lexer": "ipython3",
   "version": "3.5.4"
  }
 },
 "nbformat": 4,
 "nbformat_minor": 2
}
