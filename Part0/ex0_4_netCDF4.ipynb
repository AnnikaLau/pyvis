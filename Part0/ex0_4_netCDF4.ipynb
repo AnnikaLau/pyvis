{
 "cells": [
  {
   "cell_type": "markdown",
   "metadata": {},
   "source": [
    "# Exercise 0.3 - NetCDF files (using netCDF4)\n",
    "prepared by M.Hauser"
   ]
  },
  {
   "cell_type": "markdown",
   "metadata": {},
   "source": [
    "We need to read (and write) netCDF files. There are several modules which are able to do this, most commonly, the `netCDF4` library from [Unidata](http://unidata.github.io/netcdf4-python/) is used."
   ]
  },
  {
   "cell_type": "code",
   "execution_count": null,
   "metadata": {},
   "outputs": [],
   "source": [
    "import netCDF4 as nc\n",
    "import numpy as np"
   ]
  },
  {
   "cell_type": "markdown",
   "metadata": {},
   "source": [
    "We will open a netCDF file with the growing season lenght (GSL) from 1956 to 2005. GSL is a climate index indicating conditions favourable for plant growth. It is defined as the number of consecutive days per year with a temperature above 5° C.\n",
    "\n",
    "The data is described in Donat et al., ([2013](http://onlinelibrary.wiley.com/doi/10.1002/jgrd.50150/abstract)), and was obtained from http://www.climdex.org/. \n",
    "We will use this dataset in a later exercise.\n",
    "\n",
    "The data has already undergone some postprocessing - see [prepare_HadEX2_GSL](./data/prepare_HadEX2_GSL.ipynb)\n",
    "\n",
    "## Opening the dataset"
   ]
  },
  {
   "cell_type": "code",
   "execution_count": null,
   "metadata": {},
   "outputs": [],
   "source": [
    "fN = '../data/HadEX2_GSL.nc'"
   ]
  },
  {
   "cell_type": "code",
   "execution_count": null,
   "metadata": {},
   "outputs": [],
   "source": [
    "ncf = nc.Dataset(fN)\n",
    "\n",
    "print(ncf)"
   ]
  },
  {
   "cell_type": "code",
   "execution_count": null,
   "metadata": {},
   "outputs": [],
   "source": [
    "# you can also use ncdump to show the structure of the file\n",
    "! ncdump -h {fN}"
   ]
  },
  {
   "cell_type": "markdown",
   "metadata": {},
   "source": [
    "## Print all variables on the dataset"
   ]
  },
  {
   "cell_type": "code",
   "execution_count": null,
   "metadata": {},
   "outputs": [],
   "source": [
    "# get all variables\n",
    "print(ncf.variables.keys())"
   ]
  },
  {
   "cell_type": "markdown",
   "metadata": {},
   "source": [
    "## Get a variable\n",
    "\n",
    "You can get a variable from a netCDF file like so:"
   ]
  },
  {
   "cell_type": "code",
   "execution_count": null,
   "metadata": {},
   "outputs": [],
   "source": [
    "# get a variable from the file\n",
    "ncf.variables['lon']"
   ]
  },
  {
   "cell_type": "markdown",
   "metadata": {},
   "source": [
    "However, you did not load the data, yet - but a special kind of data structure called `netCDF4.variable`. It also contains some metadata, e.g. the netCDF4 variable also contains the `units` attributes:"
   ]
  },
  {
   "cell_type": "code",
   "execution_count": null,
   "metadata": {},
   "outputs": [],
   "source": [
    "ncf.variables['time'].units"
   ]
  },
  {
   "cell_type": "markdown",
   "metadata": {},
   "source": [
    "To load the actual data (as a numpy array), you have to index it:"
   ]
  },
  {
   "cell_type": "code",
   "execution_count": null,
   "metadata": {},
   "outputs": [],
   "source": [
    "# get data of lon from the file\n",
    "lon = ncf.variables['lon'][:]\n",
    "# this is a numpy array\n",
    "lon"
   ]
  },
  {
   "cell_type": "markdown",
   "metadata": {},
   "source": [
    "Note: if you only need a subset of the data you can index it here: `ncf.variables['lon'][:10]`. This only loads the first ten elements from the file."
   ]
  },
  {
   "cell_type": "markdown",
   "metadata": {},
   "source": [
    "### Exercise\n",
    "\n",
    "* get the values of the latitude"
   ]
  },
  {
   "cell_type": "code",
   "execution_count": null,
   "metadata": {},
   "outputs": [],
   "source": []
  },
  {
   "cell_type": "markdown",
   "metadata": {},
   "source": [
    "### Solution"
   ]
  },
  {
   "cell_type": "code",
   "execution_count": null,
   "metadata": {},
   "outputs": [],
   "source": [
    "lat = ncf.variables['lat'][:]\n",
    "lat"
   ]
  },
  {
   "cell_type": "code",
   "execution_count": null,
   "metadata": {},
   "outputs": [],
   "source": [
    "# load the trend\n",
    "trend_masked = ncf.variables['trend'][:]\n",
    "\n",
    "trend_masked"
   ]
  },
  {
   "cell_type": "markdown",
   "metadata": {},
   "source": [
    "Trend_masked is also a numpy array - a masked array. Masked arrays have one array with the actual data (e.g. \\[0, 1, 2\\], and one array that indicates if this value is masked (= invalid, e.g. \\[True, False, False\\]). This would correspond to a not-masked array that looks like \\[NaN, 1, 2\\]."
   ]
  },
  {
   "cell_type": "code",
   "execution_count": null,
   "metadata": {},
   "outputs": [],
   "source": [
    "# example\n",
    "\n",
    "ma = np.ma.array([0., 1, 2], mask=[True, False, False], fill_value=np.NaN)\n",
    "ma"
   ]
  },
  {
   "cell_type": "code",
   "execution_count": null,
   "metadata": {},
   "outputs": [],
   "source": [
    "# masked arrays can be converted to NaN arrays as:\n",
    "trend = np.asarray(trend_masked)\n",
    "trend"
   ]
  },
  {
   "cell_type": "markdown",
   "metadata": {},
   "source": [
    "### Time\n",
    "\n",
    "Next we load the time vector. It's still in the original form, and thus not very helpful:"
   ]
  },
  {
   "cell_type": "code",
   "execution_count": null,
   "metadata": {},
   "outputs": [],
   "source": [
    "# load time\n",
    "time = ncf.variables['time'][:]\n",
    "# time is still in 'netCDF' format\n",
    "time[:10]"
   ]
  },
  {
   "cell_type": "markdown",
   "metadata": {},
   "source": [
    "netCDF files (should) follow some conventions for the storage of time stamps. We can convert the original timestamps, using `nc.num2date`."
   ]
  },
  {
   "cell_type": "code",
   "execution_count": null,
   "metadata": {},
   "outputs": [],
   "source": [
    "ncv = ncf.variables['time']\n",
    "\n",
    "print(ncv.units)\n",
    "print(ncv.calendar)\n",
    "\n",
    "time = nc.num2date(ncv[:], ncv.units, ncv.calendar)\n",
    "\n",
    "time[:10]"
   ]
  },
  {
   "cell_type": "markdown",
   "metadata": {},
   "source": [
    "However, this format is still not very helpfull, we'll convert it further to a numpy 'datetime64' object."
   ]
  },
  {
   "cell_type": "code",
   "execution_count": null,
   "metadata": {},
   "outputs": [],
   "source": [
    "np.asarray([np.datetime64(t) for t in time])"
   ]
  },
  {
   "cell_type": "code",
   "execution_count": null,
   "metadata": {},
   "outputs": [],
   "source": []
  }
 ],
 "metadata": {
  "kernelspec": {
   "display_name": "Python 3",
   "language": "python",
   "name": "python3"
  },
  "language_info": {
   "codemirror_mode": {
    "name": "ipython",
    "version": 3
   },
   "file_extension": ".py",
   "mimetype": "text/x-python",
   "name": "python",
   "nbconvert_exporter": "python",
   "pygments_lexer": "ipython3",
   "version": "3.5.4"
  }
 },
 "nbformat": 4,
 "nbformat_minor": 2
}
