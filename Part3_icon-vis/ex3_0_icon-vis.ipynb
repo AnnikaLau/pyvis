{
 "cells": [
  {
   "cell_type": "markdown",
   "id": "8822930b",
   "metadata": {},
   "source": [
    "# Exercise 3.0: icon-vis\n",
    "prepared by A. Lauber\n",
    "\n",
    "In this exercise, we will work with the GitHub repository [icon-vis](https://github.com/C2SM/icon-vis), which was developed by C2SM and MeteoSwiss. It is a collection of easy-to-use Python scripts for plotting data on unstructured grids like the ICON grid. It is based on the library [psyplot](https://psyplot.github.io), which was already introduced in [Exercise 2.2](../Part2_Mapplots/ex2_2_psyplot.ipynb).\n",
    "\n",
    "Advantages of plotting on the unstructured grid:\n",
    "- Shows the real output without interpolation\n",
    "- No preprocessing of the data necessary\n",
    "\n",
    "Disadvantages of plotting on the unstructured grid:\n",
    "- It can be quite slow depending on the size of your netCDF file\n",
    "- Not all features are available yet (psyplot is still under development)\n",
    "\n",
    "## Installation\n",
    "\n",
    "If you want to use icon-vis on your own machine, please follow the [installation instruction](https://github.com/C2SM/icon-vis#environment-setup) in the README. For this course, an environment is already prepared for you to save time."
   ]
  },
  {
   "cell_type": "markdown",
   "id": "6ddf5f4a",
   "metadata": {},
   "source": [
    "## First we will download some example data"
   ]
  },
  {
   "cell_type": "code",
   "execution_count": null,
   "id": "5fe79a4d",
   "metadata": {},
   "outputs": [],
   "source": [
    "# Get example datasets for testing (won't do anything if data is already downloaded)\n",
    "import iconarray as iconvis # import self-written modules from iconarray\n",
    "iconvis.get_example_data()"
   ]
  },
  {
   "cell_type": "markdown",
   "id": "36ce8c7c",
   "metadata": {},
   "source": [
    "## Exercise\n",
    "- Checkout the [example gallery](https://github.com/C2SM/icon-vis#example-plots) and select a plot you would like to produce and follow the link to the folder containing the example. Note that there is no notebook for the transect plot. The edge variable plot and the vector plot only work after sourcing setup-conda-env.sh, which has currently not been done for this environment.\n",
    "- Every folder contains a jupyter notebook. Give it a try and play around with it."
   ]
  },
  {
   "cell_type": "markdown",
   "id": "7a15aad2",
   "metadata": {},
   "source": [
    "## Exercise\n",
    "For some of the plots, there is also a Python script given, namely for the difference map, the map plot, the timeseries and the vertical profile.\n",
    "- On the [icon-vis](https://github.com/C2SM/icon-vis) page navigate into one of the four folders and read the README.\n",
    "- Run the command to display the config options (Hint: For running a Python script from Python, you can use the function `system` from the `os` package. Import the package and run `os.system('<command>')`)\n",
    "- Run the command to recreate the example plot shown in the README. (Hint: the paths have to be adapted or you have to navigate to the icon-vis repo)"
   ]
  },
  {
   "cell_type": "code",
   "execution_count": null,
   "id": "f8202b9b",
   "metadata": {},
   "outputs": [],
   "source": [
    "# Display the config options\n",
    "#Code here"
   ]
  },
  {
   "cell_type": "code",
   "execution_count": null,
   "id": "c54e6ab2",
   "metadata": {},
   "outputs": [],
   "source": [
    "# Create example plot\n",
    "#Code here"
   ]
  },
  {
   "cell_type": "markdown",
   "id": "2a41fbf6",
   "metadata": {},
   "source": [
    "## Solution"
   ]
  },
  {
   "cell_type": "code",
   "execution_count": null,
   "id": "21b38e20",
   "metadata": {},
   "outputs": [],
   "source": [
    "# Display the config options\n",
    "import os \n",
    "os.system('python ../../icon-vis/mapplot/mapplot.py -co')"
   ]
  },
  {
   "cell_type": "code",
   "execution_count": null,
   "id": "a66a5ef1",
   "metadata": {},
   "outputs": [],
   "source": [
    "# Create example plot\n",
    "os.system('python ../../icon-vis/difference_map/difference_map.py \\\n",
    "-c ../../icon-vis/difference_map/config_difference_map.ini \\\n",
    "-i1 data/example_data/nc/my_exp1_atm_3d_ml_20180921T000000Z.nc \\\n",
    "-i2 data/example_data/nc/my_exp1_diff.nc \\\n",
    "-d . \\\n",
    "-o test_output_difference_map')"
   ]
  },
  {
   "cell_type": "markdown",
   "id": "9dad7a4e",
   "metadata": {},
   "source": [
    "## Exercise\n",
    "- Change three config options in the config file and create the plot again. Check if you see the difference. (Hint: open the file outside of Python, make changes and safe it)"
   ]
  },
  {
   "cell_type": "markdown",
   "id": "114dbab9",
   "metadata": {},
   "source": [
    "## Solution\n",
    "\n",
    "Open config file and make changes. Then run the following:"
   ]
  },
  {
   "cell_type": "code",
   "execution_count": null,
   "id": "bf399343",
   "metadata": {},
   "outputs": [],
   "source": [
    "# Create example plot with changed config file\n",
    "os.system('python ../../icon-vis/difference_map/difference_map.py \\\n",
    "-c ../../icon-vis/difference_map/config_difference_map.ini \\\n",
    "-i1 data/example_data/nc/my_exp1_atm_3d_ml_20180921T000000Z.nc \\\n",
    "-i2 data/example_data/nc/my_exp1_diff.nc \\\n",
    "-d . \\\n",
    "-o test_output_difference_map_changed')"
   ]
  },
  {
   "cell_type": "markdown",
   "id": "da9dc8d8",
   "metadata": {},
   "source": [
    "## Bonus exercise\n",
    "- Change the title size (Hint: check README)"
   ]
  }
 ],
 "metadata": {
  "kernelspec": {
   "display_name": "Python 3 (ipykernel)",
   "language": "python",
   "name": "python3"
  },
  "language_info": {
   "codemirror_mode": {
    "name": "ipython",
    "version": 3
   },
   "file_extension": ".py",
   "mimetype": "text/x-python",
   "name": "python",
   "nbconvert_exporter": "python",
   "pygments_lexer": "ipython3",
   "version": "3.8.15"
  }
 },
 "nbformat": 4,
 "nbformat_minor": 5
}
