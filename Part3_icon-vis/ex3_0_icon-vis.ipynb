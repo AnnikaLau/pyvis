{
 "cells": [
  {
   "cell_type": "code",
   "execution_count": null,
   "id": "e349b0fc",
   "metadata": {},
   "outputs": [],
   "source": [
    "# IGNORE THIS CELL WHICH CUSTOMIZES LAYOUT AND STYLING OF THE NOTEBOOK !\n",
    "%matplotlib inline\n",
    "%config InlineBackend.figure_format = 'retina'\n",
    "import warnings\n",
    "\n",
    "warnings.filterwarnings(\"ignore\", category=FutureWarning)\n",
    "warnings.filterwarnings = lambda *a, **kw: None"
   ]
  },
  {
   "cell_type": "markdown",
   "id": "8822930b",
   "metadata": {},
   "source": [
    "# Exercise 3.0: icon-vis\n",
    "prepared by A. Lauber\n",
    "\n",
    "In this exercise, we will work with the GitHub repository [icon-vis](https://github.com/C2SM/icon-vis), which was developped by C2SM and MeteoSwiss. It is a collection of easy-to-use Python scripts for plotting data on the unstructured grid of ICON. It is based on the library [psyplot](https://psyplot.github.io), which was already introduced in [Exercise 2.2](../Part2_Mapplots/ex2_2_psyplot.ipynb).\n",
    "\n",
    "Advantages of plotting on the unstructured grid:\n",
    "- Shows the real output without interpolation\n",
    "- No preprocessing of the data necessary\n",
    "\n",
    "Disadvantages of plotting on the unstructured grid:\n",
    "- It can be quite slow depending on the size of your netCDF file\n",
    "- Not all features are available yet (psyplot is still under development)\n",
    "\n",
    "## Installation\n",
    "\n",
    "If you want to use icon-vis on your own machine, please follow the [installation instruction](https://github.com/C2SM/icon-vis#environment-setup) in the README. For this course, an environment is already prepared for you to save time.\n",
    "\n",
    "\n",
    "## Import libraries"
   ]
  },
  {
   "cell_type": "code",
   "execution_count": null,
   "id": "eacee1e7",
   "metadata": {},
   "outputs": [],
   "source": [
    "# Load modules\n",
    "import numpy as np\n",
    "import psyplot.project as psy\n",
    "import cmcrameri.cm as cmc\n",
    "import cartopy.feature as cf\n",
    "import matplotlib.pyplot as plt\n",
    "import xarray as xr\n",
    "from pathlib import Path\n",
    "import sys\n",
    "\n",
    "from iconarray.plot import formatoptions # import plotting formatoptions (for use with psyplot)\n",
    "import iconarray as iconvis # import self-written modules from iconarray"
   ]
  },
  {
   "cell_type": "markdown",
   "id": "6ddf5f4a",
   "metadata": {},
   "source": [
    "## First we will download some example data"
   ]
  },
  {
   "cell_type": "code",
   "execution_count": null,
   "id": "5fe79a4d",
   "metadata": {},
   "outputs": [],
   "source": [
    "# Get example datasets for testing (won't do anything if data is already downloaded)\n",
    "iconvis.get_example_data()"
   ]
  },
  {
   "cell_type": "markdown",
   "id": "36ce8c7c",
   "metadata": {},
   "source": [
    "## Exercise\n",
    "- Checkout the [example gallery](https://github.com/C2SM/icon-vis#example-plots) and select a plot you would like to produce and follow the link to the folder containing the example. (Note that there is no notebook for the transect plot and the edge variable plot as well as the vector plot only work after sourcing setup-conda-env.sh)\n",
    "- Every folder contains a jupyter notebook. Give it a try and play around with it.\n",
    "\n",
    "<span style=\"color:red\">To do: add icon-vis to the user environment for this exercise and source setup-conda-env.sh</span>."
   ]
  },
  {
   "cell_type": "code",
   "execution_count": null,
   "id": "b48e1a42",
   "metadata": {},
   "outputs": [],
   "source": []
  }
 ],
 "metadata": {
  "kernelspec": {
   "display_name": "Python 3 (ipykernel)",
   "language": "python",
   "name": "python3"
  },
  "language_info": {
   "codemirror_mode": {
    "name": "ipython",
    "version": 3
   },
   "file_extension": ".py",
   "mimetype": "text/x-python",
   "name": "python",
   "nbconvert_exporter": "python",
   "pygments_lexer": "ipython3",
   "version": "3.8.15"
  }
 },
 "nbformat": 4,
 "nbformat_minor": 5
}
