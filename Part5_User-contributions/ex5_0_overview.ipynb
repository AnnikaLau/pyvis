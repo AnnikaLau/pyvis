{
 "cells": [
  {
   "cell_type": "markdown",
   "metadata": {},
   "source": [
    "# Exercise 5 - Overview\n",
    "\n",
    "User contributions - figures that will be developed in each of the exercises in Part 5. Click on the link to go to the exercise."
   ]
  },
  {
   "cell_type": "markdown",
   "metadata": {},
   "source": [
    "## Exercise 5.1: Single Map Plot (M. Hauser)\n",
    "\n",
    "<img src=\"../figures/ex5_single_map_M_Hauser.png\"  width=\"500\">\n",
    "\n",
    "See [Exercise 5.1](ex5_1_single_map_M_Hauser.ipynb)"
   ]
  },
  {
   "cell_type": "markdown",
   "metadata": {},
   "source": [
    "## Exercise 5.2: Multiple Map Plots (M. Hauser)\n",
    "\n",
    "<img src=\"../figures/ex5_multiple_regional_maps_M_Hauser.png\"  width=\"500\">\n",
    "\n",
    "See [Exercise 5.2](ex5_2_multiple_regional_maps_M_Hauser.ipynb)"
   ]
  },
  {
   "cell_type": "markdown",
   "metadata": {},
   "source": [
    "## Exercise 5.3: Distributions (W. Ball)\n",
    "\n",
    "<img src=\"../figures/ex5_distributions_W_Ball.png\"  width=\"500\">\n",
    "\n",
    "\n",
    "\n",
    "See [Exercise 5.3](ex5_3_distributions_W_Ball.ipynb)"
   ]
  },
  {
   "cell_type": "markdown",
   "metadata": {},
   "source": [
    "## Exercise 5.4: Pollen concentration (S. Adamov)\n",
    "\n",
    "<img src=\"../figures/ex5_cosmo_pollen.png\"  width=\"500\">\n",
    "\n",
    "\n",
    "\n",
    "See [Exercise 5.4](ex5_4_cosmo_pollen_S_Adamov.ipynb)"
   ]
  }
 ],
 "metadata": {
  "kernelspec": {
   "display_name": "Python 3 (ipykernel)",
   "language": "python",
   "name": "python3"
  },
  "language_info": {
   "codemirror_mode": {
    "name": "ipython",
    "version": 3
   },
   "file_extension": ".py",
   "mimetype": "text/x-python",
   "name": "python",
   "nbconvert_exporter": "python",
   "pygments_lexer": "ipython3",
   "version": "3.9.15"
  }
 },
 "nbformat": 4,
 "nbformat_minor": 2
}
