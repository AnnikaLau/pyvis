{
 "cells": [
  {
   "cell_type": "markdown",
   "metadata": {},
   "source": [
    "# Exercise 4 - Overview"
   ]
  },
  {
   "cell_type": "code",
   "execution_count": null,
   "metadata": {},
   "outputs": [],
   "source": []
  },
  {
   "cell_type": "code",
   "execution_count": null,
   "metadata": {},
   "outputs": [],
   "source": []
  },
  {
   "cell_type": "markdown",
   "metadata": {},
   "source": [
    "## Exercise 4.1: Single Map Plot (M. Hauser)\n",
    "\n",
    "<img src=\"../figures/ex4_single_map_M_Hauser.png\"  width=\"500\">\n",
    "\n",
    "See [Exercise 4.1](ex4_1_single_map_M_Hauser.ipynb)"
   ]
  },
  {
   "cell_type": "markdown",
   "metadata": {},
   "source": [
    "## Exercise 4.2: to do\n"
   ]
  },
  {
   "cell_type": "markdown",
   "metadata": {},
   "source": [
    "## Exercise 4.3: Multiple Map Plots (M. Hauser, K Strassmann)\n",
    "\n",
    "<img src=\"../figures/ex4_multiple_regional_maps_M_Hauser.png\"  width=\"500\">\n",
    "\n",
    "See [Exercise 4.3](ex4_3_multiple_regional_maps_M_Hauser.ipynb)"
   ]
  },
  {
   "cell_type": "markdown",
   "metadata": {},
   "source": [
    "## Exercise 4.4: Distributions (W. Ball)\n",
    "\n",
    "<img src=\"../figures/ex4_distributions_W_Ball.png\"  width=\"500\">\n",
    "\n",
    "\n",
    "\n",
    "See [Exercise 4.4](ex4_4_distributions_W_Ball.ipynb)"
   ]
  }
 ],
 "metadata": {
  "kernelspec": {
   "display_name": "Python 3",
   "language": "python",
   "name": "python3"
  },
  "language_info": {
   "codemirror_mode": {
    "name": "ipython",
    "version": 3
   },
   "file_extension": ".py",
   "mimetype": "text/x-python",
   "name": "python",
   "nbconvert_exporter": "python",
   "pygments_lexer": "ipython3",
   "version": "3.5.4"
  }
 },
 "nbformat": 4,
 "nbformat_minor": 2
}
