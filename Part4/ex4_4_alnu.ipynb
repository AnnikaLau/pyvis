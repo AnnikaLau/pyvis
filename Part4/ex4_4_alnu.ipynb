{
 "cells": [
  {
   "cell_type": "markdown",
   "id": "7ce2a28b",
   "metadata": {},
   "source": [
    "# Exercise 4.4: User Contribution: pollen concentration\n",
    "prepared by A. Lauber\n",
    "\n",
    "An example plot made by Simon Adamov using [iconarray](https://github.com/C2SM/iconarray)\n",
    "\n",
    "<img src=\"../figures/cosmo_pollen.png\"  width=\"500\">\n",
    "\n",
    "It shows the Alder Pollen concentration over the Alps.\n",
    "\n",
    "\n",
    "## Import modules"
   ]
  },
  {
   "cell_type": "code",
   "execution_count": null,
   "id": "351bd57b",
   "metadata": {},
   "outputs": [],
   "source": [
    "# IGNORE THIS CELL WHICH CUSTOMIZES LAYOUT AND STYLING OF THE NOTEBOOK !\n",
    "%matplotlib inline\n",
    "%config InlineBackend.figure_format = 'retina'\n",
    "import warnings\n",
    "warnings.filterwarnings(\"ignore\", category=FutureWarning)\n",
    "warnings.filterwarnings = lambda *a, **kw: None"
   ]
  },
  {
   "cell_type": "code",
   "execution_count": null,
   "id": "beac440c",
   "metadata": {},
   "outputs": [],
   "source": [
    "import xarray as xr\n",
    "import numpy as np\n",
    "import cartopy.crs as ccrs\n",
    "import cartopy\n",
    "import matplotlib.pyplot as plt\n",
    "import cmcrameri.cm as cmc\n",
    "import psyplot.project as psy\n",
    "import urllib.request\n",
    "from cdo import *\n",
    "\n",
    "psy.rcParams['auto_show'] = True"
   ]
  },
  {
   "cell_type": "code",
   "execution_count": null,
   "id": "00008092",
   "metadata": {},
   "outputs": [],
   "source": [
    "ds_alnu = xr.open_dataset(\"../data.nc\")\n",
    "ds_alnu.ALNU.values = np.log10(ds_alnu.ALNU.values + 1)\n",
    "ds_alnu"
   ]
  },
  {
   "cell_type": "code",
   "execution_count": null,
   "id": "2b0b6319",
   "metadata": {},
   "outputs": [],
   "source": [
    "# Checkout the formatoptions (https://psyplot.github.io/psy-maps/generated/psyplot.project.plot.mapplot.html)\n",
    "# change the grid color to white, add a label to the colorbar, change the projection and cmap etc.\n",
    "plot_alnu = ds_alnu.psy.plot.mapplot(\n",
    "    name=\"ALNU\",\n",
    "    title=\"Alder Pollen in the Alps on 2020-02-15 20h\",\n",
    "    titlesize=15,\n",
    "    grid_color=\"white\",\n",
    "    cticksize=8,\n",
    "    clabel=\"Log. Pollen Concentrations [Pollen/m³]\",\n",
    "    grid_labelsize=8,\n",
    "    projection='robin',\n",
    "    cmap='RdBu_r')"
   ]
  },
  {
   "cell_type": "code",
   "execution_count": null,
   "id": "7b8e9eca",
   "metadata": {},
   "outputs": [],
   "source": [
    "#Checkout https://github.com/C2SM/iconarray\n",
    "import iconarray\n",
    "%config InlineBackend.close_figures = False"
   ]
  },
  {
   "cell_type": "code",
   "execution_count": null,
   "id": "a515fc14",
   "metadata": {},
   "outputs": [],
   "source": [
    "plot_alnu = ds_alnu.psy.plot.mapplot(\n",
    "    name=\"ALNU\",\n",
    "    title=\"Alder Pollen in the Alps on 2020-02-15 20h\",\n",
    "    titlesize=15,\n",
    "    grid_color=\"white\",\n",
    "    cticksize=8,\n",
    "    clabel=\"Log. Pollen Concentrations [Pollen/m³]\",\n",
    "    grid_labelsize=8,\n",
    "    projection='robin',\n",
    "    cmap='RdBu_r')"
   ]
  },
  {
   "cell_type": "code",
   "execution_count": null,
   "id": "6ffb4e8f",
   "metadata": {},
   "outputs": [],
   "source": [
    "plot_alnu.update(lakes=False, borders=False)"
   ]
  },
  {
   "cell_type": "code",
   "execution_count": null,
   "id": "f75d5c9d",
   "metadata": {},
   "outputs": [],
   "source": []
  }
 ],
 "metadata": {
  "kernelspec": {
   "display_name": "Python 3 (ipykernel)",
   "language": "python",
   "name": "python3"
  },
  "language_info": {
   "codemirror_mode": {
    "name": "ipython",
    "version": 3
   },
   "file_extension": ".py",
   "mimetype": "text/x-python",
   "name": "python",
   "nbconvert_exporter": "python",
   "pygments_lexer": "ipython3",
   "version": "3.8.15"
  }
 },
 "nbformat": 4,
 "nbformat_minor": 5
}
