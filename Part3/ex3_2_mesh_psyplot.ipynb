{
 "cells": [
  {
   "cell_type": "code",
   "execution_count": null,
   "id": "e926e70e",
   "metadata": {},
   "outputs": [],
   "source": [
    "import cartopy.crs as ccrs\n",
    "import matplotlib.pyplot as plt\n",
    "import numpy as np\n",
    "import xarray as xr"
   ]
  },
  {
   "cell_type": "code",
   "execution_count": null,
   "id": "3a21fdc4",
   "metadata": {},
   "outputs": [],
   "source": [
    "import psyplot.project as psy\n",
    "import xarray as xr\n",
    "import numpy as np\n",
    "import iconarray\n",
    "import matplotlib as mpl"
   ]
  },
  {
   "cell_type": "code",
   "execution_count": null,
   "id": "0f61cbf3",
   "metadata": {},
   "outputs": [],
   "source": [
    "# show figures after they are drawn or updated\n",
    "psy.rcParams['auto_show'] = True\n",
    "\n",
    "%matplotlib inline\n",
    "%config InlineBackend.close_figures = False"
   ]
  },
  {
   "cell_type": "code",
   "execution_count": null,
   "id": "6b2c1145",
   "metadata": {},
   "outputs": [],
   "source": [
    "fN = \"../data/cmip5_delta_pr_rcp85_map.nc\"\n",
    "\n",
    "# load data, omitting some unnecessary variables\n",
    "pr = xr.open_dataset(fN, drop_variables=[\"pr_rel\", \"proj\", \"agree_sign\", \"pval\"])"
   ]
  },
  {
   "cell_type": "code",
   "execution_count": null,
   "id": "4c9092ef",
   "metadata": {},
   "outputs": [],
   "source": [
    "# plot\n",
    "plot1 = pr.psy.plot.mapplot(\n",
    "    name=\"hist\",\n",
    "    projection=\"robin\",\n",
    "    borders=True,\n",
    "    transform=ccrs.PlateCarree(),\n",
    "    cmap='viridis'\n",
    ")"
   ]
  },
  {
   "cell_type": "code",
   "execution_count": null,
   "id": "307a3311",
   "metadata": {},
   "outputs": [],
   "source": [
    "# plot\n",
    "plot2 = pr.psy.plot.mapplot(\n",
    "    name=\"hist\",\n",
    "    projection=\"robin\",\n",
    "    borders=True,\n",
    "    transform=ccrs.PlateCarree(),\n",
    "    cmap='Blues',\n",
    "    map_extent=[-150, -130, 30, 70],\n",
    "    bounds={'method':'minmax','vmax':2500,'vmin':0}\n",
    ")\n"
   ]
  },
  {
   "cell_type": "code",
   "execution_count": null,
   "id": "52013b90",
   "metadata": {},
   "outputs": [],
   "source": [
    "plot2.update(borders=False, xgrid=False, ygrid=False, lakes=False)"
   ]
  },
  {
   "cell_type": "code",
   "execution_count": null,
   "id": "706d4bbb",
   "metadata": {},
   "outputs": [],
   "source": []
  }
 ],
 "metadata": {
  "kernelspec": {
   "display_name": "Python 3 (ipykernel)",
   "language": "python",
   "name": "python3"
  },
  "language_info": {
   "codemirror_mode": {
    "name": "ipython",
    "version": 3
   },
   "file_extension": ".py",
   "mimetype": "text/x-python",
   "name": "python",
   "nbconvert_exporter": "python",
   "pygments_lexer": "ipython3",
   "version": "3.9.7"
  }
 },
 "nbformat": 4,
 "nbformat_minor": 5
}
