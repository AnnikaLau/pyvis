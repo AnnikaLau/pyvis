{
 "cells": [
  {
   "cell_type": "code",
   "execution_count": null,
   "id": "2e4d4c73",
   "metadata": {},
   "outputs": [],
   "source": [
    "import cartopy.crs as ccrs\n",
    "import matplotlib.pyplot as plt\n",
    "import numpy as np\n",
    "import xarray as xr"
   ]
  },
  {
   "cell_type": "code",
   "execution_count": null,
   "id": "fc6885f7",
   "metadata": {},
   "outputs": [],
   "source": [
    "import psyplot.project as psy\n",
    "import xarray as xr\n",
    "import numpy as np\n",
    "import iconarray\n",
    "import matplotlib as mpl"
   ]
  },
  {
   "cell_type": "code",
   "execution_count": null,
   "id": "b480d0d9",
   "metadata": {},
   "outputs": [],
   "source": [
    "# show figures after they are drawn or updated\n",
    "psy.rcParams['auto_show'] = True\n",
    "\n",
    "%matplotlib inline\n",
    "%config InlineBackend.close_figures = False"
   ]
  },
  {
   "cell_type": "code",
   "execution_count": null,
   "id": "78af1a26",
   "metadata": {},
   "outputs": [],
   "source": [
    "fN = \"../data/cmip5_delta_pr_rcp85_map.nc\"\n",
    "\n",
    "# load data, omitting some unnecessary variables\n",
    "pr = xr.open_dataset(fN, drop_variables=[\"pr_rel\", \"proj\", \"agree_sign\", \"pval\"])"
   ]
  },
  {
   "cell_type": "code",
   "execution_count": null,
   "id": "3640170c",
   "metadata": {},
   "outputs": [],
   "source": [
    "# plot\n",
    "plot1 = pr.psy.plot.mapplot(\n",
    "    name=\"hist\",\n",
    "    projection=\"robin\",\n",
    "    borders=True,\n",
    "    transform=ccrs.PlateCarree(),\n",
    "    cmap='viridis'\n",
    ")"
   ]
  },
  {
   "cell_type": "code",
   "execution_count": null,
   "id": "3533ac29",
   "metadata": {},
   "outputs": [],
   "source": [
    "# plot\n",
    "plot2 = pr.psy.plot.mapplot(\n",
    "    name=\"hist\",\n",
    "    projection=\"robin\",\n",
    "    borders=True,\n",
    "    transform=ccrs.PlateCarree(),\n",
    "    cmap='Blues',\n",
    "    map_extent=[-150, -130, 30, 70],\n",
    "    bounds={'method':'minmax','vmax':2500,'vmin':0}\n",
    ")\n"
   ]
  },
  {
   "cell_type": "code",
   "execution_count": null,
   "id": "7db739a2",
   "metadata": {},
   "outputs": [],
   "source": [
    "plot2.update(borders=False, xgrid=False, ygrid=False, lakes=False)"
   ]
  },
  {
   "cell_type": "code",
   "execution_count": null,
   "id": "ab33c6aa",
   "metadata": {},
   "outputs": [],
   "source": [
    "fN = '../data/cesm_temp.nc'\n",
    "\n",
    "cesm = xr.open_dataset(fN)\n",
    "\n",
    "cesm.temp"
   ]
  },
  {
   "cell_type": "code",
   "execution_count": null,
   "id": "654cf39c",
   "metadata": {},
   "outputs": [],
   "source": [
    "#plt.colorbar(h, extend=\"both\")\n",
    "\n",
    "# plot\n",
    "plot3 = cesm.psy.plot.mapplot(\n",
    "    name=\"temp\",\n",
    "    projection=ccrs.PlateCarree(),\n",
    "    transform=ccrs.PlateCarree(),\n",
    "    cmap='RdBu_r',\n",
    "    bounds={'method':'minmax','vmin':243,'vmax':303},\n",
    "    xgrid=False,\n",
    "    ygrid=False,\n",
    "    lakes=False\n",
    ")\n"
   ]
  }
 ],
 "metadata": {
  "kernelspec": {
   "display_name": "Python 3 (ipykernel)",
   "language": "python",
   "name": "python3"
  },
  "language_info": {
   "codemirror_mode": {
    "name": "ipython",
    "version": 3
   },
   "file_extension": ".py",
   "mimetype": "text/x-python",
   "name": "python",
   "nbconvert_exporter": "python",
   "pygments_lexer": "ipython3",
   "version": "3.9.7"
  }
 },
 "nbformat": 4,
 "nbformat_minor": 5
}
