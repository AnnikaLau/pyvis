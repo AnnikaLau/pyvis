{
 "cells": [
  {
   "cell_type": "markdown",
   "metadata": {},
   "source": [
    "# Exercise 3.z Trajectories\n",
    "\n",
    "This is a short exercise showing how you can create lines colored according to a 3rd value.\n",
    "\n",
    "It is similar to an exercise prepared by Nicolas Piaget in the c2sm python workshop.\n",
    "\n",
    "It uses data calculated with the `lagranto` tool. `lagranto` is part of the Lagrangian Analysis Tool, [Sprenger and Wernli, 2015](https://www.geosci-model-dev.net/8/2569/2015/gmd-8-2569-2015.html)."
   ]
  },
  {
   "cell_type": "code",
   "execution_count": null,
   "metadata": {},
   "outputs": [],
   "source": [
    "import cartopy.crs as ccrs\n",
    "import cartopy.util as cutil\n",
    "import cartopy.feature as cfeature\n",
    "\n",
    "import matplotlib.pyplot as plt\n",
    "import numpy as np\n",
    "import scipy\n",
    "\n",
    "import seaborn as sns\n",
    "import xarray as xr\n",
    "\n",
    "%matplotlib inline"
   ]
  },
  {
   "cell_type": "code",
   "execution_count": null,
   "metadata": {},
   "outputs": [],
   "source": [
    "import utils"
   ]
  },
  {
   "cell_type": "markdown",
   "metadata": {},
   "source": [
    "## Load data\n",
    "\n",
    "Code from the Traj tool in the [Atmospheric Dynamics Group at ETH Zurich](http://www.iac.ethz.ch/groups/wernli)."
   ]
  },
  {
   "cell_type": "code",
   "execution_count": null,
   "metadata": {},
   "outputs": [],
   "source": [
    "fN = './../data/lsl_20070119_12_ana_48'\n",
    "\n",
    "def read_trajectories(fN):\n",
    "\n",
    "    open_file = open(fN, 'r')\n",
    "    file_lines = open_file.readlines()\n",
    "    nvariables = file_lines[2].strip().split()\n",
    "    head = file_lines[0].split()\n",
    "\n",
    "    nhead=5\n",
    "\n",
    "    dtypes = ['f8' for var in nvariables]\n",
    "    array = scipy.genfromtxt(fN,\n",
    "                                 dtype=dtypes,\n",
    "                                 names=nvariables,\n",
    "                                 skip_header=nhead,\n",
    "                                 missing_values=-999.99)\n",
    "\n",
    "    timestep = float(array[1][0]) - float(array[0][0])\n",
    "    period = float(array[-1][0]) - float(array[0][0])\n",
    "    ntime = int(1 + scipy.around(period / timestep))\n",
    "    ntra = int(array.size / ntime)\n",
    "\n",
    "    # reshape traj file\n",
    "    return scipy.reshape(array, (ntra, ntime))\n",
    "    \n",
    "    \n",
    "traj = read_trajectories(fN)"
   ]
  },
  {
   "cell_type": "markdown",
   "metadata": {},
   "source": [
    "### Exercise\n",
    "\n",
    " * plot the latitude and longitude of the trajectories\n",
    " \n",
    "> each row in `traj` corresponds to one trajectory"
   ]
  },
  {
   "cell_type": "code",
   "execution_count": null,
   "metadata": {},
   "outputs": [],
   "source": [
    "lon = traj['lon']\n",
    "lat = traj['lat']\n",
    "\n",
    "# code here\n",
    "\n"
   ]
  },
  {
   "cell_type": "markdown",
   "metadata": {},
   "source": [
    "### Solution"
   ]
  },
  {
   "cell_type": "code",
   "execution_count": null,
   "metadata": {},
   "outputs": [],
   "source": [
    "f = plt.figure()\n",
    "ax = plt.axes(projection=ccrs.PlateCarree())\n",
    "\n",
    "ax.coastlines()\n",
    "\n",
    "lon = traj['lon']\n",
    "lat = traj['lat']\n",
    "\n",
    "n_tra = len(lon)\n",
    "for i in range(len(lon)):\n",
    "    ax.plot(lon[i], lat[i], color='0.5')\n"
   ]
  },
  {
   "cell_type": "markdown",
   "metadata": {},
   "source": [
    "You can also directly plot all the lines:"
   ]
  },
  {
   "cell_type": "code",
   "execution_count": null,
   "metadata": {},
   "outputs": [],
   "source": [
    "f = plt.figure()\n",
    "ax = plt.axes(projection=ccrs.PlateCarree())\n",
    "\n",
    "ax.coastlines()\n",
    "\n",
    "lon = traj['lon']\n",
    "lat = traj['lat']\n",
    "\n",
    "ax.plot(lon.T, lat.T, color='0.5');"
   ]
  },
  {
   "cell_type": "markdown",
   "metadata": {},
   "source": [
    "## colorline\n",
    "\n",
    "There is no direct way, to color lines in pyplot. Therefore we start an internet search and find the following [notebook](http://nbviewer.jupyter.org/github/dpsanders/matplotlib-examples/blob/master/colorline.ipynb).\n",
    "\n",
    "So we copy the code from there"
   ]
  },
  {
   "cell_type": "code",
   "execution_count": null,
   "metadata": {},
   "outputs": [],
   "source": [
    "from matplotlib.collections import LineCollection\n",
    "from matplotlib.colors import ListedColormap, BoundaryNorm\n",
    "\n",
    "\n",
    "# Data manipulation:\n",
    "def make_segments(x, y):\n",
    "    '''\n",
    "    Create list of line segments from x and y coordinates, in the correct format for LineCollection:\n",
    "    an array of the form   numlines x (points per line) x 2 (x and y) array\n",
    "    '''\n",
    "\n",
    "    points = np.array([x, y]).T.reshape(-1, 1, 2)\n",
    "    segments = np.concatenate([points[:-1], points[1:]], axis=1)\n",
    "    \n",
    "    return segments\n",
    "\n",
    "\n",
    "# Interface to LineCollection:\n",
    "\n",
    "def colorline(x, y, z=None, cmap=plt.get_cmap('copper'), norm=plt.Normalize(0.0, 1.0), linewidth=3, alpha=1.0):\n",
    "    '''\n",
    "    Plot a colored line with coordinates x and y\n",
    "    Optionally specify colors in the array z\n",
    "    Optionally specify a colormap, a norm function and a line width\n",
    "    '''\n",
    "    \n",
    "    # Default colors equally spaced on [0,1]:\n",
    "    if z is None:\n",
    "        z = np.linspace(0.0, 1.0, len(x))\n",
    "           \n",
    "    # Special case if a single number:\n",
    "    if not hasattr(z, \"__iter__\"):  # to check for numerical input -- this is a hack\n",
    "        z = np.array([z])\n",
    "        \n",
    "    z = np.asarray(z)\n",
    "    \n",
    "    segments = make_segments(x, y)\n",
    "    lc = LineCollection(segments, array=z, cmap=cmap, norm=norm, linewidth=linewidth, alpha=alpha)\n",
    "    \n",
    "    ax = plt.gca()\n",
    "    ax.add_collection(lc)\n",
    "    \n",
    "    return lc"
   ]
  },
  {
   "cell_type": "markdown",
   "metadata": {},
   "source": [
    "### Exercise\n",
    "\n",
    " * try to get colorline to work\n",
    " * you will need to use set_extent\n",
    " * add a colorbar\n",
    " * bonus: use `make_axes_locatable` to ensure the colorbar has the right height"
   ]
  },
  {
   "cell_type": "code",
   "execution_count": null,
   "metadata": {},
   "outputs": [],
   "source": [
    "from mpl_toolkits.axes_grid1 import make_axes_locatable\n",
    "\n",
    "print(lon.min(), lon.max())\n",
    "print(lat.min(), lat.max())"
   ]
  },
  {
   "cell_type": "code",
   "execution_count": null,
   "metadata": {},
   "outputs": [],
   "source": [
    "# code here\n"
   ]
  },
  {
   "cell_type": "markdown",
   "metadata": {},
   "source": [
    "### Solution"
   ]
  },
  {
   "cell_type": "code",
   "execution_count": null,
   "metadata": {},
   "outputs": [],
   "source": [
    "f = plt.figure()\n",
    "ax = plt.axes(projection=ccrs.PlateCarree())\n",
    "\n",
    "ax.coastlines()\n",
    "\n",
    "lc = colorline(lon.T, lat.T)\n",
    "\n",
    "plt.draw()\n",
    "\n",
    "ax.set_extent([-90, 0, 20, 80], ccrs.PlateCarree())\n",
    "\n",
    "# create axes that has the right size\n",
    "divider = make_axes_locatable(ax)\n",
    "cbax = divider.append_axes('right', size=\"6.5%\", pad=0.1, axes_class=plt.Axes)\n",
    "\n",
    "# create colorbar in this axes\n",
    "cbar = plt.colorbar(lc, cax=cbax, orientation='vertical', extend='both')"
   ]
  },
  {
   "cell_type": "markdown",
   "metadata": {},
   "source": [
    "### Exercise\n",
    "\n",
    " * color the lines according to the potential temperature (`TH = traj['TH']`)\n",
    " * what do you have to choose for `norm=plt.Normalize(min, max)`?\n",
    " * use the Reds colormap\n",
    " \n",
    "Note\n",
    "> you will have to loop through lat, lon and TH \n",
    " "
   ]
  },
  {
   "cell_type": "code",
   "execution_count": null,
   "metadata": {},
   "outputs": [],
   "source": [
    "f = plt.figure()\n",
    "ax = plt.axes(projection=ccrs.PlateCarree())\n",
    "\n",
    "ax.coastlines()\n",
    "\n",
    "TH = traj['TH']\n",
    "\n",
    "n_tra = len(lon)\n",
    "\n",
    "# adjust colorline // add loop\n",
    "lc = colorline(lon.T, lat.T)\n",
    "\n",
    "ax.set_extent([-90, 0, 20, 80], ccrs.PlateCarree())\n",
    "\n",
    "# create axes that has the right size\n",
    "divider = make_axes_locatable(ax)\n",
    "cbax = divider.append_axes('right', size=\"6.5%\", pad=0.1, axes_class=plt.Axes)\n",
    "\n",
    "# create colorbar in this axes\n",
    "cbar = plt.colorbar(lc, cax=cbax, orientation='vertical', extend='both')"
   ]
  },
  {
   "cell_type": "markdown",
   "metadata": {},
   "source": [
    "### Solution\n",
    "\n",
    "Le't also add ticks and ticklabels. As this is a PlateCarree map, we can use the ordinary mechanism."
   ]
  },
  {
   "cell_type": "code",
   "execution_count": null,
   "metadata": {},
   "outputs": [],
   "source": [
    "from cartopy.mpl.ticker import LongitudeFormatter, LatitudeFormatter"
   ]
  },
  {
   "cell_type": "code",
   "execution_count": null,
   "metadata": {},
   "outputs": [],
   "source": [
    "f = plt.figure()\n",
    "ax = plt.axes(projection=ccrs.PlateCarree())\n",
    "\n",
    "ax.coastlines()\n",
    "\n",
    "TH = traj['TH']\n",
    "\n",
    "n_tra = len(lon)\n",
    "\n",
    "norm = plt.Normalize(TH.min(), TH.max())\n",
    "cmap = plt.get_cmap('Reds')\n",
    "\n",
    "for i in range(n_tra):\n",
    "    lc = colorline(lon[i], lat[i], TH[i], norm=norm , linewidth=1, cmap=cmap)\n",
    "\n",
    "\n",
    "ax.set_extent([-90, 0, 20, 80], ccrs.PlateCarree())\n",
    "\n",
    "# create axes that has the right size\n",
    "divider = make_axes_locatable(ax)\n",
    "cbax = divider.append_axes('right', size=\"4%\", pad=0.1, axes_class=plt.Axes)\n",
    "\n",
    "# create colorbar in this axes\n",
    "cbar = plt.colorbar(lc, cax=cbax, orientation='vertical', extend='both')\n",
    "\n",
    "\n",
    "\n",
    "# set ticks\n",
    "tick_lon = np.arange(-90, 1, 15)\n",
    "tick_lat = np.arange(20, 81, 10)\n",
    "\n",
    "# set the ticks\n",
    "ax.set_xticks(tick_lon, crs=ccrs.PlateCarree());\n",
    "ax.set_yticks(tick_lat, crs=ccrs.PlateCarree());\n",
    "\n",
    "# format the ticks as e.g 60°W\n",
    "ax.xaxis.set_major_formatter(LongitudeFormatter())\n",
    "ax.yaxis.set_major_formatter(LatitudeFormatter())"
   ]
  }
 ],
 "metadata": {
  "kernelspec": {
   "display_name": "Python 3",
   "language": "python",
   "name": "python3"
  },
  "language_info": {
   "codemirror_mode": {
    "name": "ipython",
    "version": 3
   },
   "file_extension": ".py",
   "mimetype": "text/x-python",
   "name": "python",
   "nbconvert_exporter": "python",
   "pygments_lexer": "ipython3",
   "version": "3.5.4"
  }
 },
 "nbformat": 4,
 "nbformat_minor": 2
}
