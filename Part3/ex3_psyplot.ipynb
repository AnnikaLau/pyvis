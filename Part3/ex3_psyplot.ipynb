{
 "cells": [
  {
   "cell_type": "code",
   "execution_count": null,
   "id": "d81a5109",
   "metadata": {},
   "outputs": [],
   "source": [
    "# IGNORE THIS CELL WHICH CUSTOMIZES LAYOUT AND STYLING OF THE NOTEBOOK !\n",
    "%matplotlib inline\n",
    "%config InlineBackend.figure_format = 'retina'\n",
    "import warnings\n",
    "warnings.filterwarnings(\"ignore\", category=FutureWarning)\n",
    "warnings.filterwarnings = lambda *a, **kw: None"
   ]
  },
  {
   "cell_type": "markdown",
   "id": "ced48a8d",
   "metadata": {},
   "source": [
    "# Exercise 3_psyplot Mesh plots (psyplot)\n",
    "prepared by A. Lauber\n",
    "\n",
    "Here we learn how to plot data from an unstructured grid like the [ICON](https://code.mpimet.mpg.de/projects/iconpublic) grid as mesh grid.\n",
    "There is the option to interpolate the data to a regular grid or to use the library [psyplot](https://psyplot.github.io), which was developed for plotting data on the unstructured grid.\n",
    "\n",
    "Advantages of plotting on the unstructured grid:\n",
    "- Shows the real output and no interpolation\n",
    "- No preprocessing of the data necessary\n",
    "\n",
    "Disadvantages of plotting on the unstructured grid:\n",
    "- It can be quite slow depending on the size of your netCDF file\n",
    "- Not all features are available yet (psyplot is still under development)\n",
    "\n",
    "\n",
    "## Import libraries"
   ]
  },
  {
   "cell_type": "code",
   "execution_count": null,
   "id": "4dd1ba32",
   "metadata": {},
   "outputs": [],
   "source": [
    "import xarray as xr\n",
    "import numpy as np\n",
    "import cartopy.crs as ccrs\n",
    "import cartopy\n",
    "import matplotlib.pyplot as plt\n",
    "import cmcrameri.cm as cmc\n",
    "import urllib.request"
   ]
  },
  {
   "cell_type": "markdown",
   "id": "93db2220",
   "metadata": {},
   "source": [
    "## Download data\n",
    "\n",
    "We will use a netCDF file created with an ICON run by Nadja Omanovic.\n",
    "It was reduced to the 2m temperature over Switzerland to save space. The file is saved on the FTP server from IAC."
   ]
  },
  {
   "cell_type": "code",
   "execution_count": null,
   "id": "e18d0f51",
   "metadata": {},
   "outputs": [],
   "source": [
    "ftp_pyvis = \"ftp://iacftp.ethz.ch/pub_read/alauber/pyvis/\"\n",
    "filename = \"my_exp1_atm_3d_ml_20180921T000000Z_t2m.nc\"\n",
    "urllib.request.urlretrieve(ftp_pyvis+filename, filename)\n",
    "filename = \"rmp_my_exp1_atm_3d_ml_20180921T000000Z.nc\"\n",
    "urllib.request.urlretrieve(ftp_pyvis+filename, filename)"
   ]
  },
  {
   "cell_type": "markdown",
   "id": "bc079938",
   "metadata": {},
   "source": [
    "## Now have a look into the data"
   ]
  },
  {
   "cell_type": "code",
   "execution_count": null,
   "id": "55cab2c0",
   "metadata": {},
   "outputs": [],
   "source": [
    "ds = xr.open_dataset(\"my_exp1_atm_3d_ml_20180921T000000Z_t2m.nc\")\n",
    "ds"
   ]
  },
  {
   "cell_type": "markdown",
   "id": "3f62f52d",
   "metadata": {},
   "source": [
    "## Plot data with pcolormesh\n",
    "Why does it not work?"
   ]
  },
  {
   "cell_type": "code",
   "execution_count": null,
   "id": "166f9db5",
   "metadata": {},
   "outputs": [],
   "source": [
    "# Get data\n",
    "lon, lat, temp = ds.clon, ds.clat, ds.t_2m[:,:,:]\n",
    "\n",
    "# Code here\n"
   ]
  },
  {
   "cell_type": "markdown",
   "id": "f7a6afe9",
   "metadata": {},
   "source": [
    "Answer: pcolormesh cannot handle data on an unstructered grid.\n",
    "\n",
    "## Plot data with pcolormesh using remapped data\n",
    "\n",
    "Have a look into the remapped data first:"
   ]
  },
  {
   "cell_type": "code",
   "execution_count": null,
   "id": "f76604d0",
   "metadata": {},
   "outputs": [],
   "source": [
    "ds_rmp = xr.open_dataset(\"rmp_my_exp1_atm_3d_ml_20180921T000000Z.nc\")\n",
    "ds_rmp"
   ]
  },
  {
   "cell_type": "markdown",
   "id": "d64a4948",
   "metadata": {},
   "source": [
    "### Exercise\n",
    " * Plot the 2m temperature over Switzerland\n",
    " * Use the projection=ccrs.Robinson() (don't forget to transform the data)\n",
    " * Add the borders of Switzerland\n",
    " * Cut off data outside of Switzerland (5.8<lon<10.7, 45.5<lat<48)\n",
    " * Add a colorbar\n",
    " * Set limits to the colorbar\n",
    " * Use the colormap cmc.nuuk"
   ]
  },
  {
   "cell_type": "code",
   "execution_count": null,
   "id": "74dda0e3",
   "metadata": {},
   "outputs": [],
   "source": [
    "# get data\n",
    "lon, lat, temp = ds_rmp.lon, ds_rmp.lat, ds_rmp.t_2m[0,0,:,:]\n",
    "\n",
    "# Code for plotting here\n"
   ]
  },
  {
   "cell_type": "markdown",
   "id": "15b6afe1",
   "metadata": {},
   "source": [
    "## Solution"
   ]
  },
  {
   "cell_type": "code",
   "execution_count": null,
   "id": "2c903767",
   "metadata": {},
   "outputs": [],
   "source": [
    "# get data\n",
    "lon, lat, temp = ds_rmp.lon, ds_rmp.lat, ds_rmp.t_2m[0,0,:,:]\n",
    "\n",
    "ax = plt.axes(projection=ccrs.Robinson())\n",
    "\n",
    "h = ax.pcolormesh(lon,lat,temp, transform=ccrs.PlateCarree(), cmap = cmc.nuuk,\n",
    "             vmin=260,vmax=300)\n",
    "\n",
    "ax.add_feature(cartopy.feature.BORDERS)\n",
    "\n",
    "ax.set_extent([5.8, 10.7, 45.5, 48])\n",
    "plt.colorbar(h)\n",
    "plt.show()"
   ]
  },
  {
   "cell_type": "markdown",
   "id": "25a752bc",
   "metadata": {},
   "source": [
    "## Let's do the same now on the original grid\n",
    "We will now get started with [psyplot](https://psyplot.github.io). You can have a look at the website.\n",
    "\n",
    "First we need to import the psyplot library:"
   ]
  },
  {
   "cell_type": "code",
   "execution_count": null,
   "id": "b1af2891",
   "metadata": {},
   "outputs": [],
   "source": [
    "import psyplot.project as psy\n",
    "psy.rcParams['auto_show'] = True"
   ]
  },
  {
   "cell_type": "markdown",
   "id": "b84a532c",
   "metadata": {},
   "source": [
    "Let's now take the file with the original ICON grid and plot it.\n",
    "\n",
    "## Load data with psyplot"
   ]
  },
  {
   "cell_type": "code",
   "execution_count": null,
   "id": "e62355b5",
   "metadata": {},
   "outputs": [],
   "source": [
    "# Load dataset with psyplot\n",
    "ds_icon = psy.open_dataset(\"my_exp1_atm_3d_ml_20180921T000000Z_t2m.nc\")\n",
    "ds_icon"
   ]
  },
  {
   "cell_type": "markdown",
   "id": "6dce1b53",
   "metadata": {},
   "source": [
    "## Plot data with psyplot"
   ]
  },
  {
   "cell_type": "code",
   "execution_count": null,
   "id": "0b96807f",
   "metadata": {},
   "outputs": [],
   "source": [
    "plot_icon = ds_icon.psy.plot.mapplot(name='t_2m')"
   ]
  },
  {
   "cell_type": "markdown",
   "id": "dac55aeb",
   "metadata": {},
   "source": [
    "Guess we can do that nicer....\n",
    "\n",
    "Checkout the [available formatoptions](https://psyplot.github.io/psy-maps/generated/psyplot.project.plot.mapplot.html) and try to make the same plot as before.\n",
    "\n",
    "\n",
    "### Exercise\n",
    " * Plot the 2m temperature over Switzerland\n",
    " * Use the projection=ccrs.Robinson() (don't forget to transform the data)\n",
    " * Add the borders of Switzerland\n",
    " * Cut off data outside of Switzerland (5.8<lon<10.7, 45.5<lat<48)\n",
    " * Set limits to the colorbar\n",
    " * Use the colormap cmc.nuuk\n",
    " \n",
    " (Hints: map_extent, bounds={'method':'..','vmin':'..'}, you need to use ax.add_feature)"
   ]
  },
  {
   "cell_type": "code",
   "execution_count": null,
   "id": "b2bc3c6a",
   "metadata": {},
   "outputs": [],
   "source": [
    "import cartopy.feature as cf\n",
    "plot_icon = ds_icon.psy.plot.mapplot(...)\n",
    "ax = plot_icon.plotters[0].ax\n"
   ]
  },
  {
   "cell_type": "markdown",
   "id": "ed6deb30",
   "metadata": {},
   "source": [
    "## Solution"
   ]
  },
  {
   "cell_type": "code",
   "execution_count": null,
   "id": "d9ec59b4",
   "metadata": {},
   "outputs": [],
   "source": [
    "import cartopy.feature as cf\n",
    "plot_icon = ds_icon.psy.plot.mapplot(name='t_2m',\n",
    "                                     projection=ccrs.Robinson(),\n",
    "                                     map_extent=[5.8, 10.7, 45.5, 48],\n",
    "                                     cmap=cmc.nuuk,\n",
    "                                     bounds={'method':'minmax','vmin':270,'vmax':300})\n",
    "ax = plot_icon.plotters[0].ax\n",
    "ax.add_feature(cf.BORDERS)"
   ]
  },
  {
   "cell_type": "markdown",
   "id": "b27b6191",
   "metadata": {},
   "source": [
    "## Exercise\n",
    "\n",
    "Adding borders is still a bit complicated. Therefore, MeteoSwiss and C2SM developed [iconarray](https://github.com/C2SM/iconarray). Checkout their [formatoptions](https://github.com/C2SM/iconarray#formatoptions) and repeat the exercise making use of them."
   ]
  },
  {
   "cell_type": "code",
   "execution_count": null,
   "id": "b057dc82",
   "metadata": {},
   "outputs": [],
   "source": [
    "import iconarray\n",
    "plot_icon = ds_icon.psy.plot.mapplot(...)"
   ]
  },
  {
   "cell_type": "markdown",
   "id": "107545b8",
   "metadata": {},
   "source": [
    "## Solution"
   ]
  },
  {
   "cell_type": "code",
   "execution_count": null,
   "id": "67a2e2e8",
   "metadata": {},
   "outputs": [],
   "source": [
    "import iconarray\n",
    "plot_icon = ds_icon.psy.plot.mapplot(name='t_2m',\n",
    "                                     projection=ccrs.Robinson(),\n",
    "                                     map_extent=[5.8, 10.7, 45.5, 48],\n",
    "                                     cmap=cmc.nuuk,\n",
    "                                     bounds={'method':'minmax','vmin':270,'vmax':300},\n",
    "                                     borders = True)"
   ]
  },
  {
   "cell_type": "markdown",
   "id": "0bfc0a77",
   "metadata": {},
   "source": [
    "It's time to introduce you to the C2SM repository [icon-vis](https://github.com/C2SM/icon-vis) now, which was developed together with MeteoSwiss. It contains easy-to-use scripts for plotting ICON on the unstructered grid using [psyplot](https://psyplot.github.io) and [iconarray](https://github.com/C2SM/iconarray). Principally, it should also work for other model output, however, it is not being tested for that."
   ]
  },
  {
   "cell_type": "code",
   "execution_count": null,
   "id": "af875ff9",
   "metadata": {},
   "outputs": [],
   "source": []
  }
 ],
 "metadata": {
  "kernelspec": {
   "display_name": "Python 3 (ipykernel)",
   "language": "python",
   "name": "python3"
  },
  "language_info": {
   "codemirror_mode": {
    "name": "ipython",
    "version": 3
   },
   "file_extension": ".py",
   "mimetype": "text/x-python",
   "name": "python",
   "nbconvert_exporter": "python",
   "pygments_lexer": "ipython3",
   "version": "3.8.15"
  }
 },
 "nbformat": 4,
 "nbformat_minor": 5
}
