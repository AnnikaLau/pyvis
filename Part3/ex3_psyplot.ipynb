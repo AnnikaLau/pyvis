{
 "cells": [
  {
   "cell_type": "code",
   "execution_count": null,
   "id": "d81a5109",
   "metadata": {},
   "outputs": [],
   "source": [
    "# IGNORE THIS CELL WHICH CUSTOMIZES LAYOUT AND STYLING OF THE NOTEBOOK !\n",
    "%matplotlib inline\n",
    "%config InlineBackend.figure_format = 'retina'\n",
    "import warnings\n",
    "warnings.filterwarnings(\"ignore\", category=FutureWarning)\n",
    "warnings.filterwarnings = lambda *a, **kw: None"
   ]
  },
  {
   "cell_type": "markdown",
   "id": "ced48a8d",
   "metadata": {},
   "source": [
    "# Exercise 3_psyplot Mesh plots (psyplot)\n",
    "prepared by A. Lauber\n",
    "\n",
    "Here we learn how to plot data from an unstructured grid like the ICON model as mesh grid.\n",
    "There is the option to interpolate the data to a regular grid or to use the library [psyplot](https://psyplot.github.io), which was developed for plotting data on the unstructured grid.\n",
    "\n",
    "Advantages of plotting on the unstructured grid:\n",
    "- Shows the real output and no interpolation\n",
    "- No preprocessing of the data necessary\n",
    "\n",
    "Disadvantages of plotting on the unstructured grid:\n",
    "- It can be quite slow depending on the size of your netCDF file\n",
    "- Not all features are available yet (psyplot is still under development)\n",
    "\n",
    "\n",
    "## Import libraries"
   ]
  },
  {
   "cell_type": "code",
   "execution_count": null,
   "id": "4dd1ba32",
   "metadata": {},
   "outputs": [],
   "source": [
    "import xarray as xr\n",
    "import numpy as np\n",
    "import cartopy.crs as ccrs\n",
    "import cartopy\n",
    "import matplotlib.pyplot as plt\n",
    "import cmcrameri.cm as cmc\n",
    "import psyplot.project as psy\n",
    "import urllib.request\n",
    "from cdo import *\n",
    "\n",
    "psy.rcParams['auto_show'] = True"
   ]
  },
  {
   "cell_type": "code",
   "execution_count": null,
   "id": "e18d0f51",
   "metadata": {},
   "outputs": [],
   "source": [
    "#Download data from ftp server\n",
    "urllib.request.urlretrieve(\"ftp://iacftp.ethz.ch/pub_read/alauber/nc/my_exp1_atm_3d_ml_20180921T000000Z.nc\", \"my_exp1_atm_3d_ml_20180921T000000Z.nc\")"
   ]
  },
  {
   "cell_type": "code",
   "execution_count": null,
   "id": "55cab2c0",
   "metadata": {},
   "outputs": [],
   "source": [
    "# Have a look into the data\n",
    "ds = xr.open_dataset(\"my_exp1_atm_3d_ml_20180921T000000Z.nc\")\n",
    "np.min(ds['clon'].values)"
   ]
  },
  {
   "cell_type": "code",
   "execution_count": null,
   "id": "166f9db5",
   "metadata": {},
   "outputs": [],
   "source": [
    "# Try to plot t_2m with pcolormesh.\n",
    "# Why does it not work?\n",
    "lon, lat, temp = ds.clon, ds.clat, ds.t_2m[:,:,:]\n",
    "\n",
    "ax = plt.axes(projection=ccrs.Robinson())\n",
    "\n",
    "h = ax.pcolormesh(lon,lat,temp, transform=ccrs.PlateCarree(),cmap = cmc.nuuk,)"
   ]
  },
  {
   "cell_type": "code",
   "execution_count": null,
   "id": "21f83d14",
   "metadata": {},
   "outputs": [],
   "source": [
    "# Download the same data but a remapped version\n",
    "urllib.request.urlretrieve(\"ftp://iacftp.ethz.ch/pub_read/alauber/pyvis/rmp_my_exp1_atm_3d_ml_20180921T000000Z.nc\", \"rmp_my_exp1_atm_3d_ml_20180921T000000Z.nc\")"
   ]
  },
  {
   "cell_type": "code",
   "execution_count": null,
   "id": "f76604d0",
   "metadata": {},
   "outputs": [],
   "source": [
    "# Have a look into the data\n",
    "ds_rmp = xr.open_dataset(\"rmp_my_exp1_atm_3d_ml_20180921T000000Z.nc\")\n",
    "ds_rmp"
   ]
  },
  {
   "cell_type": "code",
   "execution_count": null,
   "id": "2c903767",
   "metadata": {},
   "outputs": [],
   "source": [
    "# get data\n",
    "lon, lat, temp = ds_rmp.lon, ds_rmp.lat, ds_rmp.t_2m[0,0,:,:]\n",
    "\n",
    "ax = plt.axes(projection=ccrs.Robinson())\n",
    "\n",
    "h = ax.pcolormesh(lon,lat,temp, transform=ccrs.PlateCarree(),shading='nearest',cmap = cmc.nuuk,\n",
    "             vmin=260,vmax=300)\n",
    "\n",
    "ax.add_feature(cartopy.feature.BORDERS)\n",
    "\n",
    "ax.set_extent([5.8, 10.7, 45.5, 48])\n",
    "plt.colorbar(h)\n",
    "plt.show()"
   ]
  },
  {
   "cell_type": "code",
   "execution_count": null,
   "id": "f17bfbfb",
   "metadata": {},
   "outputs": [],
   "source": [
    "ds_icon = psy.open_dataset(\"../../icon-vis/data/example_data/nc/my_exp1_atm_3d_ml_20180921T000000Z.nc\")\n",
    "ds_icon"
   ]
  },
  {
   "cell_type": "code",
   "execution_count": null,
   "id": "aedcad24",
   "metadata": {},
   "outputs": [],
   "source": [
    "%config InlineBackend.close_figures = False\n",
    "import iconarray\n",
    "lonmin = 5.8\n",
    "lonmax = 10.7\n",
    "latmin = 45.5\n",
    "latmax = 48.0\n",
    "plot_icon = ds_icon.psy.plot.mapplot(\n",
    "    name = 't_2m',\n",
    "    t = 0,\n",
    "    projection = 'robin',\n",
    "    bounds = {'method': 'minmax', 'vmin':260, 'vmax':300},\n",
    "    map_extent = [lonmin, lonmax, latmin, latmax],\n",
    "    title = '2m temperature',\n",
    "    cmap = cmc.nuuk,\n",
    "    borders=True,\n",
    "    xgrid=False,\n",
    "    ygrid=False)"
   ]
  },
  {
   "cell_type": "code",
   "execution_count": null,
   "id": "4a825586",
   "metadata": {},
   "outputs": [],
   "source": [
    "ds_alnu = xr.open_dataset(\"../data.nc\")\n",
    "ds_alnu.ALNU.values = np.log10(ds_alnu.ALNU.values + 1)\n",
    "ds_alnu"
   ]
  },
  {
   "cell_type": "code",
   "execution_count": null,
   "id": "e1fa2844",
   "metadata": {},
   "outputs": [],
   "source": [
    "# Checkout the formatoptions (https://psyplot.github.io/psy-maps/generated/psyplot.project.plot.mapplot.html)\n",
    "# change the grid color to white, add a label to the colorbar, change the projection and cmap etc.\n",
    "plot_alnu = ds_alnu.psy.plot.mapplot(\n",
    "    name=\"ALNU\",\n",
    "    title=\"Alder Pollen in the Alps on 2020-02-15 20h\",\n",
    "    titlesize=15,\n",
    "    grid_color=\"white\",\n",
    "    cticksize=8,\n",
    "    clabel=\"Log. Pollen Concentrations [Pollen/m³]\",\n",
    "    grid_labelsize=8,\n",
    "    projection='robin',\n",
    "    cmap='RdBu_r')\n"
   ]
  },
  {
   "cell_type": "code",
   "execution_count": null,
   "id": "53af5ca3",
   "metadata": {},
   "outputs": [],
   "source": [
    "#Checkout https://github.com/C2SM/iconarray\n",
    "import iconarray "
   ]
  },
  {
   "cell_type": "code",
   "execution_count": null,
   "id": "4d4d2832",
   "metadata": {},
   "outputs": [],
   "source": [
    "plot_alnu = ds_alnu.psy.plot.mapplot(\n",
    "    name=\"ALNU\",\n",
    "    title=\"Alder Pollen in the Alps on 2020-02-15 20h\",\n",
    "    titlesize=15,\n",
    "    grid_color=\"white\",\n",
    "    cticksize=8,\n",
    "    clabel=\"Log. Pollen Concentrations [Pollen/m³]\",\n",
    "    grid_labelsize=8,\n",
    "    projection='robin',\n",
    "    cmap='RdBu_r')\n"
   ]
  },
  {
   "cell_type": "code",
   "execution_count": null,
   "id": "5d00668e",
   "metadata": {},
   "outputs": [],
   "source": [
    "plot_alnu.update(lakes=False, borders=False, rivers=False)"
   ]
  },
  {
   "cell_type": "code",
   "execution_count": null,
   "id": "2f293e66",
   "metadata": {},
   "outputs": [],
   "source": []
  }
 ],
 "metadata": {
  "kernelspec": {
   "display_name": "Python 3 (ipykernel)",
   "language": "python",
   "name": "python3"
  },
  "language_info": {
   "codemirror_mode": {
    "name": "ipython",
    "version": 3
   },
   "file_extension": ".py",
   "mimetype": "text/x-python",
   "name": "python",
   "nbconvert_exporter": "python",
   "pygments_lexer": "ipython3",
   "version": "3.8.15"
  }
 },
 "nbformat": 4,
 "nbformat_minor": 5
}
