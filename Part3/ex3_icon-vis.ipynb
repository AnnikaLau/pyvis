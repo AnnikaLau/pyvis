{
 "cells": [
  {
   "cell_type": "markdown",
   "id": "51237f51",
   "metadata": {},
   "source": [
    "## ICON-VIS\n",
    "\n",
    "It's time to introduce you to the C2SM repository [icon-vis](https://github.com/C2SM/icon-vis) now, which was developed together with MeteoSwiss. It contains easy-to-use scripts for plotting ICON on the unstructered grid using [psyplot](https://psyplot.github.io) and [iconarray](https://github.com/C2SM/iconarray). Principally, it should also work for other model output, however, it is not being tested for that.\n",
    "\n",
    "Let's have a look at the repository: [icon-vis](https://github.com/C2SM/icon-vis). In the README you should find all the information you need. Check the example plots and decide which one you want to work with (choose between map plot, difference map, timeseries and vertical profile). Within the specific folder you can read a more detailed description of what the script is plotting exactly. For those four plots, there exists a python script, an ipython script (for jupyter notebook) and a config file.\n",
    "\n",
    "## Exercise\n",
    "\n",
    "- Check out which config options are available for the specific script\n",
    "- Use the loaded netCDF ICON file for plotting (adapt the config file if necessary)\n",
    "- Play around with the available config options"
   ]
  }
 ],
 "metadata": {
  "kernelspec": {
   "display_name": "Python 3 (ipykernel)",
   "language": "python",
   "name": "python3"
  },
  "language_info": {
   "codemirror_mode": {
    "name": "ipython",
    "version": 3
   },
   "file_extension": ".py",
   "mimetype": "text/x-python",
   "name": "python",
   "nbconvert_exporter": "python",
   "pygments_lexer": "ipython3",
   "version": "3.8.15"
  }
 },
 "nbformat": 4,
 "nbformat_minor": 5
}
