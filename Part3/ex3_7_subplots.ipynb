{
 "cells": [
  {
   "cell_type": "markdown",
   "metadata": {},
   "source": [
    "# Exercise 3.6 Subplots with cartopy\n",
    "prepared by M.Hauser\n",
    "\n",
    "We already learned how to create subplots in [Exercise 1.4](./../Part1/ex1_4_subplots.ipynb), and we also used this for map plots. However, we suffer from the same problem as when adding colorbars - the axes are shrunk but the figure is not, leaving large gaps between the rows (or columns)...\n",
    "\n",
    "Note that most of what we show here for georeferenced plots does *NOT* apply for normal subplots."
   ]
  },
  {
   "cell_type": "code",
   "execution_count": null,
   "metadata": {},
   "outputs": [],
   "source": [
    "import cartopy.crs as ccrs\n",
    "import cartopy.util as cutil\n",
    "import cartopy.feature as cfeature\n",
    "\n",
    "import matplotlib.pyplot as plt\n",
    "import numpy as np\n",
    "\n",
    "import seaborn as sns\n",
    "import xarray as xr\n",
    "\n",
    "%matplotlib inline"
   ]
  },
  {
   "cell_type": "code",
   "execution_count": null,
   "metadata": {},
   "outputs": [],
   "source": [
    "import mplotutils as mpu"
   ]
  },
  {
   "cell_type": "markdown",
   "metadata": {},
   "source": [
    "## Example"
   ]
  },
  {
   "cell_type": "code",
   "execution_count": null,
   "metadata": {},
   "outputs": [],
   "source": [
    "f, axes = plt.subplots(2, 2, subplot_kw=dict(projection=ccrs.PlateCarree()))\n",
    "axes = axes.flatten()\n",
    "\n",
    "for ax in axes:\n",
    "    ax.coastlines()"
   ]
  },
  {
   "cell_type": "markdown",
   "metadata": {},
   "source": [
    "Again, the issue is that the aspect ratio of a map plot has to be equal, else it would be distorted. Matplotlib then 'shrinks' the axes, but does not shrink the area of the figure.\n",
    "\n",
    "\n",
    "### `bbox_inches='tight'`\n",
    "\n",
    "When you save a figure with `plt.savefig` you can tell matplotlib to remove all white boundary areas with `bbox_inches='tight'`. While this sounds like a good idea, the issue is that the final figure size is quite unpredictable. This can distort your font sizes. Also, if a journal asks for a figure with a certain size you cannot use this option.\n",
    "\n",
    "`bbox_inches='tight'` is not to be confused with `f.tight_layout()` which tries to optimise the room used for the subplots.\n",
    "\n",
    "The figures displayed in the notebooks use this option. To better see what figures we create, let's turn this option off, and set the background color to a light grey."
   ]
  },
  {
   "cell_type": "code",
   "execution_count": null,
   "metadata": {},
   "outputs": [],
   "source": [
    "%config InlineBackend.print_figure_kwargs = {'bbox_inches': None, 'facecolor': '0.9'}"
   ]
  },
  {
   "cell_type": "code",
   "execution_count": null,
   "metadata": {},
   "outputs": [],
   "source": [
    "f, axes = plt.subplots(2, 2, subplot_kw=dict(projection=ccrs.PlateCarree()))\n",
    "axes = axes.flatten()\n",
    "\n",
    "for ax in axes:\n",
    "    ax.coastlines()\n",
    "    ax.set_global()"
   ]
  },
  {
   "cell_type": "markdown",
   "metadata": {},
   "source": [
    "This is not very satisfying, also, `tight_layout` does not really help:"
   ]
  },
  {
   "cell_type": "code",
   "execution_count": null,
   "metadata": {},
   "outputs": [],
   "source": [
    "f, axes = plt.subplots(2, 2, subplot_kw=dict(projection=ccrs.PlateCarree()))\n",
    "axes = axes.flatten()\n",
    "\n",
    "for ax in axes:\n",
    "    ax.coastlines()\n",
    "    ax.set_global()\n",
    "        \n",
    "f.tight_layout()"
   ]
  },
  {
   "cell_type": "markdown",
   "metadata": {},
   "source": [
    "### Exercise\n",
    "\n",
    " * try the same with an Orthographic projection"
   ]
  },
  {
   "cell_type": "code",
   "execution_count": null,
   "metadata": {},
   "outputs": [],
   "source": [
    "# code here"
   ]
  },
  {
   "cell_type": "markdown",
   "metadata": {},
   "source": [
    "### Solution"
   ]
  },
  {
   "cell_type": "code",
   "execution_count": null,
   "metadata": {},
   "outputs": [],
   "source": [
    "f, axes = plt.subplots(2, 2, subplot_kw=dict(projection=ccrs.Orthographic()))\n",
    "\n",
    "axes = axes.flatten()\n",
    "\n",
    "for ax in axes:\n",
    "    ax.coastlines()\n",
    "    ax.set_global()\n",
    "    \n",
    "f.tight_layout()"
   ]
  },
  {
   "cell_type": "markdown",
   "metadata": {},
   "source": [
    "## `subplot_adjust`\n",
    "\n",
    "We already got to know `wspace` and `hspace` in [exercise 1.4](Part1/ex1_4_subplots.ipynb#hspace-and-wspace). Using `subplot_adjust` we can manually fine tune the poitioning of the subplots:\n",
    "\n",
    "* left, right, bottom, and top are measured in figure coordinates, where (0, 0) is in the lower left corner and (1, 1) in the upper right corner\n",
    "* wspace the amount of width reserved for blank space between subplots, expressed as a fraction of the average axis width, default value = 0.2\n",
    "* hspace: the amount of height reserved for white space between subplots, expressed as a fraction of the average axis height, default value = 0.2"
   ]
  },
  {
   "cell_type": "code",
   "execution_count": null,
   "metadata": {},
   "outputs": [],
   "source": [
    "f, axes = plt.subplots(2, 2)\n",
    "axes = axes.flatten()\n",
    "\n",
    "for ax in axes:\n",
    "    ax.set_xticks([])\n",
    "    ax.set_yticks([])\n",
    "    \n",
    "\n",
    "f.subplots_adjust(left=0.1, right=0.9,\n",
    "                  bottom=0.1, top=0.9,\n",
    "                  hspace=0.6, wspace=0.3)\n"
   ]
  },
  {
   "cell_type": "markdown",
   "metadata": {},
   "source": [
    "Again, because matplotlib then 'shrinks' the axes, but does not shrink the area of the figure, setting hspace and wspace to 0 can leave some distance between subplots:"
   ]
  },
  {
   "cell_type": "code",
   "execution_count": null,
   "metadata": {},
   "outputs": [],
   "source": [
    "f, axes = plt.subplots(2, 2, subplot_kw=dict(projection=ccrs.PlateCarree()))\n",
    "axes = axes.flatten()\n",
    "\n",
    "for ax in axes:\n",
    "    ax.coastlines()\n",
    "    ax.set_global()\n",
    "    \n",
    "f.subplots_adjust(hspace=0, wspace=0)"
   ]
  },
  {
   "cell_type": "markdown",
   "metadata": {},
   "source": [
    "# Solution \\#1 - using axes_grid1\n",
    "\n",
    "\n",
    "\"[axes_grid1](https://matplotlib.org/2.0.2/mpl_toolkits/axes_grid/users/overview.html) is a collection of helper classes to ease displaying (multiple) images with matplotlib. In matplotlib, the axes location (and size) is specified in the normalized figure coordinates, which may not be ideal for displaying images that needs to have a given aspect ratio.\"\n",
    "\n",
    " > However, it is not part of the core matplotlib functionality, and not it's best-documented part\n",
    "\n",
    "We will use an [example from the cartopy gallery](http://scitools.org.uk/cartopy/docs/v0.15/examples/axes_grid_basic.html)."
   ]
  },
  {
   "cell_type": "code",
   "execution_count": null,
   "metadata": {},
   "outputs": [],
   "source": [
    "from mpl_toolkits.axes_grid1 import AxesGrid\n",
    "from cartopy.mpl.geoaxes import GeoAxes"
   ]
  },
  {
   "cell_type": "markdown",
   "metadata": {},
   "source": [
    "The syntax is not super simple..., `axes_pad=[hspace, wspace]` defines the distance between the subplots in inches."
   ]
  },
  {
   "cell_type": "code",
   "execution_count": null,
   "metadata": {},
   "outputs": [],
   "source": [
    "projection = ccrs.PlateCarree()\n",
    "axes_class = (GeoAxes,\n",
    "              dict(map_projection=projection))\n",
    "\n",
    "\n",
    "f = plt.figure()\n",
    "axgr = AxesGrid(f, 111, axes_class=axes_class,\n",
    "                nrows_ncols=(3, 2),\n",
    "                axes_pad=[2 / 2.54, 1 / 2.54],\n",
    "                label_mode='')  # note the empty label_mode\n",
    "\n",
    "axes = axgr.axes_all\n",
    "\n",
    "for ax in axes:\n",
    "    ax.coastlines()    \n",
    "    ax.set_global()\n",
    "    \n",
    "plt.savefig('AxesGrid.pdf')"
   ]
  },
  {
   "cell_type": "markdown",
   "metadata": {},
   "source": [
    "This may look wrong - but the distance between the subplots are exactly 2 cm & 1 cm (see the AxesGrid.pdf).\n",
    "\n",
    "While hspace and wspace are correct, this comes at the cost that left, right, top, and bottom may not be set as specified.\n",
    "\n",
    "### Exercise\n",
    "\n",
    " * set axes_pad to 0.5 cm\n",
    " * set the figure size to 16 cm x 13 cm (`f.set_size_inches`)\n",
    " * play around with `f.subplots_adjust` to find a good setting"
   ]
  },
  {
   "cell_type": "code",
   "execution_count": null,
   "metadata": {},
   "outputs": [],
   "source": [
    "projection = ccrs.PlateCarree()\n",
    "axes_class = (GeoAxes,\n",
    "              dict(map_projection=projection))\n",
    "\n",
    "f = plt.figure()\n",
    "\n",
    "# set figure size\n",
    "\n",
    "axgr = AxesGrid(f, 111, axes_class=axes_class,\n",
    "                nrows_ncols=(3, 2),\n",
    "                axes_pad=[2 / 2.54, 1 / 2.54],\n",
    "                label_mode='')  # note the empty label_mode\n",
    "\n",
    "axes = axgr.axes_all\n",
    "\n",
    "for ax in axes:\n",
    "    ax.coastlines()    \n",
    "    ax.set_global()\n",
    "    \n",
    "# adjust the subplots\n"
   ]
  },
  {
   "cell_type": "markdown",
   "metadata": {},
   "source": [
    "### Solution"
   ]
  },
  {
   "cell_type": "code",
   "execution_count": null,
   "metadata": {},
   "outputs": [],
   "source": [
    "projection = ccrs.PlateCarree()\n",
    "axes_class = (GeoAxes,\n",
    "              dict(map_projection=projection))\n",
    "\n",
    "\n",
    "f = plt.figure()\n",
    "\n",
    "f.set_size_inches(16 / 2.54, 13 / 2.54)\n",
    "\n",
    "axgr = AxesGrid(f, 111, axes_class=axes_class,\n",
    "                nrows_ncols=(3, 2),\n",
    "                axes_pad=[0.5 / 2.54, 0.5 / 2.54],\n",
    "                label_mode='')  # note the empty label_mode\n",
    "\n",
    "axes = axgr.axes_all\n",
    "\n",
    "for ax in axes:\n",
    "    ax.coastlines()    \n",
    "    ax.set_global()\n",
    "    \n",
    "f.subplots_adjust(left=0.05, right=0.95, bottom=0.05, top=0.95)"
   ]
  },
  {
   "cell_type": "markdown",
   "metadata": {},
   "source": [
    "## Colorbars\n",
    "\n",
    "You can also directly add colorbars."
   ]
  },
  {
   "cell_type": "code",
   "execution_count": null,
   "metadata": {},
   "outputs": [],
   "source": [
    "AxesGrid?"
   ]
  },
  {
   "cell_type": "code",
   "execution_count": null,
   "metadata": {},
   "outputs": [],
   "source": [
    "# create sample data\n",
    "lon, lat, data = mpu.sample_data_map(90, 48)\n",
    "LON, LAT = mpu.infer_interval_breaks(lon, lat)\n",
    "\n",
    "# =====\n",
    "\n",
    "f = plt.figure()\n",
    "\n",
    "f.set_size_inches(16 / 2.54, 14.5 / 2.54)\n",
    "\n",
    "\n",
    "projection = ccrs.PlateCarree()\n",
    "axes_class = (GeoAxes,\n",
    "              dict(map_projection=projection))\n",
    "\n",
    "axgr = AxesGrid(f, 111, axes_class=axes_class,\n",
    "                nrows_ncols=(3, 2),\n",
    "                axes_pad=[0.5 / 2.54, 0.5 / 2.54],\n",
    "                cbar_location='bottom',\n",
    "                cbar_mode='single',\n",
    "                cbar_pad=0.1 / 2.54,\n",
    "                cbar_size='10%',\n",
    "                label_mode='')  # note the empty label_mode\n",
    "\n",
    "\n",
    "    \n",
    "axes = axgr.axes_all\n",
    "for ax in axes:\n",
    "    ax.coastlines()\n",
    "    h = ax.pcolormesh(LON, LAT, data, vmin=-1, vmax=1, cmap='RdBu_r', transform=ccrs.PlateCarree())\n",
    "    ax.set_global()\n",
    "\n",
    "axgr.cbar_axes[0].colorbar(h)\n",
    "    \n",
    "f.subplots_adjust(left=0.05, right=0.95, bottom=0.1, top=0.95)    "
   ]
  },
  {
   "cell_type": "markdown",
   "metadata": {},
   "source": [
    "Note how the figure size and bottom had to be adjusted.\n",
    "\n",
    "### Exercise\n",
    "\n",
    " * plot the same data on 3 subplots below each other\n",
    " * choose an Orthographic projection\n",
    " * add a colorbar for each plot, on the right side of the subplot\n",
    " * bonus: adjust the figure size and the subplot params "
   ]
  },
  {
   "cell_type": "code",
   "execution_count": null,
   "metadata": {},
   "outputs": [],
   "source": [
    "AxesGrid?"
   ]
  },
  {
   "cell_type": "code",
   "execution_count": null,
   "metadata": {},
   "outputs": [],
   "source": [
    "# create sample data\n",
    "lon, lat, data = mpu.sample_data_map(90, 48)\n",
    "LON, LAT = mpu.infer_interval_breaks(lon, lat)\n",
    "\n",
    "# =====\n",
    "\n",
    "# code here\n",
    "\n",
    "\n"
   ]
  },
  {
   "cell_type": "markdown",
   "metadata": {},
   "source": [
    "### Solution"
   ]
  },
  {
   "cell_type": "code",
   "execution_count": null,
   "metadata": {},
   "outputs": [],
   "source": [
    "# create sample data\n",
    "lon, lat, data = mpu.sample_data_map(90, 48)\n",
    "LON, LAT = mpu.infer_interval_breaks(lon, lat)\n",
    "\n",
    "# =====\n",
    "\n",
    "projection = ccrs.Orthographic()\n",
    "axes_class = (GeoAxes,\n",
    "              dict(map_projection=projection))\n",
    "\n",
    "f = plt.figure()\n",
    "\n",
    "f.set_size_inches(8 / 2.54, 14.5 / 2.54)\n",
    "\n",
    "axgr = AxesGrid(f, 111, axes_class=axes_class,\n",
    "                nrows_ncols=(3, 1),\n",
    "                axes_pad=0.75 / 2.54,\n",
    "                cbar_location='right',\n",
    "                cbar_mode='each',\n",
    "                cbar_pad=0.5 / 2.54,\n",
    "                cbar_size='10%',\n",
    "                label_mode='')  # note the empty label_mode\n",
    "\n",
    "\n",
    "    \n",
    "axes = axgr.axes_all\n",
    "for i, ax in enumerate(axes):\n",
    "    ax.coastlines()\n",
    "    h = ax.pcolormesh(LON, LAT, data, vmin=-1, vmax=1, cmap='RdBu_r', transform=ccrs.PlateCarree())\n",
    "    ax.set_global()\n",
    "    \n",
    "    axgr.cbar_axes[i].colorbar(h)\n",
    "    \n",
    "\n",
    "f.subplots_adjust(left=0.05, right=0.9, bottom=0.05, top=0.95) "
   ]
  },
  {
   "cell_type": "markdown",
   "metadata": {},
   "source": [
    "## Solution #2: `set_map_layout`\n",
    "\n",
    "The second solution is also provided by me. It calculates the figure height such that all subplot_adjust parameters are respected. You need to pass the desired figure width, and `set_map_layout` chooses the correct height.\n",
    "\n",
    "Note:\n",
    " > this only works if all subplots have the same aspect ratio"
   ]
  },
  {
   "cell_type": "code",
   "execution_count": null,
   "metadata": {},
   "outputs": [],
   "source": [
    "f, axes = plt.subplots(2, 2, subplot_kw=dict(projection=ccrs.PlateCarree()))\n",
    "axes = axes.flatten()\n",
    "\n",
    "for ax in axes:\n",
    "    ax.coastlines()\n",
    "    ax.set_global()\n",
    "    \n",
    "f.subplots_adjust(hspace=0, wspace=0)\n",
    "\n",
    "\n",
    "# do it after subplots_adjust!\n",
    "# width is in cm\n",
    "\n",
    "mpu.set_map_layout(axes, width=17)\n",
    "\n",
    "f.get_size_inches() * 2.54"
   ]
  },
  {
   "cell_type": "markdown",
   "metadata": {},
   "source": [
    "Using `set_map_layout` requires quite some manual tuning, but at least the outcome is predictable:"
   ]
  },
  {
   "cell_type": "code",
   "execution_count": null,
   "metadata": {},
   "outputs": [],
   "source": [
    "f, axes = plt.subplots(2, 2, subplot_kw=dict(projection=ccrs.PlateCarree()))\n",
    "axes = axes.flatten()\n",
    "\n",
    "for ax in axes:\n",
    "    ax.coastlines()\n",
    "    ax.set_global()\n",
    "    \n",
    "f.subplots_adjust(hspace=0.2, wspace=0.1, left=0.05, right=0.95, bottom=0.05, top=0.95)\n",
    "\n",
    "mpu.set_map_layout(axes, width=17)\n",
    "\n",
    "f.get_size_inches() * 2.54"
   ]
  },
  {
   "cell_type": "markdown",
   "metadata": {},
   "source": [
    "### Exercise\n",
    "\n",
    " * create 2 subplots in one row\n",
    " * choose NearsidePerspective as projection\n",
    " * use `mpu.set_map_layout`, set the width to 15.24 cm (= 6 inches; the default)\n",
    " * copy your code to a new cell and remove the `mpu.set_map_layout`"
   ]
  },
  {
   "cell_type": "code",
   "execution_count": null,
   "metadata": {},
   "outputs": [],
   "source": [
    "# code here - including set_map_layout\n",
    "\n",
    "\n",
    "\n",
    "\n",
    "f.get_size_inches() * 2.54"
   ]
  },
  {
   "cell_type": "code",
   "execution_count": null,
   "metadata": {},
   "outputs": [],
   "source": [
    "# code here - excluding set_map_layout\n",
    "\n",
    "\n",
    "\n",
    "\n",
    "f.get_size_inches() * 2.54"
   ]
  },
  {
   "cell_type": "markdown",
   "metadata": {},
   "source": [
    "### Solutions"
   ]
  },
  {
   "cell_type": "code",
   "execution_count": null,
   "metadata": {},
   "outputs": [],
   "source": [
    "f, axes = plt.subplots(1, 2, subplot_kw=dict(projection=ccrs.NearsidePerspective()))\n",
    "axes = axes.flatten()\n",
    "\n",
    "for ax in axes:\n",
    "    ax.coastlines()\n",
    "    ax.set_global()\n",
    "    \n",
    "mpu.set_map_layout(axes, width=15.24)\n",
    "\n",
    "f.get_size_inches() * 2.54"
   ]
  },
  {
   "cell_type": "code",
   "execution_count": null,
   "metadata": {},
   "outputs": [],
   "source": [
    "f, axes = plt.subplots(1, 2, subplot_kw=dict(projection=ccrs.NearsidePerspective()))\n",
    "axes = axes.flatten()\n",
    "\n",
    "for ax in axes:\n",
    "    ax.coastlines()\n",
    "    ax.set_global()\n",
    "    \n",
    "f.get_size_inches() * 2.54"
   ]
  },
  {
   "cell_type": "markdown",
   "metadata": {},
   "source": [
    "## Colorbars\n",
    "\n",
    "`set_map_layout` can be combinded with the manual creation of colorbars. Note that you will have to manually make room for the colorbars, by adjusting left, hspace, etc..."
   ]
  },
  {
   "cell_type": "code",
   "execution_count": null,
   "metadata": {},
   "outputs": [],
   "source": [
    "# create sample data\n",
    "lon, lat, data = mpu.sample_data_map(90, 48)\n",
    "LON, LAT = mpu.infer_interval_breaks(lon, lat)\n",
    "\n",
    "# =====\n",
    "\n",
    "f, axes = plt.subplots(2, 2, subplot_kw=dict(projection=ccrs.PlateCarree()))\n",
    "axes = axes.flatten()\n",
    "\n",
    "for ax in axes:\n",
    "    ax.coastlines()\n",
    "    ax.set_global()\n",
    "    h = ax.pcolormesh(LON, LAT, data, vmin=-1, vmax=1, cmap='RdBu_r', transform=ccrs.PlateCarree())\n",
    "    \n",
    "    \n",
    "f.subplots_adjust(hspace=0.2, wspace=0.35, left=0.025, right=0.875, bottom=0.05, top=0.95)\n",
    "\n",
    "# ===================================\n",
    "\n",
    "# color bar1\n",
    "cbar = mpu.colorbar(h, axes[0], pad=0.015, size=0.05)\n",
    "\n",
    "# color bar2\n",
    "cbar = mpu.colorbar(h, axes[2], pad=0.015, size=0.05)\n",
    "\n",
    "# color bar2\n",
    "cbar = mpu.colorbar(h, axes[1], axes[3], pad=0.015, size=0.05)\n",
    "\n",
    "# ===================================\n",
    "\n",
    "mpu.set_map_layout(axes, width=17)\n",
    "\n",
    "# ===================================\n",
    "\n",
    "f.get_size_inches() * 2.54\n"
   ]
  },
  {
   "cell_type": "markdown",
   "metadata": {},
   "source": [
    "## Different projections\n",
    "\n",
    "To combine different projections in subplots, or to combine map and none map plots, you have to use `gridspec`."
   ]
  },
  {
   "cell_type": "code",
   "execution_count": null,
   "metadata": {},
   "outputs": [],
   "source": [
    "import matplotlib.gridspec as gridspec"
   ]
  },
  {
   "cell_type": "code",
   "execution_count": null,
   "metadata": {},
   "outputs": [],
   "source": [
    "gs = gridspec.GridSpec(2, 2)\n",
    "\n",
    "ax1 = plt.subplot(gs[0, 0], projection=ccrs.PlateCarree())\n",
    "\n",
    "ax2 = plt.subplot(gs[0, 1], projection=ccrs.Robinson())\n",
    "\n",
    "ax3 = plt.subplot(gs[1, :])\n",
    "\n",
    "ax1.coastlines()\n",
    "ax2.coastlines()\n",
    "\n",
    "x = np.arange(0, 10, 0.1)\n",
    "ax3.plot(x, np.sin(x))\n",
    "ax3.plot(x, np.cos(x))"
   ]
  }
 ],
 "metadata": {
  "kernelspec": {
   "display_name": "Python 3",
   "language": "python",
   "name": "python3"
  },
  "language_info": {
   "codemirror_mode": {
    "name": "ipython",
    "version": 3
   },
   "file_extension": ".py",
   "mimetype": "text/x-python",
   "name": "python",
   "nbconvert_exporter": "python",
   "pygments_lexer": "ipython3",
   "version": "3.5.4"
  }
 },
 "nbformat": 4,
 "nbformat_minor": 2
}
