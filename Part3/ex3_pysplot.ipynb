{
 "cells": [
  {
   "cell_type": "code",
   "execution_count": null,
   "id": "d81a5109",
   "metadata": {},
   "outputs": [],
   "source": [
    "# IGNORE THIS CELL WHICH CUSTOMIZES LAYOUT AND STYLING OF THE NOTEBOOK !\n",
    "%matplotlib inline\n",
    "%config InlineBackend.figure_format = 'retina'\n",
    "import warnings\n",
    "warnings.filterwarnings(\"ignore\", category=FutureWarning)\n",
    "warnings.filterwarnings = lambda *a, **kw: None\n"
   ]
  },
  {
   "cell_type": "code",
   "execution_count": null,
   "id": "4dd1ba32",
   "metadata": {},
   "outputs": [],
   "source": [
    "import xarray as xr\n",
    "import numpy as np\n",
    "import cartopy.crs as ccrs\n",
    "import cartopy\n",
    "import matplotlib.pyplot as plt\n",
    "import cmcrameri.cm as cmc\n",
    "import psyplot.project as psy\n",
    "psy.rcParams['auto_show'] = True\n",
    "%config InlineBackend.close_figures = False"
   ]
  },
  {
   "cell_type": "code",
   "execution_count": null,
   "id": "602e785a",
   "metadata": {},
   "outputs": [],
   "source": [
    "ds = xr.open_dataset(\"../rmp_my_exp1_atm_3d_ml_20180921T000000Z.nc\")\n",
    "ds"
   ]
  },
  {
   "cell_type": "code",
   "execution_count": null,
   "id": "2c903767",
   "metadata": {},
   "outputs": [],
   "source": [
    "# get data\n",
    "lon, lat, temp = ds.lon, ds.lat, ds.t_2m[0,0,:,:]\n",
    "\n",
    "ax = plt.axes(projection=ccrs.Robinson())\n",
    "\n",
    "ax.pcolormesh(lon,lat,temp, transform=ccrs.PlateCarree(),shading='nearest',cmap = cmc.nuuk)\n",
    "\n",
    "ax.add_feature(cartopy.feature.BORDERS)\n",
    "\n",
    "ax.set_extent([5.8, 10.7, 45.5, 48])\n",
    "\n",
    "plt.show()"
   ]
  },
  {
   "cell_type": "code",
   "execution_count": null,
   "id": "e47fc790",
   "metadata": {},
   "outputs": [],
   "source": [
    "ds_alnu = xr.open_dataset(\"../data.nc\")\n",
    "ds_alnu.ALNU.values = np.log10(ds_alnu.ALNU.values + 1)\n",
    "ds_alnu"
   ]
  },
  {
   "cell_type": "code",
   "execution_count": null,
   "id": "e1fa2844",
   "metadata": {},
   "outputs": [],
   "source": [
    "# Checkout the formatoptions (https://psyplot.github.io/psy-maps/generated/psyplot.project.plot.mapplot.html)\n",
    "# change the grid color to white, add a label to the colorbar, change the projection and cmap etc.\n",
    "plot1 = ds_alnu.psy.plot.mapplot(\n",
    "    name=\"ALNU\",\n",
    "    title=\"Alder Pollen in the Alps on 2020-02-15 20h\",\n",
    "    titlesize=15,\n",
    "    grid_color=\"white\",\n",
    "    cticksize=8,\n",
    "    clabel=\"Log. Pollen Concentrations [Pollen/m³]\",\n",
    "    grid_labelsize=8,\n",
    "    projection='robin',\n",
    "    cmap='RdBu_r')\n"
   ]
  },
  {
   "cell_type": "code",
   "execution_count": null,
   "id": "71446024",
   "metadata": {},
   "outputs": [],
   "source": [
    "#Checkout https://github.com/C2SM/iconarray\n",
    "import iconarray "
   ]
  },
  {
   "cell_type": "code",
   "execution_count": null,
   "id": "01e4c87b",
   "metadata": {},
   "outputs": [],
   "source": [
    "plot_alnu = ds_alnu.psy.plot.mapplot(\n",
    "    name=\"ALNU\",\n",
    "    title=\"Alder Pollen in the Alps on 2020-02-15 20h\",\n",
    "    titlesize=15,\n",
    "    grid_color=\"white\",\n",
    "    cticksize=8,\n",
    "    clabel=\"Log. Pollen Concentrations [Pollen/m³]\",\n",
    "    grid_labelsize=8,\n",
    "    projection='robin',\n",
    "    cmap='RdBu_r')\n"
   ]
  },
  {
   "cell_type": "code",
   "execution_count": null,
   "id": "cc019d6c",
   "metadata": {},
   "outputs": [],
   "source": [
    "plot_alnu.update(lakes=False, borders=False, rivers=False)"
   ]
  },
  {
   "cell_type": "code",
   "execution_count": null,
   "id": "65e9df5a",
   "metadata": {},
   "outputs": [],
   "source": []
  }
 ],
 "metadata": {
  "kernelspec": {
   "display_name": "Python 3 (ipykernel)",
   "language": "python",
   "name": "python3"
  },
  "language_info": {
   "codemirror_mode": {
    "name": "ipython",
    "version": 3
   },
   "file_extension": ".py",
   "mimetype": "text/x-python",
   "name": "python",
   "nbconvert_exporter": "python",
   "pygments_lexer": "ipython3",
   "version": "3.9.7"
  }
 },
 "nbformat": 4,
 "nbformat_minor": 5
}
