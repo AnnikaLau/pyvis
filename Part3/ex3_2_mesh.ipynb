{
 "cells": [
  {
   "cell_type": "code",
   "execution_count": null,
   "metadata": {},
   "outputs": [],
   "source": [
    "# IGNORE THIS CELL WHICH CUSTOMIZES LAYOUT AND STYLING OF THE NOTEBOOK !\n",
    "%matplotlib inline\n",
    "%config InlineBackend.figure_format = 'retina'\n",
    "import warnings\n",
    "\n",
    "warnings.filterwarnings(\"ignore\", category=FutureWarning)\n",
    "warnings.filterwarnings = lambda *a, **kw: None"
   ]
  },
  {
   "cell_type": "markdown",
   "metadata": {
    "tags": []
   },
   "source": [
    "# Exercise 3.2 Mesh plots (cartopy)\n",
    "prepared by M.Hauser\n",
    "\n",
    "Here we learn how to plot data as mesh grid. This is important for *gridded* model data or observations (we will introduce the interpolating function `contour` and `contourf` later). There are three functions to plot three-dimensional data in two dimensions using a colored mesh in matplotlib:\n",
    "\n",
    " * pcolormesh\n",
    " * pcolor\n",
    " * imshow\n",
    "\n",
    "\n",
    "\n",
    "We will show the usage of `pcolormesh` in this exercise. This function is recommended over the others because:\n",
    "\n",
    " * \"imshow assumes that all data elements in your array are to be rendered at the same size, whereas pcolormesh/pcolor associates elements of the data array with rectangular elements whose size may vary over the rectangular grid\" (shamelessly stolen from this [stackoverflow answer](https://stackoverflow.com/a/21169703)).\n",
    " * `pcolormesh` is [about 1 to 3 orders of magnitude faster](http://thomas-cokelaer.info/blog/wp-content/uploads/2014/05/pcolor_erformance.png) than `pcolor`.\n",
    "\n",
    "Note that most of what we show here for georeferenced plots also applies to normal usage of `pcolormesh`.\n",
    "\n",
    "## Import libraries"
   ]
  },
  {
   "cell_type": "code",
   "execution_count": null,
   "metadata": {},
   "outputs": [],
   "source": [
    "import cartopy.crs as ccrs\n",
    "import matplotlib.pyplot as plt\n",
    "import numpy as np\n",
    "import xarray as xr"
   ]
  },
  {
   "cell_type": "code",
   "execution_count": null,
   "metadata": {},
   "outputs": [],
   "source": [
    "import mplotutils as mpu"
   ]
  },
  {
   "cell_type": "markdown",
   "metadata": {},
   "source": [
    "## Data\n",
    "\n",
    "We use artificial [sample data](http://scitools.org.uk/cartopy/docs/v0.15/examples/axes_grid_basic.html) to illustrate the plotting."
   ]
  },
  {
   "cell_type": "markdown",
   "metadata": {},
   "source": [
    "## First pcolormesh plot\n",
    "\n",
    "`pcolormesh` takes x, y, z as input:"
   ]
  },
  {
   "cell_type": "code",
   "execution_count": null,
   "metadata": {},
   "outputs": [],
   "source": [
    "# create sample data\n",
    "lon, lat, data = mpu.sample_data_map(90, 48)\n",
    "\n",
    "# ====\n",
    "\n",
    "ax = plt.axes(projection=ccrs.PlateCarree())\n",
    "\n",
    "ax.coastlines()\n",
    "\n",
    "ax.pcolormesh(lon, lat, data)\n",
    "\n",
    "ax.set_global()"
   ]
  },
  {
   "cell_type": "markdown",
   "metadata": {},
   "source": [
    "## Load CMIP 5 data: historical precipitation climatology (1986 to 2005)\n",
    "\n",
    "We will load a netCDF with historical, and projected climatological precipitation, as well as the relative change between them, from all CMIP5 models for RCP8.5 (Taylor et al., 2012).\n",
    "\n",
    "The data was prepared in [another notebook](../data/prepare_CMIP5_map.ipynb)."
   ]
  },
  {
   "cell_type": "code",
   "execution_count": null,
   "metadata": {},
   "outputs": [],
   "source": [
    "fN = \"../data/cmip5_delta_pr_rcp85_map.nc\"\n",
    "\n",
    "# load data, omitting some unnecessary variables\n",
    "pr = xr.open_dataset(fN, drop_variables=[\"pr_rel\", \"proj\", \"agree_sign\", \"pval\"])\n",
    "\n",
    "pr"
   ]
  },
  {
   "cell_type": "markdown",
   "metadata": {},
   "source": [
    "### Exercise\n",
    " * plot the climatological precipitation amount (`pr.hist`)"
   ]
  },
  {
   "cell_type": "code",
   "execution_count": null,
   "metadata": {},
   "outputs": [],
   "source": [
    "# get data\n",
    "lon, lat, hist = pr.lon, pr.lat, pr.hist\n",
    "# ====\n",
    "\n",
    "# plot\n",
    "\n",
    "ax = plt.axes(projection=ccrs.Robinson())\n",
    "\n",
    "ax.coastlines()\n",
    "\n",
    "# code here\n",
    "\n",
    "ax.set_global()"
   ]
  },
  {
   "cell_type": "markdown",
   "metadata": {},
   "source": [
    "### Solution"
   ]
  },
  {
   "cell_type": "code",
   "execution_count": null,
   "metadata": {
    "hide_input": true,
    "tags": [
     "solution"
    ]
   },
   "outputs": [],
   "source": [
    "# get data\n",
    "lon, lat, hist = pr.lon, pr.lat, pr.hist\n",
    "# ====\n",
    "\n",
    "# plot\n",
    "\n",
    "ax = plt.axes(projection=ccrs.Robinson())\n",
    "\n",
    "ax.coastlines()\n",
    "\n",
    "ax.pcolormesh(lon, lat, hist, transform=ccrs.PlateCarree())\n",
    "\n",
    "ax.set_global()"
   ]
  },
  {
   "cell_type": "markdown",
   "metadata": {},
   "source": [
    "This looks all right, but what's with the white stripe?\n",
    "\n",
    "Commonly lat and lon are in the center of the gridcell. However, by default `pcolormesh` assumes that the coordinates specify the *edges* of the gridcells and *silently truncates the topmost row and the rightmost column* in the plot!\n",
    "\n",
    "This becomes more obvious if we have less datapoints. "
   ]
  },
  {
   "cell_type": "code",
   "execution_count": null,
   "metadata": {},
   "outputs": [],
   "source": [
    "# create sample data\n",
    "lon, lat, data = mpu.sample_data_map(nlons=18, nlats=9)\n",
    "\n",
    "# this is never displayed!\n",
    "data[:, -1] = 5\n",
    "\n",
    "# ====\n",
    "\n",
    "ax = plt.axes(projection=ccrs.PlateCarree())\n",
    "\n",
    "ax.coastlines()\n",
    "\n",
    "h = ax.pcolormesh(lon, lat, data, transform=ccrs.PlateCarree())\n",
    "\n",
    "# plot the lat and lon data\n",
    "\n",
    "lons, lats = np.meshgrid(lon, lat)\n",
    "ax.plot(lons.flatten(), lats.flatten(), \"o\", transform=ccrs.PlateCarree(), ms=4, c=\"r\")\n",
    "\n",
    "ax.set_global()"
   ]
  },
  {
   "cell_type": "markdown",
   "metadata": {},
   "source": [
    "The red points show the original lat and lon coordinates - they should be in the center of the gridcells.\n",
    "Notice how there are only 8 rows and 17 columns displayed!\n",
    "\n",
    "**NOTE**:\n",
    "In the earlier versions of matplotlib this problem was remedied by passing the edges instead of the centers of the gridcells.\n",
    "\n",
    "However in the new matplotlib pcolormesh comes with an optional argument called `shading`. \n",
    "\n",
    "It has options: {'flat', 'nearest', 'gouraud', 'auto'}. The default value of `shading` is 'flat'. This assumes that the coordinates specify the edges of the gridcells. In our case we need to pass 'nearest' value for the `shading` argument.\n"
   ]
  },
  {
   "cell_type": "code",
   "execution_count": null,
   "metadata": {},
   "outputs": [],
   "source": [
    "# create sample data\n",
    "lon, lat, data = mpu.sample_data_map(nlons=18, nlats=9)\n",
    "\n",
    "# ====\n",
    "\n",
    "ax = plt.axes(projection=ccrs.PlateCarree())\n",
    "\n",
    "ax.coastlines()\n",
    "\n",
    "h = ax.pcolormesh(lon, lat, data, transform=ccrs.PlateCarree(), shading=\"nearest\")\n",
    "\n",
    "# plot the lat and lon data\n",
    "\n",
    "lons, lats = np.meshgrid(lon, lat)\n",
    "ax.plot(lons.flatten(), lats.flatten(), \"o\", transform=ccrs.PlateCarree(), ms=4, c=\"r\")\n",
    "\n",
    "ax.set_global()"
   ]
  },
  {
   "cell_type": "markdown",
   "metadata": {},
   "source": [
    "Perfect!\n",
    "\n",
    "### Exercise\n",
    "\n",
    " * apply the same correction for the cmip5 precipitation data"
   ]
  },
  {
   "cell_type": "code",
   "execution_count": null,
   "metadata": {},
   "outputs": [],
   "source": [
    "# get data\n",
    "lon, lat, hist = pr.lon, pr.lat, pr.hist\n",
    "\n",
    "# plot\n",
    "\n",
    "ax = plt.axes(projection=ccrs.Robinson())\n",
    "\n",
    "ax.coastlines()\n",
    "\n",
    "ax.pcolormesh(lon, lat, hist, transform=ccrs.PlateCarree())\n",
    "\n",
    "ax.set_global()"
   ]
  },
  {
   "cell_type": "markdown",
   "metadata": {},
   "source": [
    "### Solution"
   ]
  },
  {
   "cell_type": "code",
   "execution_count": null,
   "metadata": {
    "hide_input": true,
    "tags": [
     "solution"
    ]
   },
   "outputs": [],
   "source": [
    "# get data\n",
    "lon, lat, hist = pr.lon, pr.lat, pr.hist\n",
    "\n",
    "# plot\n",
    "\n",
    "ax = plt.axes(projection=ccrs.Robinson())\n",
    "\n",
    "ax.coastlines()\n",
    "\n",
    "ax.pcolormesh(lon, lat, hist, transform=ccrs.PlateCarree(), shading=\"nearest\")\n",
    "\n",
    "ax.set_global()"
   ]
  },
  {
   "cell_type": "markdown",
   "metadata": {},
   "source": [
    "## Saving figures // rasterized\n",
    "\n",
    "There is nothing special about saving a map figure:"
   ]
  },
  {
   "cell_type": "code",
   "execution_count": null,
   "metadata": {},
   "outputs": [],
   "source": [
    "# get data\n",
    "lon, lat, hist = pr.lon, pr.lat, pr.hist\n",
    "\n",
    "# plot\n",
    "\n",
    "ax = plt.axes(projection=ccrs.Robinson())\n",
    "\n",
    "ax.coastlines()\n",
    "\n",
    "h = ax.pcolormesh(lon, lat, hist, transform=ccrs.PlateCarree(), shading=\"nearest\")\n",
    "\n",
    "ax.set_global()\n",
    "\n",
    "plt.colorbar(h)\n",
    "\n",
    "plt.savefig(\"robinson.pdf\")"
   ]
  },
  {
   "cell_type": "markdown",
   "metadata": {},
   "source": [
    "However, they can grow large very quickly. Especially if you save a `pcolormesh` figure as pdf, because the pdf is saved as vector graphic.\n",
    "\n",
    "It is, however, possible to rasterize certain elements of the plot, e.g. the `pcolormesh`."
   ]
  },
  {
   "cell_type": "code",
   "execution_count": null,
   "metadata": {},
   "outputs": [],
   "source": [
    "# plot\n",
    "\n",
    "ax = plt.axes(projection=ccrs.Robinson())\n",
    "\n",
    "ax.coastlines()\n",
    "\n",
    "h = ax.pcolormesh(\n",
    "    lon, lat, hist, transform=ccrs.PlateCarree(), shading=\"nearest\", rasterized=True\n",
    ")\n",
    "\n",
    "ax.set_global()\n",
    "\n",
    "plt.colorbar(h)\n",
    "\n",
    "plt.savefig(\"robinson_rasterized.pdf\")"
   ]
  },
  {
   "cell_type": "markdown",
   "metadata": {},
   "source": [
    "* Compare the file size of `'robinson_rasterized.pdf'` and `'robinson.pdf'`.\n",
    "\n",
    "> Warning: the following line may not work in windows."
   ]
  },
  {
   "cell_type": "code",
   "execution_count": null,
   "metadata": {},
   "outputs": [],
   "source": [
    "! ls -lh robinson*"
   ]
  },
  {
   "cell_type": "markdown",
   "metadata": {},
   "source": [
    "* Open robinson_rasterized.pdf and zoom in; you'll realise that the coastlines are not rasterized!\n",
    "\n",
    "Let's look at a detail of the precipitation data:"
   ]
  },
  {
   "cell_type": "code",
   "execution_count": null,
   "metadata": {},
   "outputs": [],
   "source": [
    "# plot\n",
    "\n",
    "ax = plt.axes(projection=ccrs.Robinson())\n",
    "\n",
    "ax.coastlines()\n",
    "\n",
    "ax.pcolormesh(\n",
    "    lon,\n",
    "    lat,\n",
    "    hist,\n",
    "    transform=ccrs.PlateCarree(),\n",
    "    shading=\"nearest\",\n",
    "    cmap=\"Blues\",\n",
    "    vmax=2500,\n",
    ")\n",
    "\n",
    "ax.set_global()\n",
    "\n",
    "ax.set_extent([-150, -130, 30, 70], ccrs.PlateCarree())\n",
    "\n",
    "plt.savefig(\"robinson_precip.pdf\")"
   ]
  },
  {
   "cell_type": "markdown",
   "metadata": {},
   "source": [
    "### Exercise\n",
    "\n",
    " * save the same plot again, but rasterize the `pcolormesh`"
   ]
  },
  {
   "cell_type": "code",
   "execution_count": null,
   "metadata": {},
   "outputs": [],
   "source": [
    "# code here\n",
    "\n",
    "plt.savefig(\"robinson_precip_rasterized.pdf\")"
   ]
  },
  {
   "cell_type": "markdown",
   "metadata": {},
   "source": [
    "### Solution"
   ]
  },
  {
   "cell_type": "code",
   "execution_count": null,
   "metadata": {
    "hide_input": true,
    "tags": [
     "solution"
    ]
   },
   "outputs": [],
   "source": [
    "# plot\n",
    "\n",
    "ax = plt.axes(projection=ccrs.Robinson())\n",
    "\n",
    "ax.coastlines()\n",
    "\n",
    "h = ax.pcolormesh(\n",
    "    lon,\n",
    "    lat,\n",
    "    hist,\n",
    "    transform=ccrs.PlateCarree(),\n",
    "    shading=\"nearest\",\n",
    "    cmap=\"Blues\",\n",
    "    vmax=2500,\n",
    "    rasterized=True,\n",
    ")\n",
    "\n",
    "ax.set_global()\n",
    "\n",
    "ax.set_extent([-150, -130, 30, 70], ccrs.PlateCarree())\n",
    "\n",
    "plt.savefig(\"robinson_precip_rasterized.pdf\")"
   ]
  },
  {
   "cell_type": "markdown",
   "metadata": {},
   "source": [
    "## dpi\n",
    "\n",
    "The resulting pdf does not look very good - because the rectangular elements don't have vertical edged (but the pixels do). However, savefig takes a `dpi` keyword, which saves the day."
   ]
  },
  {
   "cell_type": "code",
   "execution_count": null,
   "metadata": {},
   "outputs": [],
   "source": [
    "# plot\n",
    "\n",
    "ax = plt.axes(projection=ccrs.Robinson())\n",
    "\n",
    "ax.pcolormesh(\n",
    "    lon,\n",
    "    lat,\n",
    "    hist,\n",
    "    transform=ccrs.PlateCarree(),\n",
    "    shading=\"nearest\",\n",
    "    cmap=\"Blues\",\n",
    "    vmax=2500,\n",
    "    rasterized=True,\n",
    ")\n",
    "\n",
    "ax.set_extent([-150, -130, 30, 70], ccrs.PlateCarree())\n",
    "\n",
    "plt.savefig(\"robinson_precip_rasterized_dpi.pdf\", dpi=2000)"
   ]
  },
  {
   "cell_type": "markdown",
   "metadata": {},
   "source": [
    " * Compare the size of `'robinson_precip.pdf'`, `'robinson_precip_rasterized.pdf'`, and `'robinson_precip_rasterized_dpi.pdf'`.\n",
    "\n",
    "> Warning: the following line may not work in windows."
   ]
  },
  {
   "cell_type": "code",
   "execution_count": null,
   "metadata": {},
   "outputs": [],
   "source": [
    "! ls -lh robinson_precip*"
   ]
  },
  {
   "cell_type": "markdown",
   "metadata": {},
   "source": [
    " * Open the three pdfs and compare their quality."
   ]
  },
  {
   "cell_type": "markdown",
   "metadata": {},
   "source": [
    "## Color range\n",
    "\n",
    "We can set the range of the colors with `vmin` and `vmax`. Because we now clip values at both ends, we should let the viewers know. We can do this by usign the `extend` keyword in the colorbar. It takes the  values\n",
    "\n",
    " * `'neither'` (default).\n",
    " * `'both'`\n",
    " * `'min'`\n",
    " * `'max'`"
   ]
  },
  {
   "cell_type": "markdown",
   "metadata": {},
   "source": [
    "**Let's open random temperature field from CESM¶**"
   ]
  },
  {
   "cell_type": "code",
   "execution_count": null,
   "metadata": {},
   "outputs": [],
   "source": [
    "fN = '../data/cesm_temp.nc'\n",
    "\n",
    "cesm = xr.open_dataset(fN)\n",
    "\n",
    "cesm.temp"
   ]
  },
  {
   "cell_type": "markdown",
   "metadata": {},
   "source": [
    "Let's restrict the temperature range to -30..30, and also change the colormap, using `extend='both'`."
   ]
  },
  {
   "cell_type": "code",
   "execution_count": null,
   "metadata": {},
   "outputs": [],
   "source": [
    "ax = plt.axes(projection=ccrs.PlateCarree())\n",
    "\n",
    "ax.coastlines()\n",
    "\n",
    "h = ax.pcolormesh(\n",
    "    cesm.lon,\n",
    "    cesm.lat,\n",
    "    cesm.temp - 273.15,\n",
    "    transform=ccrs.PlateCarree(),\n",
    "    shading= 'nearest',\n",
    "    vmin=-30,\n",
    "    vmax=30,\n",
    "    cmap=\"RdBu_r\",\n",
    ")\n",
    "\n",
    "ax.set_global()\n",
    "\n",
    "plt.colorbar(h, extend=\"both\")"
   ]
  },
  {
   "cell_type": "markdown",
   "metadata": {},
   "source": [
    "### Exercise\n",
    " * clip the precipitation values to the range 0...3000\n",
    " * indicate that the values extend at the upper bound"
   ]
  },
  {
   "cell_type": "code",
   "execution_count": null,
   "metadata": {},
   "outputs": [],
   "source": [
    "# get data\n",
    "lon, lat, hist = pr.lon, pr.lat, pr.hist\n",
    "\n",
    "# plot\n",
    "\n",
    "ax = plt.axes(projection=ccrs.Robinson())\n",
    "\n",
    "ax.coastlines()\n",
    "\n",
    "h = ax.pcolormesh(lon, lat, hist, transform=ccrs.PlateCarree(), shading='nearest')\n",
    "\n",
    "ax.set_global()\n",
    "\n",
    "plt.colorbar(h)"
   ]
  },
  {
   "cell_type": "markdown",
   "metadata": {},
   "source": [
    "### Solution"
   ]
  },
  {
   "cell_type": "code",
   "execution_count": null,
   "metadata": {
    "hide_input": true,
    "tags": [
     "solution"
    ]
   },
   "outputs": [],
   "source": [
    "# get data\n",
    "lon, lat, hist = pr.lon, pr.lat, pr.hist\n",
    "\n",
    "# plot\n",
    "\n",
    "ax = plt.axes(projection=ccrs.Robinson())\n",
    "\n",
    "ax.coastlines()\n",
    "\n",
    "h = ax.pcolormesh(lon, lat, hist, transform=ccrs.PlateCarree(), vmin=0, vmax=3000, shading='nearest')\n",
    "\n",
    "ax.set_global()\n",
    "\n",
    "plt.colorbar(h, extend=\"max\")"
   ]
  },
  {
   "cell_type": "markdown",
   "metadata": {},
   "source": [
    "## Color levels\n",
    "\n",
    "To create a discrete color scale instead of a continuous one, we need to pass `norm` to `pcolormesh`. `norm` is a function that normalizes data to the 0.0...1.0 interval. Usually it ranges linearly between the minimum and maximum data values. We also need to pass a changed colormap (`cmap`).\n",
    "\n",
    "For this we can make use of a small helper function in `mpu`.\n",
    "\n",
    "> doing this, we don't need to specify `extend` in the colorbar any more."
   ]
  },
  {
   "cell_type": "code",
   "execution_count": null,
   "metadata": {},
   "outputs": [],
   "source": [
    "ax = plt.axes(projection=ccrs.PlateCarree())\n",
    "\n",
    "ax.coastlines()\n",
    "\n",
    "levels = np.arange(-30, 31, 10)\n",
    "cmap, norm = mpu.from_levels_and_cmap(levels, \"RdBu_r\", extend=\"both\")\n",
    "\n",
    "\n",
    "h = ax.pcolormesh(\n",
    "    cesm.lon, cesm.lat, cesm.temp - 273.15, transform=ccrs.PlateCarree(), norm=norm, cmap=cmap, shading='nearest'\n",
    ")\n",
    "\n",
    "ax.set_global()\n",
    "\n",
    "plt.colorbar(h)"
   ]
  },
  {
   "cell_type": "markdown",
   "metadata": {},
   "source": [
    "### Exercise\n",
    "\n",
    " * create discrete levels for the precipitation data\n",
    " * the colormap is called `'viridis'`"
   ]
  },
  {
   "cell_type": "code",
   "execution_count": null,
   "metadata": {},
   "outputs": [],
   "source": [
    "# get data\n",
    "lon, lat, hist = pr.lon, pr.lat, pr.hist\n",
    "\n",
    "# plot\n",
    "\n",
    "ax = plt.axes(projection=ccrs.Robinson())\n",
    "\n",
    "ax.coastlines()\n",
    "\n",
    "h = ax.pcolormesh(lon, lat, hist, transform=ccrs.PlateCarree(), vmin=0, vmax=3000, shading='nearest')\n",
    "\n",
    "ax.set_global()\n",
    "\n",
    "plt.colorbar(h, extend=\"max\")"
   ]
  },
  {
   "cell_type": "markdown",
   "metadata": {},
   "source": [
    "### Solution"
   ]
  },
  {
   "cell_type": "code",
   "execution_count": null,
   "metadata": {
    "hide_input": true,
    "tags": [
     "solution"
    ]
   },
   "outputs": [],
   "source": [
    "# get data\n",
    "lon, lat, hist = pr.lon, pr.lat, pr.hist\n",
    "\n",
    "# plot\n",
    "\n",
    "ax = plt.axes(projection=ccrs.Robinson())\n",
    "\n",
    "ax.coastlines()\n",
    "\n",
    "levels = np.arange(0, 3001, 500)\n",
    "cmap, norm = mpu.from_levels_and_cmap(levels, \"viridis\", extend=\"max\")\n",
    "\n",
    "h = ax.pcolormesh(lon, lat, hist, transform=ccrs.PlateCarree(), cmap=cmap, norm=norm, shading='nearest')\n",
    "\n",
    "ax.set_global()\n",
    "\n",
    "plt.colorbar(h, extend=\"max\")"
   ]
  },
  {
   "cell_type": "markdown",
   "metadata": {},
   "source": [
    "## Bonus: xarray\n",
    "\n",
    "Until now we used xarray only as 'data store' and did the plotting as\n",
    "\n",
    "    ax.plot(ds.lon, ds.lat. ds.data, ...)\n",
    "    \n",
    "However, `xarray` also has its dedicated plotting functions, which allow to do:\n",
    "    \n",
    "    ds.data.plot.pcolormesh(ax=ax, ...)\n",
    "\n",
    "> It also directly takes a `levels` keyword, and applies the correct normalisation and selection of the colorbar.\n"
   ]
  },
  {
   "cell_type": "code",
   "execution_count": null,
   "metadata": {},
   "outputs": [],
   "source": [
    "ax = plt.axes(projection=ccrs.PlateCarree())\n",
    "\n",
    "ax.coastlines()\n",
    "\n",
    "temp = cesm.temp - 273.15\n",
    "\n",
    "levels = np.arange(-30, 31, 10)\n",
    "temp.plot.pcolormesh(ax=ax, transform=ccrs.PlateCarree(), levels=levels)\n",
    "\n",
    "ax.set_global()"
   ]
  },
  {
   "cell_type": "markdown",
   "metadata": {},
   "source": [
    "### Exercise\n",
    "\n",
    " * plot the cmip5 precipitation data with xarray\n",
    " * specify levels"
   ]
  },
  {
   "cell_type": "code",
   "execution_count": null,
   "metadata": {},
   "outputs": [],
   "source": [
    "# code here"
   ]
  },
  {
   "cell_type": "markdown",
   "metadata": {},
   "source": [
    "### Solution"
   ]
  },
  {
   "cell_type": "code",
   "execution_count": null,
   "metadata": {
    "hide_input": true,
    "tags": [
     "solution"
    ]
   },
   "outputs": [],
   "source": [
    "ax = plt.axes(projection=ccrs.Robinson())\n",
    "\n",
    "ax.coastlines()\n",
    "\n",
    "levels = np.arange(0, 3001, 500)\n",
    "pr.hist.plot.pcolormesh(ax=ax, transform=ccrs.PlateCarree(), levels=levels)\n",
    "\n",
    "ax.set_global()"
   ]
  },
  {
   "cell_type": "markdown",
   "metadata": {},
   "source": [
    "### Note on the colormap\n",
    "\n",
    "xarray includes some logic to select a colormap - if the data crosses 0 it chooses `'RdBu_r'`, else `'viridis'`, but of course you can always set it manually, with the `cmap` argument."
   ]
  }
 ],
 "metadata": {
  "hide_input": false,
  "kernelspec": {
   "display_name": "Python 3 (ipykernel)",
   "language": "python",
   "name": "python3"
  },
  "language_info": {
   "codemirror_mode": {
    "name": "ipython",
    "version": 3
   },
   "file_extension": ".py",
   "mimetype": "text/x-python",
   "name": "python",
   "nbconvert_exporter": "python",
   "pygments_lexer": "ipython3",
   "version": "3.8.12"
  }
 },
 "nbformat": 4,
 "nbformat_minor": 4
}
