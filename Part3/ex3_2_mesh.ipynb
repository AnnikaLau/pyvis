{
 "cells": [
  {
   "cell_type": "markdown",
   "metadata": {},
   "source": [
    "# Exercise 3.2 Mesh plots (cartopy)\n",
    "\n",
    "There are three functions to plot three-dimensional data in two dimensions using a colored mesh in matplotlib:\n",
    "\n",
    " * pcolormesh\n",
    " * pcolor\n",
    " * imshow\n",
    "\n",
    "This is important to show gridded model data or observations on their grid (we will introduce the interpolating function `contour` and `contourf` later).\n",
    "\n",
    "We will show the usage of `pcolormesh` in this exercise. This function is recommended over the others because:\n",
    "\n",
    " * imshow assumes that all data elements in your array are to be rendered at the same size, whereas pcolormesh/pcolor associates elements of the data array with rectangular elements whose size may vary over the rectangular grid (shamelessly stolen from this [stackoverflow answer](https://stackoverflow.com/a/21169703).\n",
    " * `pcolormesh` is [about 1 to 3 orders of magnitude faster](http://thomas-cokelaer.info/blog/wp-content/uploads/2014/05/pcolor_erformance.png) than `pcolor`.\n",
    "\n",
    "Note that most of what we show here for georeferenced plots also applies for normal `pcolormesh`.\n",
    "\n",
    "## Import libraries"
   ]
  },
  {
   "cell_type": "code",
   "execution_count": null,
   "metadata": {},
   "outputs": [],
   "source": [
    "import cartopy.crs as ccrs\n",
    "import matplotlib.pyplot as plt\n",
    "import numpy as np\n",
    "import xarray as xr\n",
    "\n",
    "%matplotlib inline"
   ]
  },
  {
   "cell_type": "markdown",
   "metadata": {},
   "source": [
    "## Load data\n",
    "\n",
    "### Function to create artificial data:"
   ]
  },
  {
   "cell_type": "code",
   "execution_count": null,
   "metadata": {},
   "outputs": [],
   "source": [
    "# artificial data\n",
    "\n",
    "\n",
    "def sample_data_3d(nlons, nlats):\n",
    "    \"\"\"Returns `lons`, `lats`, and fake `data`\n",
    "\n",
    "    adapted from:\n",
    "    http://scitools.org.uk/cartopy/docs/v0.15/examples/axes_grid_basic.html\n",
    "    \"\"\"\n",
    "    \n",
    "    dlat = 180. / nlats / 2\n",
    "    dlon = 360. / nlons\n",
    "\n",
    "    lat = np.linspace(-90 + dlat, 90 - dlat, nlats)   \n",
    "    lon = np.linspace(0, 360 - dlon, nlons)\n",
    "\n",
    "    lons, lats = np.meshgrid(np.deg2rad(lon), np.deg2rad(lat))\n",
    "    wave = 0.75 * (np.sin(2 * lats) ** 8) * np.cos(4 * lons)\n",
    "    mean = 0.5 * np.cos(2 * lats) * ((np.sin(2 * lats)) ** 2 + 2)\n",
    "    data = wave + mean\n",
    "    \n",
    "    return lon, lat, data"
   ]
  },
  {
   "cell_type": "markdown",
   "metadata": {},
   "source": [
    "## CMIP 5, historical precipitation climatology (1986 to 2005)\n",
    "\n",
    "Create a netCDF with historical, and projected climatlological precipitation, as well as the relative change between them, from all CMIP5 models for RCP8.5 (Taylor et al., 2012).\n",
    "\n",
    "The data was prepared in [another notebook](../data/prepare_CMIP5_map.ipynb)."
   ]
  },
  {
   "cell_type": "code",
   "execution_count": null,
   "metadata": {},
   "outputs": [],
   "source": [
    "fN = '../data/cmip5_delta_pr_rcp85_map.nc'\n",
    "\n",
    "# load data, omitting some unecessary variables\n",
    "pr = xr.open_dataset(fN, drop_variables=['pr_rel', 'proj', 'agree_sign', 'pval'])\n",
    "\n",
    "pr"
   ]
  },
  {
   "cell_type": "markdown",
   "metadata": {},
   "source": [
    "## First pcolormesh plot\n",
    "\n",
    "`pcolormesh` takes x, y, z as input:"
   ]
  },
  {
   "cell_type": "code",
   "execution_count": null,
   "metadata": {},
   "outputs": [],
   "source": [
    "# create sample data\n",
    "lon, lat, data = sample_data_3d(90, 48)\n",
    "\n",
    "# ====\n",
    "\n",
    "ax = plt.axes(projection=ccrs.PlateCarree())\n",
    "\n",
    "ax.coastlines()\n",
    "\n",
    "ax.pcolormesh(lon, lat, data)\n",
    "\n",
    "ax.set_global()"
   ]
  },
  {
   "cell_type": "markdown",
   "metadata": {},
   "source": [
    "### Exercise\n",
    " * plot the climatological precipitation amount"
   ]
  },
  {
   "cell_type": "code",
   "execution_count": null,
   "metadata": {},
   "outputs": [],
   "source": [
    "# get data\n",
    "lon, lat, hist = pr.lon, pr.lat, pr.hist\n",
    "\n",
    "# plot\n",
    "\n",
    "ax = plt.axes(projection=ccrs.Robinson())\n",
    "\n",
    "ax.coastlines()\n",
    "\n",
    "# code here"
   ]
  },
  {
   "cell_type": "markdown",
   "metadata": {},
   "source": [
    "### Solution"
   ]
  },
  {
   "cell_type": "code",
   "execution_count": null,
   "metadata": {},
   "outputs": [],
   "source": [
    "# get data\n",
    "lon, lat, hist = pr.lon, pr.lat, pr.hist\n",
    "\n",
    "# plot\n",
    "\n",
    "ax = plt.axes(projection=ccrs.Robinson())\n",
    "\n",
    "ax.coastlines()\n",
    "\n",
    "ax.pcolormesh(lon, lat, hist, transform=ccrs.PlateCarree())\n",
    "\n",
    "ax.set_global()"
   ]
  },
  {
   "cell_type": "markdown",
   "metadata": {},
   "source": [
    "This looks all right, but what's with the white stripe?\n",
    "\n",
    "Commonly lat and lon are in the center of the gridcell. However, `pcolormesh` assumes the coordinates to specify the edges of the gridcells and *silently truncates the topmost row and the rightmost column* in the plot!\n",
    "\n",
    "This becomes more obvious if we have less datapoints. "
   ]
  },
  {
   "cell_type": "code",
   "execution_count": null,
   "metadata": {},
   "outputs": [],
   "source": [
    "# create sample data\n",
    "lon, lat, data = sample_data_3d(nlons=18, nlats=9)\n",
    "\n",
    "# this is never displayed!\n",
    "data[:, -1] = 5\n",
    "\n",
    "# ====\n",
    "\n",
    "ax = plt.axes(projection=ccrs.PlateCarree())\n",
    "\n",
    "ax.coastlines()\n",
    "\n",
    "h = ax.pcolormesh(lon, lat, data, transform=ccrs.PlateCarree())\n",
    "\n",
    "# plot the lat and lon data\n",
    "\n",
    "lons, lats = np.meshgrid(lon, lat)\n",
    "ax.plot(lons.flatten(), lats.flatten(), 'o', transform=ccrs.PlateCarree(), ms=4, c='r')\n",
    "\n",
    "ax.set_global()"
   ]
  },
  {
   "cell_type": "markdown",
   "metadata": {},
   "source": [
    "The red points show the original lat and lon coordinates - they should be in the center of the gridcells.\n",
    "\n",
    "Notice how there are only 8 rows and 17 columns displayed! This can be remedied by passing the edges instead of the centers of the gridcells:"
   ]
  },
  {
   "cell_type": "code",
   "execution_count": null,
   "metadata": {},
   "outputs": [],
   "source": [
    "print(lon)\n",
    "print(lat)"
   ]
  },
  {
   "cell_type": "code",
   "execution_count": null,
   "metadata": {},
   "outputs": [],
   "source": [
    "# create sample data\n",
    "lon, lat, data = sample_data_3d(18, 9)\n",
    "\n",
    "# ====\n",
    "\n",
    "ax = plt.axes(projection=ccrs.PlateCarree())\n",
    "\n",
    "ax.coastlines()\n",
    "\n",
    "LON = np.arange(-10, 351, 20)\n",
    "LAT = np.arange(-90, 91, 20)\n",
    "\n",
    "\n",
    "h = ax.pcolormesh(LON, LAT, data, transform=ccrs.PlateCarree())\n",
    "\n",
    "# plot the lat and lon data\n",
    "\n",
    "lons, lats = np.meshgrid(lon, lat)\n",
    "ax.plot(lons.flatten(), lats.flatten(), 'o', transform=ccrs.PlateCarree(), ms=4, c='r')\n",
    "\n",
    "ax.set_global()\n",
    "\n",
    "\n",
    "# ====\n",
    "\n",
    "print(LAT.shape, lat.shape)\n",
    "print(LON.shape, lon.shape)\n",
    "print(data.shape)\n"
   ]
  },
  {
   "cell_type": "markdown",
   "metadata": {},
   "source": [
    "Perfect. Notice how LAT (LON) has one more element than lat (lon) and data!\n",
    "\n",
    "### Exercise\n",
    "\n",
    " * apply the same correction for the cmip5 precipitation data"
   ]
  },
  {
   "cell_type": "code",
   "execution_count": null,
   "metadata": {},
   "outputs": [],
   "source": [
    "print(pr.lon.values)\n",
    "print('Delta lon:', np.unique(np.diff(pr.lon.values)))\n",
    "\n",
    "print(pr.lat.values)\n",
    "print('Delta lat:', np.unique(np.diff(pr.lat.values)))"
   ]
  },
  {
   "cell_type": "code",
   "execution_count": null,
   "metadata": {},
   "outputs": [],
   "source": [
    "# get data\n",
    "lon, lat, hist = pr.lon, pr.lat, pr.hist\n",
    "\n",
    "# plot\n",
    "\n",
    "ax = plt.axes(projection=ccrs.Robinson())\n",
    "\n",
    "ax.coastlines()\n",
    "\n",
    "# create coordinates of edges\n",
    "\n",
    "# LON = \n",
    "# LAT = \n",
    "\n",
    "ax.pcolormesh(lon, lat, hist, transform=ccrs.PlateCarree())\n",
    "\n",
    "ax.set_global()"
   ]
  },
  {
   "cell_type": "markdown",
   "metadata": {},
   "source": [
    "### Solution"
   ]
  },
  {
   "cell_type": "code",
   "execution_count": null,
   "metadata": {},
   "outputs": [],
   "source": [
    "# get data\n",
    "lon, lat, hist = pr.lon, pr.lat, pr.hist\n",
    "\n",
    "# plot\n",
    "\n",
    "ax = plt.axes(projection=ccrs.Robinson())\n",
    "\n",
    "ax.coastlines()\n",
    "\n",
    "# create coordinates of edges\n",
    "\n",
    "LON = np.arange(0, 361, 2.5)\n",
    "LAT = np.arange(-90, 91, 2.5)\n",
    "\n",
    "ax.pcolormesh(LON, LAT, hist, transform=ccrs.PlateCarree())\n",
    "\n",
    "ax.set_global()"
   ]
  },
  {
   "cell_type": "markdown",
   "metadata": {},
   "source": [
    "Of course, calculating the edges can be done in a function:"
   ]
  },
  {
   "cell_type": "code",
   "execution_count": null,
   "metadata": {},
   "outputs": [],
   "source": [
    "def _infer_interval_breaks(coord):\n",
    "    \"\"\"\n",
    "    >>> _infer_interval_breaks(np.arange(5))\n",
    "    array([-0.5,  0.5,  1.5,  2.5,  3.5,  4.5])\n",
    "    \"\"\"\n",
    "    coord = np.asarray(coord)\n",
    "    deltas = 0.5 * (coord[1:] - coord[:-1])\n",
    "    first = coord[0] - deltas[0]\n",
    "    last = coord[-1] + deltas[-1]\n",
    "    return np.r_[[first], coord[:-1] + deltas, [last]]"
   ]
  },
  {
   "cell_type": "code",
   "execution_count": null,
   "metadata": {},
   "outputs": [],
   "source": [
    "# create sample data\n",
    "lon, lat, data = sample_data_3d(18, 9)\n",
    "\n",
    "# ====\n",
    "\n",
    "ax = plt.axes(projection=ccrs.PlateCarree())\n",
    "\n",
    "ax.coastlines()\n",
    "\n",
    "LON = _infer_interval_breaks(lon)\n",
    "LAT = _infer_interval_breaks(lat)\n",
    "\n",
    "h = ax.pcolormesh(LON, LAT, data, transform=ccrs.PlateCarree())\n",
    "\n",
    "ax.set_global()"
   ]
  },
  {
   "cell_type": "markdown",
   "metadata": {},
   "source": [
    "I provide an advanced version of this function in `utils.py`"
   ]
  },
  {
   "cell_type": "code",
   "execution_count": null,
   "metadata": {},
   "outputs": [],
   "source": [
    "import utils\n",
    "\n",
    "from importlib import reload\n",
    "\n",
    "reload(utils)\n"
   ]
  },
  {
   "cell_type": "code",
   "execution_count": null,
   "metadata": {},
   "outputs": [],
   "source": [
    "# create sample data\n",
    "lon, lat, data = sample_data_3d(18, 9)\n",
    "\n",
    "# ====\n",
    "\n",
    "ax = plt.axes(projection=ccrs.PlateCarree())\n",
    "\n",
    "ax.coastlines()\n",
    "\n",
    "LON, LAT = utils.infer_interval_breaks(lon, lat)\n",
    "\n",
    "h = ax.pcolormesh(LON, LAT, data, transform=ccrs.PlateCarree())"
   ]
  },
  {
   "cell_type": "markdown",
   "metadata": {},
   "source": [
    "### Exercise\n",
    "\n",
    " * use `utils.infer_interval_breaks` for the cmip5 precipitation data"
   ]
  },
  {
   "cell_type": "code",
   "execution_count": null,
   "metadata": {},
   "outputs": [],
   "source": [
    "# get data\n",
    "lon, lat, hist = pr.lon, pr.lat, pr.hist\n",
    "\n",
    "# plot\n",
    "\n",
    "ax = plt.axes(projection=ccrs.Robinson())\n",
    "\n",
    "ax.coastlines()\n",
    "\n",
    "# replace here\n",
    "LON = np.arange(0, 361, 2.5)\n",
    "LAT = np.arange(-90, 91, 2.5)\n",
    "\n",
    "ax.pcolormesh(LON, LAT, hist, transform=ccrs.PlateCarree())\n",
    "\n",
    "ax.set_global()"
   ]
  },
  {
   "cell_type": "markdown",
   "metadata": {},
   "source": [
    "### Solution"
   ]
  },
  {
   "cell_type": "code",
   "execution_count": null,
   "metadata": {},
   "outputs": [],
   "source": [
    "# get data\n",
    "lon, lat, hist = pr.lon, pr.lat, pr.hist\n",
    "\n",
    "# plot\n",
    "\n",
    "ax = plt.axes(projection=ccrs.Robinson())\n",
    "\n",
    "ax.coastlines()\n",
    "\n",
    "LON, LAT = utils.infer_interval_breaks(lon, lat)\n",
    "\n",
    "ax.pcolormesh(LON, LAT, hist, transform=ccrs.PlateCarree())\n",
    "\n",
    "ax.set_global()"
   ]
  },
  {
   "cell_type": "markdown",
   "metadata": {},
   "source": [
    "## lat extends from -90...90\n",
    "\n",
    "Some models/ dataset have lat values that extend from -90..90... For example output from CESM (Community Earth System Model) or HadGEM (Hadley Centre Global Environment Model).\n",
    "\n",
    "It still makes sense to infer the interval breaks because else:\n",
    "\n",
    " * we would loose one row of data\n",
    " * the lat coordinates may still be the center of the gridcell, except for the two poles (this is e.g. the case for CESM)\n",
    "\n",
    "### Open random temperature field from CESM"
   ]
  },
  {
   "cell_type": "code",
   "execution_count": null,
   "metadata": {},
   "outputs": [],
   "source": [
    "fN = '../data/cesm_temp.nc'\n",
    "\n",
    "cesm = xr.open_dataset(fN)\n",
    "\n",
    "cesm.lat"
   ]
  },
  {
   "cell_type": "markdown",
   "metadata": {},
   "source": [
    "The problem exists:"
   ]
  },
  {
   "cell_type": "code",
   "execution_count": null,
   "metadata": {},
   "outputs": [],
   "source": [
    "ax = plt.axes(projection=ccrs.PlateCarree())\n",
    "\n",
    "ax.coastlines()\n",
    "\n",
    "ax.pcolormesh(cesm.lon, cesm.lat, cesm.temp, transform=ccrs.PlateCarree())\n",
    "\n",
    "ax.set_global()"
   ]
  },
  {
   "cell_type": "code",
   "execution_count": null,
   "metadata": {},
   "outputs": [],
   "source": [
    "ax = plt.axes(projection=ccrs.PlateCarree())\n",
    "\n",
    "ax.coastlines()\n",
    "\n",
    "LON, LAT = utils.infer_interval_breaks(cesm.lon, cesm.lat)\n",
    "ax.pcolormesh(LON, LAT, cesm.temp, transform=ccrs.PlateCarree())\n",
    "\n",
    "ax.set_global()"
   ]
  },
  {
   "cell_type": "markdown",
   "metadata": {},
   "source": [
    "This creates a warning (because lat is now outside of the allowd range). We can correct this by `clipping` the values to the range -90...90."
   ]
  },
  {
   "cell_type": "code",
   "execution_count": null,
   "metadata": {},
   "outputs": [],
   "source": [
    "np.clip?"
   ]
  },
  {
   "cell_type": "code",
   "execution_count": null,
   "metadata": {},
   "outputs": [],
   "source": [
    "ax = plt.axes(projection=ccrs.PlateCarree())\n",
    "\n",
    "ax.coastlines()\n",
    "\n",
    "LON, LAT = utils.infer_interval_breaks(cesm.lon, cesm.lat, clip=True)\n",
    "\n",
    "ax.pcolormesh(LON, LAT, cesm.temp, transform=ccrs.PlateCarree())\n",
    "\n",
    "ax.set_global()"
   ]
  },
  {
   "cell_type": "markdown",
   "metadata": {},
   "source": [
    "## Bonus: xarray\n",
    "\n",
    "Until now we used xarray only as 'data store' and did the plotting as\n",
    "\n",
    "    ax.plot(ds.lon, ds.lat. ds.data, ...)\n",
    "    \n",
    "However, `xarray` also has it's dedicated plotting functions, which allow to do:\n",
    "    \n",
    "    ds.data.plot.pcolormesh(ax=ax, ...)\n",
    "\n",
    "This plotting function already applies the `interval_breaks`. Note that `xarray` does some additional things under the hood, and cannot apply the clipping of the values.\n",
    "\n",
    "(There is much more to be said about plotting with xarray, here, I only want to mention the `interval_breaks` - thingy.)"
   ]
  },
  {
   "cell_type": "code",
   "execution_count": null,
   "metadata": {},
   "outputs": [],
   "source": [
    "ax = plt.axes(projection=ccrs.PlateCarree())\n",
    "\n",
    "ax.coastlines()\n",
    "\n",
    "cesm.temp.plot.pcolormesh(ax=ax, transform=ccrs.PlateCarree())\n",
    "\n",
    "ax.set_global()"
   ]
  },
  {
   "cell_type": "markdown",
   "metadata": {},
   "source": [
    "### Exercise\n",
    "\n",
    " * plot the cmip5 precipitation data with xarray"
   ]
  },
  {
   "cell_type": "code",
   "execution_count": null,
   "metadata": {},
   "outputs": [],
   "source": [
    "# code here"
   ]
  },
  {
   "cell_type": "markdown",
   "metadata": {},
   "source": [
    "### Solution"
   ]
  },
  {
   "cell_type": "code",
   "execution_count": null,
   "metadata": {},
   "outputs": [],
   "source": [
    "ax = plt.axes(projection=ccrs.Robinson())\n",
    "\n",
    "ax.coastlines()\n",
    "\n",
    "pr.hist.plot.pcolormesh(ax=ax, transform=ccrs.PlateCarree())\n",
    "\n",
    "ax.set_global()"
   ]
  }
 ],
 "metadata": {
  "kernelspec": {
   "display_name": "Python 3",
   "language": "python",
   "name": "python3"
  },
  "language_info": {
   "codemirror_mode": {
    "name": "ipython",
    "version": 3
   },
   "file_extension": ".py",
   "mimetype": "text/x-python",
   "name": "python",
   "nbconvert_exporter": "python",
   "pygments_lexer": "ipython3",
   "version": "3.5.4"
  }
 },
 "nbformat": 4,
 "nbformat_minor": 2
}
