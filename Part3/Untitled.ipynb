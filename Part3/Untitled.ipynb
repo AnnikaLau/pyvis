{
 "cells": [
  {
   "cell_type": "code",
   "execution_count": null,
   "metadata": {},
   "outputs": [],
   "source": [
    "import seaborn as sns"
   ]
  },
  {
   "cell_type": "code",
   "execution_count": null,
   "metadata": {},
   "outputs": [],
   "source": [
    "import numpy as np\n",
    "import matplotlib.pyplot as plt\n",
    "\n",
    "import cartopy.crs as ccrs\n",
    "import cartopy.feature as cfeature"
   ]
  },
  {
   "cell_type": "code",
   "execution_count": null,
   "metadata": {},
   "outputs": [],
   "source": [
    "%matplotlib inline"
   ]
  },
  {
   "cell_type": "code",
   "execution_count": null,
   "metadata": {},
   "outputs": [],
   "source": [
    "f, axes = plt.subplots(2, 2)\n",
    "\n",
    "plt.tight_layout()\n",
    "\n",
    "\n",
    "#plt.savefig('axes_axis.png')\n"
   ]
  },
  {
   "cell_type": "code",
   "execution_count": null,
   "metadata": {},
   "outputs": [],
   "source": [
    "f, axes = plt.subplots(1, 2)\n",
    "\n",
    "plt.tight_layout()\n",
    "\n",
    "sns.despine(ax=axes[0])\n",
    "\n",
    "#plt.savefig('axes_axis.png')\n",
    "\n",
    "for spine in axes[1].spines.values():\n",
    "    spine.set_color('red')\n",
    "\n",
    "for ax in axes:\n",
    "    ax.set_ylim(0, 0.5)\n",
    "    ax.set_aspect('equal')\n",
    "\n",
    "plt.savefig('spines.png')"
   ]
  },
  {
   "cell_type": "code",
   "execution_count": null,
   "metadata": {},
   "outputs": [],
   "source": [
    "f, axes = plt.subplots(1, 1)\n",
    "\n",
    "plt.tight_layout()\n",
    "\n",
    "\n",
    "\n"
   ]
  },
  {
   "cell_type": "code",
   "execution_count": null,
   "metadata": {},
   "outputs": [],
   "source": [
    "from matplotlib.figure import Figure\n",
    "# Save a reference to the matplotlib savefig implementation.\n",
    "mpl_savefig = Figure.savefig"
   ]
  },
  {
   "cell_type": "code",
   "execution_count": null,
   "metadata": {},
   "outputs": [],
   "source": [
    "mpl_savefig??"
   ]
  },
  {
   "cell_type": "code",
   "execution_count": null,
   "metadata": {},
   "outputs": [],
   "source": [
    "def savefig(self, fn, *args, **kwargs):\n",
    "    print('abc')\n",
    "    plt.draw()\n",
    "    return mpl_savefig(self, fn, *args, **kwargs)"
   ]
  },
  {
   "cell_type": "code",
   "execution_count": null,
   "metadata": {},
   "outputs": [],
   "source": [
    "def monkey_patch(include_diff=False):\n",
    "    # Monkey patch matplotlib to call our savefig instead of the standard\n",
    "    # version.\n",
    "    def sf(*args, **kwargs):\n",
    "        kwargs[\"include_diff\"] = kwargs.get(\"include_diff\", include_diff)\n",
    "        return savefig(*args, **kwargs)\n",
    "    \n",
    "    \n",
    "    sf.__doc__ = \"BLA\\n\" + mpl_savefig.__doc__\n",
    "    Figure.savefig = sf\n",
    "    plt.savefig = sf\n",
    "    \n",
    "monkey_patch()"
   ]
  },
  {
   "cell_type": "code",
   "execution_count": null,
   "metadata": {},
   "outputs": [],
   "source": [
    "monkey_patch()\n",
    "\n",
    "plt.savefig??"
   ]
  },
  {
   "cell_type": "code",
   "execution_count": null,
   "metadata": {},
   "outputs": [],
   "source": [
    "f, axes = plt.subplots()\n",
    "\n",
    "from tempfile import NamedTemporaryFile\n",
    "\n",
    "plt.savefig(NamedTemporaryFile(suffix=\".pdf\", delete=False))\n"
   ]
  },
  {
   "cell_type": "code",
   "execution_count": null,
   "metadata": {},
   "outputs": [],
   "source": []
  },
  {
   "cell_type": "code",
   "execution_count": null,
   "metadata": {},
   "outputs": [],
   "source": [
    "\n",
    "\n",
    "\n",
    "def sample_data_map(shape):\n",
    "    \"\"\"Returns `lons`, `lats`, and fake `data`\n",
    "\n",
    "    adapted from:\n",
    "    http://scitools.org.uk/cartopy/docs/v0.15/examples/axes_grid_basic.html\n",
    "    \"\"\"\n",
    "\n",
    "\n",
    "    nlons, nlats = shape\n",
    "    lats = np.linspace(-np.pi / 2, np.pi / 2, nlats)\n",
    "    lons = np.linspace(0, 2 * np.pi, nlons)\n",
    "    lons, lats = np.meshgrid(lons, lats)\n",
    "    wave = 0.75 * (np.sin(2 * lats) ** 8) * np.cos(4 * lons)\n",
    "    mean = 0.5 * np.cos(2 * lats) * ((np.sin(2 * lats)) ** 2 + 2)\n",
    "\n",
    "#     lats = np.rad2deg(lats)\n",
    "#     lons = np.rad2deg(lons)\n",
    "    dlat = 180. / nlats\n",
    "    dlon = 360. / nlons\n",
    "    \n",
    "    lats = np.linspace(-90 + dlat, 90 - dlat, nlats)\n",
    "    lons = np.linspace(0, 360 - dlon, nlons)\n",
    "\n",
    "    data = wave + mean\n",
    "\n",
    "    return lons, lats, data"
   ]
  },
  {
   "cell_type": "code",
   "execution_count": null,
   "metadata": {},
   "outputs": [],
   "source": [
    "# get data\n",
    "lons, lats, data = sample_data_map((90, 45))"
   ]
  },
  {
   "cell_type": "code",
   "execution_count": null,
   "metadata": {},
   "outputs": [],
   "source": [
    "def resize_colorbar2(ax):\n",
    "\n",
    "    def _inner(event):\n",
    "        posn = ax.get_position()\n",
    "        cbax.set_position([posn.x0, posn.y0 - 0.05, posn.width, 0.035])\n",
    "    return _inner\n",
    "   \n",
    "\n",
    "class rc(object):\n",
    "    \n",
    "    def __init__(self, ax):\n",
    "\n",
    "        super(rc, self).__init__()\n",
    "\n",
    "\n",
    "        self.f = ax.get_figure()\n",
    "        \n",
    "        \n",
    "        self.f.canvas.mpl_connect('draw_event', resize_colorbar2(ax))\n",
    "\n",
    "\n",
    "        monkey_patch()\n",
    "        #plt.draw()\n",
    "        #self.f.canvas.draw()\n",
    "        \n",
    "\n",
    "        \n",
    "\n",
    "\n",
    "f, ax = plt.subplots(1, 1, subplot_kw=dict(projection=ccrs.PlateCarree()))\n",
    "h = ax.pcolormesh(lons[:], lats, data[:, :], transform=ccrs.PlateCarree(), cmap='RdBu')\n",
    "ax.coastlines()\n",
    "\n",
    "cbax = f.add_axes([0, 0, 0.1, 0.1])\n",
    "cbar = plt.colorbar(h, cax=cbax, orientation='horizontal')\n",
    "rc(ax)\n",
    "\n",
    "\n",
    "#ax.set_extent([-180, 179, -90, 45], crs=ccrs.PlateCarree())\n",
    "\n",
    "#ax.set_global()\n",
    "\n",
    "#f.canvas.mpl_connect('draw_event', resize_colorbar2(ax))\n",
    "\n",
    "#plt.draw()\n",
    "\n",
    "#ax.set_xlim(-50, 150)\n",
    "\n",
    "\n",
    "plt.savefig('tst.pdf')"
   ]
  },
  {
   "cell_type": "code",
   "execution_count": null,
   "metadata": {},
   "outputs": [],
   "source": [
    "ax.set_global??"
   ]
  },
  {
   "cell_type": "code",
   "execution_count": null,
   "metadata": {},
   "outputs": [],
   "source": [
    "proj = ccrs.PlateCarree()"
   ]
  },
  {
   "cell_type": "code",
   "execution_count": null,
   "metadata": {},
   "outputs": [],
   "source": [
    "proj.x_limits"
   ]
  },
  {
   "cell_type": "code",
   "execution_count": null,
   "metadata": {},
   "outputs": [],
   "source": [
    "f, ax = plt.subplots(1, 1)\n",
    "h = ax.pcolormesh(lons[:], lats, data[:, :], cmap='RdBu')\n",
    "\n",
    "print(ax.xaxis.majorTicks[0].get_zorder())\n",
    "ax.tick_params(axis='both', zorder=1000)\n",
    "print(ax.xaxis.majorTicks[0].get_zorder())\n",
    "\n",
    "\n"
   ]
  },
  {
   "cell_type": "code",
   "execution_count": null,
   "metadata": {},
   "outputs": [],
   "source": []
  }
 ],
 "metadata": {
  "kernelspec": {
   "display_name": "Python 3",
   "language": "python",
   "name": "python3"
  },
  "language_info": {
   "codemirror_mode": {
    "name": "ipython",
    "version": 3
   },
   "file_extension": ".py",
   "mimetype": "text/x-python",
   "name": "python",
   "nbconvert_exporter": "python",
   "pygments_lexer": "ipython3",
   "version": "3.5.4"
  }
 },
 "nbformat": 4,
 "nbformat_minor": 2
}
