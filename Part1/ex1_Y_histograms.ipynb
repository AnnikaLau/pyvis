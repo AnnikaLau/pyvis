{
 "cells": [
  {
   "cell_type": "markdown",
   "metadata": {},
   "source": [
    "# Exercise 1.X - Histograms\n",
    "\n",
    "Until now we used only one axes element per figure, however you may want to add several subplots. Therefore, it is possible to have more than one axes element per figure."
   ]
  },
  {
   "cell_type": "code",
   "execution_count": null,
   "metadata": {},
   "outputs": [],
   "source": [
    "import matplotlib.pyplot as plt\n",
    "import numpy as np\n",
    "\n",
    "import xarray as xr\n",
    "\n",
    "\n",
    "%matplotlib inline"
   ]
  },
  {
   "cell_type": "markdown",
   "metadata": {},
   "source": [
    "## Create/ load data\n",
    "\n",
    "We use Station Data for Switzerland - Temperature & Precip, but this time not the climatology but the time series.\n",
    "\n",
    "The data is avaliable from [MeteoSwiss](http://www.meteoswiss.admin.ch/home/climate/past/homogenous-monthly-data.html).\n",
    "\n",
    "The data has already been [retrieved and postprocessed](../data/prepare_data_MCH.ipynb).\n",
    "\n"
   ]
  },
  {
   "cell_type": "code",
   "execution_count": null,
   "metadata": {},
   "outputs": [],
   "source": [
    "mean = [0, 0]\n",
    "cov = [[1, 1], [1, 2]]\n",
    "x, y = np.random.multivariate_normal(mean, cov, 10000).T"
   ]
  },
  {
   "cell_type": "code",
   "execution_count": null,
   "metadata": {},
   "outputs": [],
   "source": [
    "def load_mch(station, annual=True):\n",
    "    fN = '../data/MCH_HOM_{}.nc'.format(station)\n",
    "    return xr.open_dataset(fN)\n",
    "    \n",
    "\n",
    "BAS = load_mch('BAS')\n",
    "DAV = load_mch('DAV')\n",
    "\n",
    "SAE = load_mch('SAE')\n",
    "\n",
    "GSB = load_mch('GSB')"
   ]
  },
  {
   "cell_type": "markdown",
   "metadata": {},
   "source": [
    "## Histogram\n",
    "\n",
    "It's quite easy to create a histogram:"
   ]
  },
  {
   "cell_type": "code",
   "execution_count": null,
   "metadata": {},
   "outputs": [],
   "source": [
    "plt.hist(x);"
   ]
  },
  {
   "cell_type": "markdown",
   "metadata": {},
   "source": [
    "`hist` takes many parameters:"
   ]
  },
  {
   "cell_type": "code",
   "execution_count": null,
   "metadata": {},
   "outputs": [],
   "source": [
    "plt.hist?"
   ]
  },
  {
   "cell_type": "code",
   "execution_count": null,
   "metadata": {},
   "outputs": [],
   "source": [
    "plt.hist(y,\n",
    "         bins=30,               # number of bins\n",
    "         normed=True,           # percentage instead of cound\n",
    "         histtype='stepfilled', # don't apply the edgecolor to the individual bars\n",
    "         facecolor='steelblue',\n",
    "         edgecolor='0.1');"
   ]
  },
  {
   "cell_type": "markdown",
   "metadata": {},
   "source": [
    "## Exercises\n",
    "\n",
    " * Plot the distribution of precipitation in Basel."
   ]
  },
  {
   "cell_type": "code",
   "execution_count": null,
   "metadata": {},
   "outputs": [],
   "source": [
    "# plot here\n",
    "\n"
   ]
  },
  {
   "cell_type": "markdown",
   "metadata": {},
   "source": [
    "### Solution"
   ]
  },
  {
   "cell_type": "code",
   "execution_count": null,
   "metadata": {},
   "outputs": [],
   "source": [
    "plt.hist(BAS.Precipitation, bins=20);"
   ]
  },
  {
   "cell_type": "markdown",
   "metadata": {},
   "source": [
    "### Exercise\n",
    "\n",
    " * Plot the distribution of temperature in Basel and Davos in the same figure.\n",
    " * Use `alpha` to make them transparent."
   ]
  },
  {
   "cell_type": "code",
   "execution_count": null,
   "metadata": {},
   "outputs": [],
   "source": [
    "# code here"
   ]
  },
  {
   "cell_type": "markdown",
   "metadata": {},
   "source": [
    "### Solution"
   ]
  },
  {
   "cell_type": "code",
   "execution_count": null,
   "metadata": {},
   "outputs": [],
   "source": [
    "# code here\n",
    "\n",
    "plt.hist(BAS.Temperature, bins=20, alpha=0.5)\n",
    "plt.hist(DAV.Temperature, bins=20, alpha=0.5);"
   ]
  },
  {
   "cell_type": "markdown",
   "metadata": {},
   "source": [
    "## 2D histograms and hexbin\n",
    "\n",
    "We can also do 2D histograms."
   ]
  },
  {
   "cell_type": "code",
   "execution_count": null,
   "metadata": {},
   "outputs": [],
   "source": [
    "plt.hist2d(x, y, bins=25, cmap='Reds')\n",
    "cb = plt.colorbar()\n",
    "cb.set_label('count per bin')"
   ]
  },
  {
   "cell_type": "code",
   "execution_count": null,
   "metadata": {},
   "outputs": [],
   "source": [
    "plt.hexbin?"
   ]
  },
  {
   "cell_type": "code",
   "execution_count": null,
   "metadata": {},
   "outputs": [],
   "source": [
    "plt.hexbin(x, y, gridsize=20, cmap='Reds')\n",
    "cb = plt.colorbar()\n",
    "cb.set_label('count per bin')"
   ]
  },
  {
   "cell_type": "markdown",
   "metadata": {},
   "source": [
    "### Exercise\n",
    "\n",
    " * Is there a correlation between temperatures in Basel and at Col du Grand St-Bernard (GSB)? \n",
    "   * Use hist2d to find out"
   ]
  },
  {
   "cell_type": "code",
   "execution_count": null,
   "metadata": {},
   "outputs": [],
   "source": [
    "# code here\n"
   ]
  },
  {
   "cell_type": "markdown",
   "metadata": {},
   "source": [
    "### Solution"
   ]
  },
  {
   "cell_type": "code",
   "execution_count": null,
   "metadata": {},
   "outputs": [],
   "source": [
    "plt.hist2d(GSB.Temperature, BAS.Temperature, bins=20, cmap='Blues');\n",
    "\n",
    "cb = plt.colorbar()\n",
    "cb.set_label('count per bin')"
   ]
  },
  {
   "cell_type": "markdown",
   "metadata": {},
   "source": [
    "### Exercise\n",
    "\n",
    " * Is there a correlation between precipitation in Basel and at Col du Grand St-Bernard (GSB)? \n",
    "   * User hexbin to find out\n",
    "   * note: precipitation at GSB contains NaNs - hexbin cannot handle that so we need to get rid of them"
   ]
  },
  {
   "cell_type": "code",
   "execution_count": null,
   "metadata": {},
   "outputs": [],
   "source": [
    "x = GSB.Precipitation.values\n",
    "y = BAS.Precipitation.values\n",
    "\n",
    "# select those that ar not nan\n",
    "sel = ~(np.isnan(x) | np.isnan(y))\n",
    "\n",
    "x = x[sel]\n",
    "y = y[sel]\n",
    "\n",
    "# code here\n"
   ]
  },
  {
   "cell_type": "markdown",
   "metadata": {},
   "source": [
    "### Solution"
   ]
  },
  {
   "cell_type": "code",
   "execution_count": null,
   "metadata": {},
   "outputs": [],
   "source": [
    "x = GSB.Precipitation.values\n",
    "y = BAS.Precipitation.values\n",
    "\n",
    "sel = ~(np.isnan(x) | np.isnan(y))\n",
    "\n",
    "x = x[sel]\n",
    "y = y[sel]\n",
    "\n",
    "\n",
    "plt.hexbin(x, y, bins=20, cmap='Blues', gridsize=20);\n",
    "\n",
    "cb = plt.colorbar()\n",
    "cb.set_label('count per bin');"
   ]
  },
  {
   "cell_type": "markdown",
   "metadata": {},
   "source": [
    "### Bonus exercise\n",
    "\n",
    "  * add both plots in one figure\n",
    "  * add x-and y-labels\n",
    "  * add titles\n",
    "  \n",
    "  \n",
    "To add the colorbars you have to do it like so:\n",
    "  \n",
    "hist2d:\n",
    "\n",
    "    h = ax.hist2d(...)\n",
    "    cb = plt.colorbar(h[3], ax=ax)\n",
    "\n",
    "hexbin:\n",
    "\n",
    "    h = ax.hexbin(...);\n",
    "    cb = plt.colorbar(h, ax=ax)\n"
   ]
  },
  {
   "cell_type": "code",
   "execution_count": null,
   "metadata": {},
   "outputs": [],
   "source": [
    "# code here\n",
    "\n"
   ]
  },
  {
   "cell_type": "markdown",
   "metadata": {},
   "source": [
    "### Solution"
   ]
  },
  {
   "cell_type": "code",
   "execution_count": null,
   "metadata": {},
   "outputs": [],
   "source": [
    "f, axes = plt.subplots(1, 2)\n",
    "\n",
    "ax = axes[0]\n",
    "\n",
    "h = ax.hist2d(GSB.Temperature, BAS.Temperature, bins=20, cmap='Blues');\n",
    "\n",
    "cb = plt.colorbar(h[3], ax=ax)\n",
    "\n",
    "ax.set_title('Temperature')\n",
    "ax.set_title('a', loc='left', weight='semibold')\n",
    "\n",
    "\n",
    "ax.set_xlabel('GSB [°C]')\n",
    "ax.set_ylabel('BAS [°C]')\n",
    "\n",
    "# =============================\n",
    "\n",
    "ax = axes[1]\n",
    "h = ax.hexbin(x, y, bins=20, cmap='Blues', gridsize=20);\n",
    "\n",
    "cb = plt.colorbar(h, ax=ax)\n",
    "cb.set_label('count per bin');\n",
    "\n",
    "ax.set_title('Precipitation')\n",
    "ax.set_title('b', loc='left', weight='bold')\n",
    "\n",
    "ax.set_xlabel('GSB [mm / yr]')\n",
    "ax.set_ylabel('BAS [mm / yr]')\n",
    "\n",
    "\n",
    "f.set_size_inches(15 / 2.54, 7 / 2.54)\n",
    "\n",
    "plt.tight_layout()"
   ]
  },
  {
   "cell_type": "code",
   "execution_count": null,
   "metadata": {},
   "outputs": [],
   "source": []
  }
 ],
 "metadata": {
  "kernelspec": {
   "display_name": "Python 3",
   "language": "python",
   "name": "python3"
  },
  "language_info": {
   "codemirror_mode": {
    "name": "ipython",
    "version": 3
   },
   "file_extension": ".py",
   "mimetype": "text/x-python",
   "name": "python",
   "nbconvert_exporter": "python",
   "pygments_lexer": "ipython3",
   "version": "3.5.4"
  }
 },
 "nbformat": 4,
 "nbformat_minor": 2
}
