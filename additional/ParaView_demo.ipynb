{
 "cells": [
  {
   "cell_type": "markdown",
   "metadata": {},
   "source": [
    "<img src=\"../figures/ParaView_demo/ParaView_Logo.svg\"   width=\"400\">\n",
    "\n",
    "\n",
    "<font size=\"6\"><b>ParaView Demo</b></font>"
   ]
  },
  {
   "cell_type": "markdown",
   "metadata": {},
   "source": [
    "Download: https://www.paraview.org/download/"
   ]
  },
  {
   "cell_type": "markdown",
   "metadata": {},
   "source": [
    "source: https://www.paraview.org/, https://www.paraview.org/overview/\n",
    "\n",
    "- ParaView is open-source, \n",
    "- Available on multiple platforms (Linux, macOS, Windows)\n",
    "- Has both interactive and batch processing capabilities.\n",
    "- It was developed to analyze extremely large datasets using distributed memory computing resources.\n",
    "- It can be run on supercomputers to analyze datasets of petascale size as well as on laptops for smaller data.\n",
    "- Has become an integral tool in many national laboratories, universities and industry, and has won several awards related to high performance computation.\n",
    "- The ParaView project started in 2000 as a collaborative effort between Kitware Inc. and Los Alamos National Laboratory. "
   ]
  },
  {
   "cell_type": "markdown",
   "metadata": {},
   "source": [
    "[Official Tutorial](https://www.paraview.org/Wiki/The_ParaView_Tutorial)"
   ]
  },
  {
   "cell_type": "markdown",
   "metadata": {},
   "source": [
    "Further Comments:\n",
    "\n",
    "- It is available and well supported on Piz Daint (CSCS, Swiss National Supercomputing Centre)\n",
    "- Uses VTK (visualization tool kit) in the backend\n",
    "- Provides Python wrappers!\n",
    "- Supports GPUs"
   ]
  },
  {
   "cell_type": "markdown",
   "metadata": {},
   "source": [
    "<font size=\"4\"><b>Filters</b></font>\n",
    "- Calculator: For creating new variables and transforming coordinates (Coordinate results)\n",
    "- Slice\n",
    "- Contour\n",
    "- Clip\n",
    "....."
   ]
  },
  {
   "cell_type": "markdown",
   "metadata": {},
   "source": [
    "Coordinate transform\n",
    "\n",
    "iHat\\*(coordsZ)\\*cos(coordsY/\\*3.14/180)\\*cos(coordsX\\*3.14/180)\t+\t\n",
    "jHat\\*(coordsZ)\\*cos(coordsY\\*3.14/180)\\*sin(coordsX\\*3.14/180)\t+\t\n",
    "kHat\\*(coordsZ)\\*sin(coordsY\\*3.14/180)"
   ]
  },
  {
   "cell_type": "code",
   "execution_count": null,
   "metadata": {},
   "outputs": [],
   "source": []
  }
 ],
 "metadata": {
  "kernelspec": {
   "display_name": "Python 3",
   "language": "python",
   "name": "python3"
  },
  "language_info": {
   "codemirror_mode": {
    "name": "ipython",
    "version": 3
   },
   "file_extension": ".py",
   "mimetype": "text/x-python",
   "name": "python",
   "nbconvert_exporter": "python",
   "pygments_lexer": "ipython3",
   "version": "3.6.11"
  },
  "toc": {
   "base_numbering": 1,
   "nav_menu": {},
   "number_sections": true,
   "sideBar": true,
   "skip_h1_title": false,
   "title_cell": "Table of Contents",
   "title_sidebar": "Contents",
   "toc_cell": false,
   "toc_position": {},
   "toc_section_display": true,
   "toc_window_display": false
  }
 },
 "nbformat": 4,
 "nbformat_minor": 4
}
